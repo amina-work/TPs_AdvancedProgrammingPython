{
 "cells": [
  {
   "cell_type": "markdown",
   "id": "6688fc8f-654d-44ed-9c38-888ed29413a6",
   "metadata": {},
   "source": [
    "<center><img style=\"text-align:center; margin:0 auto\" src=\"https://drive.google.com/uc?export=view&id=15uzPyvfgv3obSupxZAFHY21YA82yFs0M\" title=\"Logo UMAB\" alt=\"Logo UMAB\" width=\"221\" height=\"236\">\n",
    "<center>\n",
    "<b>Université Abdelhamid Ibn Badis - Mostaganem\n",
    "<br>Faculté des Sciences Exactes et de l'Informatique\n",
    "<br>Département de Mathématiques et Informatique\n",
    "<br>Master IA4IOT\n",
    "<br>Programmation Avancée (Python)\n",
    "</b>\n",
    "</center>\n",
    "\n",
    "---\n"
   ]
  },
  {
   "cell_type": "markdown",
   "id": "60c559da-7ec3-40da-8bdd-8a4852b58e5e",
   "metadata": {},
   "source": [
    "# <center>TP 05 : Fonctions</center>\n",
    "<b>Objectif</b> : Dans ce TP, nous allons traiter plusieurs exercices sur l'utilisation des fonctions avec le langage Python."
   ]
  },
  {
   "cell_type": "markdown",
   "id": "6ffd9439-8bfc-4ae2-be67-5322090ec7aa",
   "metadata": {},
   "source": [
    "---\n",
    "<center><b>Nom et prénoms : Derdour Amina\n",
    "<br>Groupe : M1-IA4IoT\n",
    "<br>(double cliquez sur la cellule)\n",
    "</center></br></b>\n",
    "\n",
    "\n",
    "---"
   ]
  },
  {
   "cell_type": "markdown",
   "id": "e60ceb40-2f1a-4543-8ba0-88a1f357be27",
   "metadata": {},
   "source": [
    "<b>Exercice 1 :</b> Créez une fonction qui reçoit deux valeurs (paramètres). La fonction additionne le premier paramètre avec le second, divise le résultat de la somme par 3 puis retourne la valeur obtenue. Le programme demande par la suite à l'utilisateur de saisir deux nombres et invoque la fonction (la fonction ne doit pas contenir de fonction input).\n",
    "**<center>Exemple d'exécution</center>**\n",
    "<p style=\"padding: 10px; border: 1px solid black;\">\n",
    "<b style=\"color:blue;\">Entrer nombre 1 : 5</b>\n",
    "<b style=\"color:blue;\"><br>Entrer nombre 2 : 7</b>\n",
    "<br>Résultat : 4\n",
    "</p>"
   ]
  },
  {
   "cell_type": "code",
   "execution_count": 5,
   "id": "931b85ea-822d-4156-bf09-e96e43f73feb",
   "metadata": {},
   "outputs": [
    {
     "name": "stdout",
     "output_type": "stream",
     "text": [
      "5.0\n"
     ]
    }
   ],
   "source": [
    "#écrire votre code ici\n",
    "def addition(a, b):\n",
    "    return (a + b) / 3\n",
    "a = int(input(\"Donnez la valeur de a:\"))\n",
    "b = int(input(\"Donnez la valeur de b:\"))\n",
    "print(addition(a, b))"
   ]
  },
  {
   "cell_type": "markdown",
   "id": "a483e0f9-3fe4-4292-aa69-dc44ef2a8818",
   "metadata": {},
   "source": [
    "<b>Exercice 2 :</b> Définir une fonction areaOfCircle(r) qui reçoit le rayon d'un cercle puis calcule et retourne sa surface (surface = rayon * rayon * pi)."
   ]
  },
  {
   "cell_type": "code",
   "execution_count": 8,
   "id": "a4c20ee0-5f9f-4791-989e-49de24a5555f",
   "metadata": {},
   "outputs": [
    {
     "name": "stdout",
     "output_type": "stream",
     "text": [
      "314.16\n"
     ]
    }
   ],
   "source": [
    "import math #importer la bibliothèque math (pi, sin, cos, pow, ...)\n",
    "def areaOfCircle(r):\n",
    "    #écrire votre code ici\n",
    "    return format(r * r * math.pi, \".2f\")\n",
    "    #print(math.pi) #obtenir la valeur de pi\n",
    "print(areaOfCircle(10)) #doit afficher 314.16"
   ]
  },
  {
   "cell_type": "markdown",
   "id": "da8e65bf-9b76-4e0c-aca5-02d78dc37845",
   "metadata": {},
   "source": [
    "<b>Exercice 3 :</b> Écrire une fonction (diviser2) qui reçoit deux paramètres, un nombre de départ (a) et un nombre d'étapes (b). La fonction divise le nombre a par 2 b fois et affiche le résultat à chaque itération. La fonction ne retourne pas de valeur. L'exécution de l'instruction suivante affichera :\n",
    "```python\n",
    "diviser2(5000, 10)\n",
    "```\n",
    "**<center>Résultat d'exécution</center>**\n",
    "Etape # 1 50000\n",
    "<br>Etape # 2 25000.0\n",
    "<br>Etape # 3 12500.0\n",
    "<br>Etape # 4 6250.0\n",
    "<br>Etape # 5 3125.0\n",
    "<br>Etape # 6 1562.5\n",
    "<br>Etape # 7 781.25\n",
    "<br>Etape # 8 390.625\n",
    "<br>Etape # 9 195.3125\n",
    "<br>Etape # 10 97.65625\n",
    "</p>"
   ]
  },
  {
   "cell_type": "code",
   "execution_count": 1,
   "id": "6d8f3de0-44f0-4cbc-8b17-660a8e802d07",
   "metadata": {},
   "outputs": [
    {
     "ename": "RecursionError",
     "evalue": "maximum recursion depth exceeded in comparison",
     "output_type": "error",
     "traceback": [
      "\u001b[1;31m---------------------------------------------------------------------------\u001b[0m",
      "\u001b[1;31mRecursionError\u001b[0m                            Traceback (most recent call last)",
      "Cell \u001b[1;32mIn [1], line 13\u001b[0m\n\u001b[0;32m     10\u001b[0m     \u001b[39mfor\u001b[39;00m i \u001b[39min\u001b[39;00m \u001b[39mrange\u001b[39m(b):\n\u001b[0;32m     11\u001b[0m         \u001b[39mprint\u001b[39m(\u001b[39m\"\u001b[39m\u001b[39mEtape #\u001b[39m\u001b[39m\"\u001b[39m, i \u001b[39m+\u001b[39m \u001b[39m1\u001b[39m, div2(a\u001b[39m/\u001b[39m\u001b[39m2\u001b[39m, b))\n\u001b[1;32m---> 13\u001b[0m div2(\u001b[39m50000\u001b[39;49m, \u001b[39m10\u001b[39;49m)\n",
      "Cell \u001b[1;32mIn [1], line 11\u001b[0m, in \u001b[0;36mdiv2\u001b[1;34m(a, b)\u001b[0m\n\u001b[0;32m      9\u001b[0m \u001b[39mdef\u001b[39;00m \u001b[39mdiv2\u001b[39m(a, b):\n\u001b[0;32m     10\u001b[0m     \u001b[39mfor\u001b[39;00m i \u001b[39min\u001b[39;00m \u001b[39mrange\u001b[39m(b):\n\u001b[1;32m---> 11\u001b[0m         \u001b[39mprint\u001b[39m(\u001b[39m\"\u001b[39m\u001b[39mEtape #\u001b[39m\u001b[39m\"\u001b[39m, i \u001b[39m+\u001b[39m \u001b[39m1\u001b[39m, div2(a\u001b[39m/\u001b[39;49m\u001b[39m2\u001b[39;49m, b))\n",
      "Cell \u001b[1;32mIn [1], line 11\u001b[0m, in \u001b[0;36mdiv2\u001b[1;34m(a, b)\u001b[0m\n\u001b[0;32m      9\u001b[0m \u001b[39mdef\u001b[39;00m \u001b[39mdiv2\u001b[39m(a, b):\n\u001b[0;32m     10\u001b[0m     \u001b[39mfor\u001b[39;00m i \u001b[39min\u001b[39;00m \u001b[39mrange\u001b[39m(b):\n\u001b[1;32m---> 11\u001b[0m         \u001b[39mprint\u001b[39m(\u001b[39m\"\u001b[39m\u001b[39mEtape #\u001b[39m\u001b[39m\"\u001b[39m, i \u001b[39m+\u001b[39m \u001b[39m1\u001b[39m, div2(a\u001b[39m/\u001b[39;49m\u001b[39m2\u001b[39;49m, b))\n",
      "    \u001b[1;31m[... skipping similar frames: div2 at line 11 (2970 times)]\u001b[0m\n",
      "Cell \u001b[1;32mIn [1], line 11\u001b[0m, in \u001b[0;36mdiv2\u001b[1;34m(a, b)\u001b[0m\n\u001b[0;32m      9\u001b[0m \u001b[39mdef\u001b[39;00m \u001b[39mdiv2\u001b[39m(a, b):\n\u001b[0;32m     10\u001b[0m     \u001b[39mfor\u001b[39;00m i \u001b[39min\u001b[39;00m \u001b[39mrange\u001b[39m(b):\n\u001b[1;32m---> 11\u001b[0m         \u001b[39mprint\u001b[39m(\u001b[39m\"\u001b[39m\u001b[39mEtape #\u001b[39m\u001b[39m\"\u001b[39m, i \u001b[39m+\u001b[39m \u001b[39m1\u001b[39m, div2(a\u001b[39m/\u001b[39;49m\u001b[39m2\u001b[39;49m, b))\n",
      "Cell \u001b[1;32mIn [1], line 10\u001b[0m, in \u001b[0;36mdiv2\u001b[1;34m(a, b)\u001b[0m\n\u001b[0;32m      9\u001b[0m \u001b[39mdef\u001b[39;00m \u001b[39mdiv2\u001b[39m(a, b):\n\u001b[1;32m---> 10\u001b[0m     \u001b[39mfor\u001b[39;00m i \u001b[39min\u001b[39;00m \u001b[39mrange\u001b[39m(b):\n\u001b[0;32m     11\u001b[0m         \u001b[39mprint\u001b[39m(\u001b[39m\"\u001b[39m\u001b[39mEtape #\u001b[39m\u001b[39m\"\u001b[39m, i \u001b[39m+\u001b[39m \u001b[39m1\u001b[39m, div2(a\u001b[39m/\u001b[39m\u001b[39m2\u001b[39m, b))\n",
      "\u001b[1;31mRecursionError\u001b[0m: maximum recursion depth exceeded in comparison"
     ]
    }
   ],
   "source": [
    "def diviser2(a,b):\n",
    "    #écrire votre code ici\n",
    "    for i in range(b):\n",
    "        print(\"Etape #\", i + 1, a)\n",
    "        a /= 2\n",
    "    \n",
    "#diviser2(50000, 10) #tester la fonction\n",
    "#recusive version\n",
    "def div2(a, b):\n",
    "    for i in range(b):\n",
    "        print(\"Etape #\", i + 1, div2(a/2, b))\n",
    "        \n",
    "div2(50000, 10)"
   ]
  },
  {
   "cell_type": "markdown",
   "id": "96ba9a15-73fb-4eaa-8fd4-0f033d3b5979",
   "metadata": {},
   "source": [
    "<b>Mini projet 1 :</b> vous venez de vous installer aux États Unis d'Amérique, mais vous avez beaucoup de mal à comprendre leurs unités de mesure (Murica yeaaaah!).\n",
    "<center><img style=\"text-align:center; margin:0 auto\" src=\"https://drive.google.com/uc?export=view&id=1JiHx-tlp6sKEmvXq-zR6-8GHhysOn556\" title=\"Imperial/Metric\" alt=\"Imperial/Metric\" width=\"500\" height=\"500\"></center>\n",
    "\n",
    "Étant donné que vous êtes un(e) informaticien(ne), vous décidez de créer une petite application de conversion des unités de mesure qui vous simplifiera la vie !  \n",
    "Ce programme comportera plusieurs fonctions de conversion :\n",
    "* Miles en kilomètres (1 mile = 1.6 kilomètres)\n",
    "* Fahrenheit en Celsius (1 Celsius = (F - 32) * 5 / 9)\n",
    "* Gallons en litres (1 gallon = 3.9 litres)\n",
    "* Pouces (inches) en centimètres (1 pouce = 2.54 cm)\n",
    "Le programme possèdes aussi une fonction main qui permet d'interagir avec l'utilisateur en lui permettant de choisir la conversion. Par exemple :  \n",
    "\n",
    "**<center>Exemple d'exécution</center>**\n",
    "<p style=\"padding: 10px; border: 1px solid black;\">\n",
    "Mon convertisseur  \n",
    "1 : Miles en KM  \n",
    "<br>2 : Fahrenheit en Celsius  \n",
    "<br>3 : Gallons en Litres  \n",
    "<br>4 : Pouces en centimètres\n",
    "<br>5 : Quitter\n",
    "<b style=\"color:blue;\"><br>Entrez votre choix : 7</b>\n",
    "<b style=\"color:blue;\"><br>Option introuvable. Essayez à nouveau : 3</b>\n",
    "<b style=\"color:blue;\">Donnez le nombre de Gallons : 5</b>\n",
    "<br>5 Gallons =  Celsius  \n",
    "<b style=\"color:blue;\"><br>Entrez votre choix : 5</b>\n",
    "<br>Au revoir ! \n",
    "</p>\n"
   ]
  },
  {
   "cell_type": "code",
   "execution_count": 15,
   "id": "5d04d472-7c54-4552-90fd-e59b96da6241",
   "metadata": {},
   "outputs": [
    {
     "name": "stdout",
     "output_type": "stream",
     "text": [
      "Mon converstisseur 1: Miles en KM\n",
      "2: Fahrenheit en Celsius\n",
      "3: Gallons en Litres\n",
      "4: Pouces en centimètres\n",
      "5: Quitter\n",
      "1.0 Miles = 1.60 KM\n",
      "1.0 F = -17.22 Celsius\n",
      "1.0 Gallons = 3.90 Litres\n",
      "1.0 Pouces = 2.54 Centimetres\n",
      "Au revoir!\n"
     ]
    }
   ],
   "source": [
    "def km(a):\n",
    "    new = a * 1.6\n",
    "    result = str(a) + \" Miles = \" + str(format(new, \".2f\")) + \" KM\"\n",
    "    return result\n",
    "    \n",
    "def celsius(a):\n",
    "    new = (a - 32) * 5 / 9\n",
    "    result = str(a) + \" F = \" + str(format(new, \".2f\")) + \" Celsius\"\n",
    "    return result\n",
    "\n",
    "def litres(a):\n",
    "    new = a * 3.9\n",
    "    result = str(a) + \" Gallons = \" + str(format(new, \".2f\")) + \" Litres\"\n",
    "    return result\n",
    "    \n",
    "\n",
    "def centimetres(a):\n",
    "    new = a * 2.54\n",
    "    result = str(a) + \" Pouces = \" + str(format(new, \".2f\")) + \" Centimetres\"\n",
    "    return result\n",
    "\n",
    "\n",
    "def main():\n",
    "    print(\"Mon converstisseur 1: Miles en KM\", \"2: Fahrenheit en Celsius\", \"3: Gallons en Litres\", \"4: Pouces en centimètres\", \"5: Quitter\", sep=\"\\n\")\n",
    "    while True:\n",
    "        choice = int(input(\"Entrez votre choix: \"))\n",
    "        while choice > 5:\n",
    "            choice = int(input(\"Option introuvable. Essayez à nouveau:\"))\n",
    "        if choice == 1:\n",
    "            nbre = float(input(\"Donnez le nombre de Miles:\"))\n",
    "            print(km(nbre))\n",
    "        elif choice == 2:\n",
    "            nbre = float(input(\"Donnez le nombre de Fahrenheit:\"))\n",
    "            print(celsius(nbre))\n",
    "        elif choice == 3:\n",
    "            nbre = float(input(\"Donnez le nombre de Gallons:\"))\n",
    "            print(litres(nbre))\n",
    "        elif choice == 4:\n",
    "            nbre = float(input(\"Donnez le nombre de Pouces:\"))\n",
    "            print(centimetres(nbre))\n",
    "        elif choice == 5:\n",
    "            print(\"Au revoir!\")\n",
    "            break\n",
    "\n",
    "main()"
   ]
  },
  {
   "cell_type": "markdown",
   "id": "7274f41c-12a5-44a6-af6e-ca5000abde35",
   "metadata": {},
   "source": [
    "**<center>Évaluation : Merci d'évaluer ce chapitre en utilisant <a href=\"https://forms.gle/8vcvgeV8thimXAHY6\">ce lien</a>. Merci pour votre collaboration !</br></center>**"
   ]
  }
 ],
 "metadata": {
  "kernelspec": {
   "display_name": "Python 3.11.0 64-bit",
   "language": "python",
   "name": "python3"
  },
  "language_info": {
   "codemirror_mode": {
    "name": "ipython",
    "version": 3
   },
   "file_extension": ".py",
   "mimetype": "text/x-python",
   "name": "python",
   "nbconvert_exporter": "python",
   "pygments_lexer": "ipython3",
   "version": "3.11.0"
  },
  "vscode": {
   "interpreter": {
    "hash": "eb15da00ddf7abc474b86d37ac6c5c9c8600f29cd0032e6e2de527fbe08602fc"
   }
  }
 },
 "nbformat": 4,
 "nbformat_minor": 5
}

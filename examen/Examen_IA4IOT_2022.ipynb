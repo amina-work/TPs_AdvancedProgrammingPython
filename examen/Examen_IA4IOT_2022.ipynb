{
 "cells": [
  {
   "cell_type": "markdown",
   "id": "222928cb-b34b-4326-9e41-d1fba36a5d9b",
   "metadata": {},
   "source": [
    "<center><img style=\"text-align:center; margin:0 auto\" src=\"https://drive.google.com/uc?export=view&id=15uzPyvfgv3obSupxZAFHY21YA82yFs0M\" title=\"Logo UMAB\" alt=\"Logo UMAB\" width=\"221\" height=\"236\">\n",
    "<center>\n",
    "<b>Université Abdelhamid Ibn Badis - Mostaganem\n",
    "<br>Faculté des Sciences Exactes et de l'Informatique\n",
    "<br>Département de Mathématiques et Informatique\n",
    "<br>Master IA4IOT\n",
    "<br>Programmation Avancée (Python)\n",
    "<br>2022-2023\n",
    "</b>\n",
    "</center>\n",
    "\n",
    "---"
   ]
  },
  {
   "cell_type": "markdown",
   "id": "3b2abd60-bc14-495b-886b-db6d56b32904",
   "metadata": {},
   "source": [
    "# <center>EXAMEN<br>Durée : 01H30</center>"
   ]
  },
  {
   "attachments": {},
   "cell_type": "markdown",
   "id": "811f94c1-f433-4f3b-845b-616759316d6d",
   "metadata": {},
   "source": [
    "---\n",
    "<center><b>Nom et prénoms : Derdour Amina\n",
    "<br>(double cliquez sur la cellule)\n",
    "</center></br></b>\n",
    "\n",
    "---\n"
   ]
  },
  {
   "cell_type": "markdown",
   "id": "3e7b4b58-6ef1-467c-9bbc-f034e10c7518",
   "metadata": {},
   "source": [
    "<center><img style=\"text-align:center; margin:0 auto\" src=\"https://drive.google.com/uc?export=view&id=1RTcp8EJfy4cPzXB2zqUwcg420Vp44kQ9\" title=\"FIFA World Cup\" alt=\"FIFA World Cup\" width=\"800\" height=\"300\">\n",
    "</center>\n",
    "\n",
    "**Exercice 1 (13 points) :** La Coupe du Monde de la <a href=\"https://www.fifa.com/fr\">FIFA</a> est une compétition mondiale de football disputée par les différentes nations de football du monde. Elle est disputée tous les quatre ans et est le trophée le plus prestigieux et le plus important du football. Maintenant que la Coupe du Monde organisée par le Qatar est terminée, nous voulons comparer ses résultats avec ceux des autres coupes. Nous avons donc collecté <a href=\"https://www.kaggle.com/datasets/abecklas/fifa-world-cup\">les données</a> des coupes du monde de 1930 jusqu'à 2022 stockées dans comme un fichier CSV et organisées comme suit :\n",
    "* ***Year*** : l'année durant laquelle la coupe du monde a été disputée\n",
    "* ***Country*** : le pays qui organisée l'édition\n",
    "* ***Winner*** : le pays ayant emporté la coupe (premier)\n",
    "* ***Runners-Up*** : le pays arrivé en deuxième position\n",
    "* ***Third*** : le pays arrivé en troisième position\n",
    "* ***Fourth*** : le pays arrivé en quatrième position\n",
    "* ***GoalsScored*** : le nombre de buts marqués durant l'ensemble des matchs\n",
    "* ***QualifiedTeams*** : le nombre d'équipes qualifiées à la coupe du monde\n",
    "* ***MatchesPlayed*** : le nombre de matchs joués\n",
    "* ***Attendance*** : le nombre de spectateurs"
   ]
  },
  {
   "cell_type": "markdown",
   "id": "947dda84-90d8-40d8-9480-1c5d809df68c",
   "metadata": {},
   "source": [
    "**Question 1 (2 points):** Lire les données du fichier CSV, les stocker dans une ou plusieurs variable et utiliser le bon format de données (int, float ou str)  \n",
    "**L'utilisation des packages CSV ou pandas n'est pas autorisée. Vous aurez au maximum 1 point sur 2**"
   ]
  },
  {
   "cell_type": "code",
   "execution_count": 95,
   "id": "6bafb899-6cc4-467b-80cb-95abfbb86ba1",
   "metadata": {},
   "outputs": [
    {
     "ename": "ValueError",
     "evalue": "invalid literal for int() with base 10: ''",
     "output_type": "error",
     "traceback": [
      "\u001b[1;31m---------------------------------------------------------------------------\u001b[0m",
      "\u001b[1;31mValueError\u001b[0m                                Traceback (most recent call last)",
      "Cell \u001b[1;32mIn [95], line 7\u001b[0m\n\u001b[0;32m      5\u001b[0m \u001b[39mfor\u001b[39;00m i \u001b[39min\u001b[39;00m l[\u001b[39m1\u001b[39m:]:\n\u001b[0;32m      6\u001b[0m     i \u001b[39m=\u001b[39m i\u001b[39m.\u001b[39msplit(\u001b[39m\"\u001b[39m\u001b[39m,\u001b[39m\u001b[39m\"\u001b[39m)\n\u001b[1;32m----> 7\u001b[0m     i[\u001b[39m0\u001b[39m] \u001b[39m==\u001b[39m \u001b[39mint\u001b[39;49m(i[\u001b[39m0\u001b[39;49m])\n\u001b[0;32m      8\u001b[0m     i[\u001b[39m9\u001b[39m] \u001b[39m==\u001b[39m \u001b[39mint\u001b[39m(i[\u001b[39m9\u001b[39m])\n\u001b[0;32m      9\u001b[0m     i[\u001b[39m8\u001b[39m] \u001b[39m==\u001b[39m \u001b[39mint\u001b[39m(i[\u001b[39m8\u001b[39m])\n",
      "\u001b[1;31mValueError\u001b[0m: invalid literal for int() with base 10: ''"
     ]
    }
   ],
   "source": [
    "#écrire votre code ici\n",
    "with open(\"WorldCups.csv\") as f:\n",
    "    l = f.read().split(\"\\n\")\n",
    "    dict = {}\n",
    "    for i in l[1:]:\n",
    "        i = i.split(\",\")\n",
    "        i[0] == int(i[0])\n",
    "        i[9] == int(i[9])\n",
    "        i[8] == int(i[8])\n",
    "        i[7] == int(i[7])\n",
    "        i[6] == int(i[6])\n",
    "        dict[i[0]] = [i[1:]]\n",
    "    print(dict)\n",
    "    \n",
    "        "
   ]
  },
  {
   "cell_type": "markdown",
   "id": "6aaf04dd-f4e2-4334-9b1f-102642a407e6",
   "metadata": {},
   "source": [
    "**Important :** si vous ne réussissez pas à lire les données, utilisez le code ci-dessous **(téléchargez le fichier WorldCups.pickle)** qui vous donnera accès à la variable data qui contient les données stockées dans un dictionnaire. L'année représente la clé (key) et la valeur (value) est une liste contenant country, winner (str), runners-up (str), third (str), fourth (str), goals scored (int), qualified teams (int), matches played (int) et attendance (int)."
   ]
  },
  {
   "cell_type": "code",
   "execution_count": 2,
   "id": "d8054a47-1a04-479a-9e1a-04735f302ee0",
   "metadata": {},
   "outputs": [
    {
     "name": "stdout",
     "output_type": "stream",
     "text": [
      "Coupe de 1930 ['Uruguay', 'Uruguay', 'Argentina', 'USA', 'Yugoslavia', 70, 13, 18, 590549]\n",
      "Coupe de 2022 ['Qatar', 'Argentina', 'France', 'Croatia', 'Morocco', 172, 32, 64, 3404252]\n",
      "------------------------------------------------------------------------------------------\n",
      "Organisateur de la coupe du monde de 2022 Qatar\n",
      "Vainqueur de la coupe du monde de 2022 Argentina\n",
      "Second de la coupe du monde de 2022 France\n",
      "Troisième de la coupe du monde de 2022 Croatia\n",
      "Quatirème de la coupe du monde de 2022 Morocco\n",
      "Nombre de buts marqués durant la coupe du monde de 2022 172\n",
      "Nombre d'équipes ayant participé à la coupe du monde de 2022 32\n",
      "Nombre de matchs joués durant la coupe du monde de 2022 64\n",
      "Nombre de spectateurs durant la coupe du monde de 2022 3404252\n"
     ]
    }
   ],
   "source": [
    "import pickle\n",
    "with open(\"WorldCups.pickle\", \"rb\") as infile:\n",
    "    data = pickle.load(infile)\n",
    "print(\"Coupe de 1930\", data[1930])\n",
    "print(\"Coupe de 2022\", data[2022])\n",
    "print(\"------------------------------------------------------------------------------------------\")\n",
    "print(\"Organisateur de la coupe du monde de 2022\", data[2022][0])\n",
    "print(\"Vainqueur de la coupe du monde de 2022\", data[2022][1])\n",
    "print(\"Second de la coupe du monde de 2022\", data[2022][2])\n",
    "print(\"Troisième de la coupe du monde de 2022\", data[2022][3])\n",
    "print(\"Quatirème de la coupe du monde de 2022\", data[2022][4])\n",
    "print(\"Nombre de buts marqués durant la coupe du monde de 2022\", data[2022][5])\n",
    "print(\"Nombre d'équipes ayant participé à la coupe du monde de 2022\", data[2022][6])\n",
    "print(\"Nombre de matchs joués durant la coupe du monde de 2022\", data[2022][7])\n",
    "print(\"Nombre de spectateurs durant la coupe du monde de 2022\", data[2022][8])"
   ]
  },
  {
   "cell_type": "markdown",
   "id": "663b818f-3de9-4013-b38f-47fb061e7994",
   "metadata": {},
   "source": [
    "**Question 2 (1 points):** Donnez le nombre de coupes du monde qui ont eu lieu depuis 1930 (inclus)"
   ]
  },
  {
   "cell_type": "code",
   "execution_count": 18,
   "id": "72314bf3-8ea4-4742-b94c-6d0022da3626",
   "metadata": {},
   "outputs": [
    {
     "name": "stdout",
     "output_type": "stream",
     "text": [
      "22\n"
     ]
    }
   ],
   "source": [
    "#Résultat attendu : 22\n",
    "#écrire votre code ici\n",
    "count = 0\n",
    "for k, v in data.items():\n",
    "    if k >= 1930:\n",
    "        count += 1\n",
    "print(count)"
   ]
  },
  {
   "cell_type": "markdown",
   "id": "1985f713-5952-4fe7-be48-feaea4c16371",
   "metadata": {},
   "source": [
    "**Question 3 (1 points):** Donnez la liste des pays organisateurs ainsi que le nombre de fois qu'ils ont organisé la coupe du monde"
   ]
  },
  {
   "cell_type": "code",
   "execution_count": 3,
   "id": "6f558e22-689e-40d4-9bde-b0f3b53921a4",
   "metadata": {},
   "outputs": [
    {
     "name": "stdout",
     "output_type": "stream",
     "text": [
      "{'Uruguay': 1, 'Italy': 2, 'France': 2, 'Brazil': 2, 'Switzerland': 1, 'Sweden': 1, 'Chile': 1, 'England': 1, 'Mexico': 2, 'Germany': 2, 'Argentina': 1, 'Spain': 1, 'USA': 1, 'Korea/Japan': 1, 'South Africa': 1, 'Russia': 1, 'Qatar': 1}\n",
      "Argentina 1\n",
      "Brazil 2\n",
      "Chile 1\n",
      "England 1\n",
      "France 2\n",
      "Germany 2\n",
      "Italy 2\n",
      "Korea/Japan 1\n",
      "Mexico 2\n",
      "Qatar 1\n",
      "Russia 1\n",
      "South Africa 1\n",
      "Spain 1\n",
      "Sweden 1\n",
      "Switzerland 1\n",
      "USA 1\n",
      "Uruguay 1\n"
     ]
    }
   ],
   "source": [
    "#Résultat attendu :\n",
    "\"\"\"\n",
    "Argentina    1\n",
    "Brazil       2\n",
    "Chile        1\n",
    "England      1\n",
    "France       2\n",
    "Germany      2\n",
    "Italy        2\n",
    "Korea/Japan  1\n",
    "Mexico       2\n",
    "Qatar        1\n",
    "Russia       1\n",
    "South Africa 1\n",
    "Spain        1\n",
    "Sweden       1\n",
    "Switzerland  1\n",
    "Uruguay      1\n",
    "USA          1\n",
    "\"\"\"\n",
    "#écrire votre code ici\n",
    "dict = {}\n",
    "for v in data.values():\n",
    "    dict[v[0]] = dict.get(v[0], 0) + 1\n",
    "print(dict)\n",
    "for k, vl in sorted(dict.items()):\n",
    "    print(k, vl)"
   ]
  },
  {
   "cell_type": "markdown",
   "id": "201bc3b0-6176-4a84-9136-373f821fd5d7",
   "metadata": {},
   "source": [
    "**Question 4 (1 points):** Donnez la liste des pays qui ont remporté la coupe du monde plus d'une fois (2 et plus)"
   ]
  },
  {
   "cell_type": "code",
   "execution_count": 23,
   "id": "d19ebefd-7f5c-414a-a8b3-f79f45ae9137",
   "metadata": {},
   "outputs": [
    {
     "name": "stdout",
     "output_type": "stream",
     "text": [
      "Argentina 3\n",
      "Brazil 5\n",
      "France 2\n",
      "Germany FR 3\n",
      "Italy 4\n",
      "Uruguay 2\n"
     ]
    }
   ],
   "source": [
    "#Résultat attendu :\n",
    "\"\"\"\n",
    "Argentina  3\n",
    "Brazil     5\n",
    "France     2\n",
    "Germany FR 3\n",
    "Italy      4\n",
    "Uruguay    2\n",
    "\"\"\"\n",
    "#écrire votre code ici\n",
    "dict = {}\n",
    "for v in data.values():\n",
    "    dict[v[1]] = dict.get(v[1], 0) + 1\n",
    "for k, vl in sorted(dict.items()):\n",
    "    if vl >= 2:\n",
    "        print(k, vl)"
   ]
  },
  {
   "cell_type": "markdown",
   "id": "a3d21cf5-789d-4ea5-8cde-4aded5e83e0e",
   "metadata": {},
   "source": [
    "**Question 5 (1 points):** Donnez l'année et le pays organisateur où le plus grand nombre de buts marqués"
   ]
  },
  {
   "cell_type": "code",
   "execution_count": 57,
   "id": "9215a602-f201-4a46-bcc2-fb418f0c2c38",
   "metadata": {},
   "outputs": [
    {
     "name": "stdout",
     "output_type": "stream",
     "text": [
      "2022 Qatar\n"
     ]
    }
   ],
   "source": [
    "#Résultat attendu : 2022 Qatar\n",
    "#écrire votre code ici\n",
    "list = []\n",
    "listy = []\n",
    "for k, i in data.items():\n",
    "    listy.append(k)\n",
    "    list.append(i[5])\n",
    "print(listy[list.index(max(list))], dict[listy[list.index(max(list))]][0])\n",
    "\n"
   ]
  },
  {
   "cell_type": "markdown",
   "id": "e775e1ff-73af-4431-8b75-380a7bd9bd5c",
   "metadata": {},
   "source": [
    "**Question 6 (1 points):** Donnez le nombre de fois où le pays organisateur remporte la coupe du monde"
   ]
  },
  {
   "cell_type": "code",
   "execution_count": 36,
   "id": "dd4df01c-18e8-4ebe-b28b-22349e37af42",
   "metadata": {},
   "outputs": [
    {
     "name": "stdout",
     "output_type": "stream",
     "text": [
      "5\n"
     ]
    }
   ],
   "source": [
    "#Résultat attendu : 5\n",
    "#écrire votre code ici\n",
    "count = 0\n",
    "for k, v in data.items():\n",
    "    if v[0].casefold() == v[1].casefold():\n",
    "        count += 1\n",
    "print(count)"
   ]
  },
  {
   "cell_type": "markdown",
   "id": "9bb7f522-22d9-48b0-8b66-4e37848894d7",
   "metadata": {},
   "source": [
    "**Question 7 (1 points):** Donnez le nombre (arrondir les valeurs) moyen de spectateurs par match et par année"
   ]
  },
  {
   "cell_type": "code",
   "execution_count": 60,
   "id": "d82000c7-4de0-46f8-8aa0-07b6053a831f",
   "metadata": {},
   "outputs": [
    {
     "name": "stdout",
     "output_type": "stream",
     "text": [
      "Année Spec/match\n",
      "1930 32808\n",
      "1934 21352\n",
      "1938 20872\n",
      "1950 47511\n",
      "1954 29561\n",
      "1958 23423\n",
      "1962 27911\n",
      "1966 48847\n",
      "1970 50124\n",
      "1974 49098\n",
      "1978 40678\n",
      "1982 40571\n",
      "1986 46039\n",
      "1990 48388\n",
      "1994 68991\n",
      "1998 43517\n",
      "2002 42268\n",
      "2006 52491\n",
      "2010 49669\n",
      "2014 52918\n",
      "2018 47371\n",
      "2022 53191\n"
     ]
    }
   ],
   "source": [
    "#Résultat attendu :\n",
    "\"\"\"\n",
    "Année  Moy spec/match\n",
    "1930   32808\n",
    "1934   21353\n",
    "1938   20872\n",
    "1950   47511\n",
    "1954   29562\n",
    "1958   23423\n",
    "1962   27912\n",
    "1966   48848\n",
    "1970   50124\n",
    "1974   49099\n",
    "1978   40679\n",
    "1982   40572\n",
    "1986   46039\n",
    "1990   48389\n",
    "1994   68991\n",
    "1998   43517\n",
    "2002   42269\n",
    "2006   52491\n",
    "2010   49670\n",
    "2014   52919\n",
    "2018   47371\n",
    "2022   53191\n",
    "\"\"\"\n",
    "#écrire votre code ici\n",
    "print(\"Année\", \"Spec/match\")\n",
    "for k, v in data.items():\n",
    "    print(k, v[8] // v[7])"
   ]
  },
  {
   "cell_type": "markdown",
   "id": "801ea0d7-893f-4e88-85e5-7c79d150c922",
   "metadata": {},
   "source": [
    "**Question 8 (1 points):** Donnez l'année où la moyenne des buts marqués par match est la plus élevée"
   ]
  },
  {
   "cell_type": "code",
   "execution_count": 62,
   "id": "ad4186a9-13c8-43d8-83d9-33af33e4e4c6",
   "metadata": {},
   "outputs": [
    {
     "name": "stdout",
     "output_type": "stream",
     "text": [
      "1954\n"
     ]
    }
   ],
   "source": [
    "#Résultat attendu : 1954\n",
    "#écrire votre code ici\n",
    "list = []\n",
    "listc = []\n",
    "for k, v in data.items():\n",
    "    listc.append(k)\n",
    "    list.append(v[5] / v[7])\n",
    "print(listc[list.index(max(list))])"
   ]
  },
  {
   "cell_type": "markdown",
   "id": "342737da-fcbf-417f-a471-21ac64eab016",
   "metadata": {},
   "source": [
    "**Question 9 (2 points):** Donnez le code qui permet à l'utilisateur d'entrer une année puis affiche le pays organisateur ainsi que le pays qui remporté la coupe du monde. Si la coupe du monde n'a pas eu lieu durant cette année, le message ***La coupe du monde de football n'a pas eu lieu en [année]*** (remplacer [année] par l'année donnée par l'utilisateur)"
   ]
  },
  {
   "cell_type": "code",
   "execution_count": 38,
   "id": "ce1a2bb1-cbbd-4c5d-a2f6-472592de36f6",
   "metadata": {},
   "outputs": [
    {
     "name": "stdout",
     "output_type": "stream",
     "text": [
      "Donnez année: 2022\n",
      "pays organisateur: Qatar\n",
      "pays vainquer: Argentina\n"
     ]
    }
   ],
   "source": [
    "#Exemple d'exécution 1\n",
    "\"\"\"\n",
    "Donnez année :  2022\n",
    "Pays organisateur : Qatar\n",
    "Pays vainqueur : Argentina\n",
    "\"\"\"\n",
    "#Exemple d'exécution 2\n",
    "\"\"\"\n",
    "Donnez année :  2019\n",
    "La coupe du monde de football n'a pas eu lieu en 2019\n",
    "\"\"\"\n",
    "#écrire votre code ici\n",
    "an = int(input(\"Donnez année:\"))\n",
    "if an not in data.keys():\n",
    "    print(\"La coup du monde de football n'a pas eu lieu en\", an)\n",
    "else:\n",
    "    print(\"Donnez année:\", an)\n",
    "    print(\"pays organisateur:\", data[an][0])\n",
    "    print(\"pays vainquer:\", data[an][1])\n"
   ]
  },
  {
   "cell_type": "markdown",
   "id": "d192532c-904a-4668-82e9-a7d8b47dea55",
   "metadata": {},
   "source": [
    "**Question 10 (2 points):** Donnez le code de la fonction compter_points qui reçoit en paramètre la variable stockant les données ainsi que le nom d'un pays (ignorer la casse) et qui retourne un nombre de points calculé ainsi :\n",
    "* 5 points pour chaque coupe remportée\n",
    "* 3 points à chaque fois que le pays arrive en deuxième position\n",
    "* 1 point à chaque fois que le pays arrive en deuxième position"
   ]
  },
  {
   "cell_type": "code",
   "execution_count": 39,
   "id": "7a5e87bb-6173-4419-8949-269d8a5c7e87",
   "metadata": {},
   "outputs": [
    {
     "name": "stdout",
     "output_type": "stream",
     "text": [
      "33\n",
      "33\n",
      "0\n",
      "5\n"
     ]
    }
   ],
   "source": [
    "def compter_points(data, pays):\n",
    "    #écrire votre code ici\n",
    "    count = 0\n",
    "    for i in data.values():\n",
    "        if i[1].lower() == pays:\n",
    "            count += 5\n",
    "        elif i[2].lower() == pays:\n",
    "            count += 3\n",
    "        elif i[3].lower() == pays:\n",
    "            count += 1\n",
    "    return count\n",
    "            \n",
    "#Résultat attendu :\n",
    "print(compter_points(data, \"Brazil\"))  #affichera 33\n",
    "print(compter_points(data, \"BrAzIl\"))  #affichera 33\n",
    "print(compter_points(data, \"ALGERIA\")) #affichera  0\n",
    "print(compter_points(data, \"Croatia\")) #affichera  5"
   ]
  },
  {
   "cell_type": "markdown",
   "id": "b2758648-f35e-40d0-9141-0fbe8aec3560",
   "metadata": {},
   "source": [
    "<center><img style=\"text-align:center; margin:0 auto\" src=\"https://drive.google.com/uc?export=view&id=15jyO3Z0Z-vY5HT90d0-A1ZAinMdMk445\" title=\"Email Validation\" alt=\"Email Validation\" width=\"800\" height=\"300\">\n",
    "</center>\n",
    "\n",
    "**Exercice 2 (7 points) :** Vous venez d'être recruté par l'Université en tant qu'ingénieur en informatique. Vous travaillez sur un site qui récolte les informations des étudiants et vous voulez vous assurez que les adresses mails fournies sont des adresses universitaires valides. Les adresses mails doivent respecter le format suivant :  \n",
    "**[première lettre prénom].[nom de famille][1 ou plusieurs chiffres (optionnel)]@[1 ou plusieurs sous-domaines, chacun suivi par un point (optionnel)]univ-mosta.dz**\n",
    "La première lettre du prénom, le nom de famille et les sous-domaines (s'ils existent) ne peuvent pas être vides et doivent être composés de lettres uniquement.  \n",
    "Créer une fonction mail_valide qui reçoit en paramètre une adresse mail.  \n",
    "Ci-dessous quelques adresses e-mail correctes :\n",
    "* m.zahmani@univ-mosta.dz\n",
    "* M.Zahmani@univ-MOSTA.dz\n",
    "* k.nour@fsei.univ-mosta.dz\n",
    "* s.khiat123@univ-mosta.dz  \n",
    "\n",
    "Ci-dessous quelques adresses e-mail incorrectes :\n",
    "\n",
    "* mokhtari@univ-mosta.dz  --> première lettre du prénom manquante\n",
    "* a.a.abadi@univ-mosta.dz --> plusieurs premières lettres de prénom\n",
    "* abdelkader.abadi@univ-mosta.dz --> le prénom est composé de plusieurs lettres\n",
    "* b.mokhtari@univ-oran1.dz  --> université (domaine) incorrecte\n",
    "* b.mokhtari@univ-mosta.com --> mauvaise extension (doit être .dz)\n",
    "* m.habib8zahmani@univ-mosta.dz --> le numéro doit se trouver après le nom\n",
    "* b.mokhtari@fsei4.univ-mosta.com --> le sous-domaine ne doit pas comporter de chiffres\n",
    "* b.mokhtari@.fsei.univ-mosta.com --> sous domaine vide (voir point avant fsei)\n",
    "* b.mokh-tari@univ.mosta.dz --> le nom ne doit pas comporter de caractères spéciaux\n",
    "* mokhtari --> ceci n'est pas une adresse mail"
   ]
  },
  {
   "cell_type": "code",
   "execution_count": 89,
   "id": "fd8cc052-6859-4557-83c1-f6ee4f362bc5",
   "metadata": {},
   "outputs": [
    {
     "name": "stdout",
     "output_type": "stream",
     "text": [
      "None\n",
      "None\n",
      "None\n",
      "None\n",
      "None\n",
      "None\n",
      "None\n",
      "None\n",
      "None\n",
      "None\n",
      "None\n",
      "None\n",
      "None\n",
      "None\n"
     ]
    }
   ],
   "source": [
    "import re\n",
    "def compter_points(mail):\n",
    "    #écrire votre code ici\n",
    "    pattern = re.compile(\"^[a-zA-Z].[a-zA-Z]@[a-zA-Z][a-zA-Z](.dz)$\")\n",
    "    return pattern.match(mail)\n",
    "#Résultats attendus :\n",
    "#Adresses e-mail correctes\n",
    "print(compter_points(\"m.zahmani@univ-mosta.dz\")) #Affichera True\n",
    "print(compter_points(\"M.Zahmani@univ-MOSTA.dz\")) #Affichera True\n",
    "print(compter_points(\"k.nour@fsei.univ-mosta.dz\")) #Affichera True\n",
    "print(compter_points(\"s.khiat123@univ-mosta.dz  \")) #Affichera True\n",
    "\n",
    "#Adresses e-mail incorrectes\n",
    "print(compter_points(\"mokhtari@univ-mosta.dz\")) #Affichera False\n",
    "print(compter_points(\"a.a.abadi@univ-mosta.dz\")) #Affichera False\n",
    "print(compter_points(\"abdelkader.abadi@univ-mosta.dz\")) #Affichera False\n",
    "print(compter_points(\"b.mokhtari@univ-oran1.dz\")) #Affichera False\n",
    "print(compter_points(\"b.mokhtari@univ-mosta.com\")) #Affichera False\n",
    "print(compter_points(\"m.habib8zahmani@univ-mosta.dz\")) #Affichera False\n",
    "print(compter_points(\"b.mokhtari@fsei4.univ-mosta.com\")) #Affichera False\n",
    "print(compter_points(\"b.mokhtari@.fsei.univ-mosta.com\")) #Affichera False\n",
    "print(compter_points(\"b.mokh-tari@univ.mosta.dz\")) #Affichera False\n",
    "print(compter_points(\"mokhtari\")) #Affichera False"
   ]
  }
 ],
 "metadata": {
  "kernelspec": {
   "display_name": "Python 3",
   "language": "python",
   "name": "python3"
  },
  "language_info": {
   "codemirror_mode": {
    "name": "ipython",
    "version": 3
   },
   "file_extension": ".py",
   "mimetype": "text/x-python",
   "name": "python",
   "nbconvert_exporter": "python",
   "pygments_lexer": "ipython3",
   "version": "3.11.0 (main, Oct 24 2022, 18:26:48) [MSC v.1933 64 bit (AMD64)]"
  },
  "vscode": {
   "interpreter": {
    "hash": "eb15da00ddf7abc474b86d37ac6c5c9c8600f29cd0032e6e2de527fbe08602fc"
   }
  }
 },
 "nbformat": 4,
 "nbformat_minor": 5
}

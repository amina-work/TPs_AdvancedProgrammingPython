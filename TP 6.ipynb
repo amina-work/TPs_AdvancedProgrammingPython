{
 "cells": [
  {
   "cell_type": "markdown",
   "id": "e60c1935-462b-4e94-a29c-d65bcd758bd1",
   "metadata": {},
   "source": [
    "<center><img style=\"text-align:center; margin:0 auto\" src=\"https://drive.google.com/uc?export=view&id=15uzPyvfgv3obSupxZAFHY21YA82yFs0M\" title=\"Logo UMAB\" alt=\"Logo UMAB\" width=\"221\" height=\"236\">\n",
    "<center>\n",
    "<b>Université Abdelhamid Ibn Badis - Mostaganem\n",
    "<br>Faculté des Sciences Exactes et de l'Informatique\n",
    "<br>Département de Mathématiques et Informatique\n",
    "<br>Master IA4IOT\n",
    "<br>Programmation Avancée (Python)\n",
    "</b>\n",
    "</center>\n",
    "\n",
    "---\n"
   ]
  },
  {
   "cell_type": "markdown",
   "id": "2dd459bc-1251-423c-9407-3f49925aad2e",
   "metadata": {},
   "source": [
    "# <center>TP 06 : String</center>\n",
    "<b>Objectif</b> : Le but de ce TP est de vous apprendre à manipuler les chaînes de caractères."
   ]
  },
  {
   "cell_type": "markdown",
   "id": "7ba37c33-ca54-424c-8cad-91f5cb093980",
   "metadata": {},
   "source": [
    "---\n",
    "<center><b>Nom et prénoms : Derdour Amina\n",
    "<br>Groupe : M1-IA4IoT\n",
    "\n",
    "---"
   ]
  },
  {
   "cell_type": "markdown",
   "id": "9c261998-9dba-4a4f-90c3-becabcaf6914",
   "metadata": {},
   "source": [
    "<b>Exercice 1 :</b> Qui va payer : créer un programme, qui à base d'une liste de noms de personnes, choisit aléatoirement la personne qui doit payer les déjeuner.\n",
    "\n",
    "**<center>Exemple d'exécution</center>**\n",
    "<p style=\"padding: 10px; border: 1px solid black;\">\n",
    "<b style=\"color:blue;\">Donnez la liste des personnes présentes : Sofiane Mohamed Rachid Noreddine Adel</b>\n",
    "<br>Rachid va payer le déjeuner !\n",
    "</p>"
   ]
  },
  {
   "cell_type": "code",
   "execution_count": 4,
   "id": "8a83edc0-d9e1-47f2-a497-d1a802125e58",
   "metadata": {},
   "outputs": [
    {
     "name": "stdout",
     "output_type": "stream",
     "text": [
      "Norddine va payer le déjeuner!\n"
     ]
    }
   ],
   "source": [
    "#écrire votre code ici\n",
    "import random\n",
    "def whopays(list):\n",
    "    per = random.choice(list)\n",
    "    result = per + \" va payer le déjeuner!\"\n",
    "    return result\n",
    "def main():\n",
    "    lst = input(\"Donnez la liste des personnes présentes:\")\n",
    "    lst = lst.split(' ')\n",
    "    print(whopays(lst))\n",
    "    \n",
    "main()"
   ]
  },
  {
   "cell_type": "markdown",
   "id": "de475fa3-99bb-4517-827b-289b30554137",
   "metadata": {},
   "source": [
    "<b>Exercice 2 :</b> Générateur de mots de passes : créer un programme qui génère aléatoirement des mots de passe de différentes complexité (difficulté). L'utilisateur spécifie le nombre de lettres, de numéros et de caractères spéciaux. Vous pouvez utiliser la listes des lettres, numéros et caractères spéciaux fournis.\n",
    "\n",
    "**<center>Exemple d'exécution</center>**\n",
    "<p style=\"padding: 10px; border: 1px solid black;\">\n",
    "Générateur de mots de passe\n",
    "<b style=\"color:blue;\"><br>Choisissez 1 pour Moyen (pas de permutation) 2 pour Difficile (avec permutation) ou 0 pour Quitter : 1</b>\n",
    "<b style=\"color:blue;\"><br>Nombre de lettres : 4</b>\n",
    "<b style=\"color:blue;\"><br>Nombre de chiffres : 2</b>\n",
    "<b style=\"color:blue;\"><br>Nombre de caractères spéciaux : 2</b>\n",
    "<br>Mot de passe généré (facile) : fARj51(*\n",
    "<b style=\"color:blue;\"><br>Choisissez 1 pour Moyen (pas de permutation) 2 pour Difficile (avec permutation) ou 0 pour Quitter : 2</b>\n",
    "<b style=\"color:blue;\"><br>Nombre de lettres : 4</b>\n",
    "<b style=\"color:blue;\"><br>Nombre de chiffres : 2</b>\n",
    "<b style=\"color:blue;\"><br>Nombre de caractères spéciaux : 2</b>\n",
    "<br>Mot de passe généré (difficile) : +Zk12L#q\n",
    "<b style=\"color:blue;\"><br>Choisissez 1 pour Moyen (pas de permutation) 2 pour Difficile (avec permutation) ou 0 pour Quitter : 0</b>\n",
    "<br>Au revoir !\n",
    "</p>\n"
   ]
  },
  {
   "cell_type": "code",
   "execution_count": 15,
   "id": "8c7a54f6-79d3-47a4-8c33-7eb091b0d8e3",
   "metadata": {},
   "outputs": [
    {
     "name": "stdout",
     "output_type": "stream",
     "text": [
      "Générateur de mots de passe\n",
      "Mot de passe généré (facile): vbel03)&\n",
      "Mot de passe généré (difficile): 5k6Xf%Q+\n",
      "Au revoir!\n"
     ]
    }
   ],
   "source": [
    "import random\n",
    "lettres  = ['a', 'b', 'c', 'd', 'e', 'f', 'g', 'h', 'i', 'j', 'k', 'l', 'm', 'n', 'o', 'p', 'q', 'r', 's', 't', 'u', 'v', 'w', 'x', 'y', 'z', 'A', 'B', 'C', 'D', 'E', 'F', 'G', 'H', 'I', 'J', 'K', 'L', 'M', 'N', 'O', 'P', 'Q', 'R', 'S', 'T', 'U', 'V', 'W', 'X', 'Y', 'Z']\n",
    "nombres  = ['0', '1', '2', '3', '4', '5', '6', '7', '8', '9']\n",
    "symboles = ['!', '#', '$', '%', '&', '(', ')', '*', '+']\n",
    "#écrire votre code ici\n",
    "def easy(nl, nc, ns):\n",
    "    mot = \"\"\n",
    "    for i in range(nl):\n",
    "        mot += str(random.choice(lettres))\n",
    "    for i in range(nc):\n",
    "        mot += str(random.choice(nombres))\n",
    "    for i in range(ns):\n",
    "        mot += str(random.choice(symboles))\n",
    "    result = \"Mot de passe généré (facile): \" + mot\n",
    "    return result\n",
    "\n",
    "def hard(nl, nc, ns):\n",
    "    mot = \"\"\n",
    "    for i in range(nl):\n",
    "        mot += str(random.choice(lettres))\n",
    "    for i in range(nc):\n",
    "        mot += str(random.choice(nombres))\n",
    "    for i in range(ns):\n",
    "        mot += str(random.choice(symboles))\n",
    "    #shuffling the string\n",
    "    mot = ''.join(random.sample(mot, len(mot)))\n",
    "    result = \"Mot de passe généré (difficile): \" + mot\n",
    "    return result\n",
    "\n",
    "def main():\n",
    "    print(\"Générateur de mots de passe\")\n",
    "    while True:\n",
    "        choice = int(input(\"Choisissez 1 pour Moyen (pas de permutation) 2 pour Difficile (avec permutation) ou 0 pour Quitter :\"))\n",
    "        while -1 > choice > 2:\n",
    "            choice = int(input(\"Incorrect. Choisissez 1 pour Moyen (pas de permutation) 2 pour Difficile (avec permutation) ou 0 pour Quitter :\"))\n",
    "        if choice == 1:\n",
    "            nl = int(input(\"Nobre de lettres: \"))\n",
    "            nc = int(input(\"Nombre de chiffres: \"))\n",
    "            ns = int(input(\"Nombre de caractères spéciaux\"))\n",
    "            print(easy(nl, nc, ns))\n",
    "        elif choice == 2:\n",
    "            nl = int(input(\"Nobre de lettres: \"))\n",
    "            nc = int(input(\"Nombre de chiffres: \"))\n",
    "            ns = int(input(\"Nombre de caractères spéciaux\"))\n",
    "            print(hard(nl, nc, ns))\n",
    "        elif choice == 0:\n",
    "            print(\"Au revoir!\")\n",
    "            break\n",
    "main()"
   ]
  },
  {
   "cell_type": "markdown",
   "id": "b75087b6-3ad3-4735-bebf-a05cfd76424c",
   "metadata": {},
   "source": [
    "<b>Exercice 3 :</b> La classe str en Python supporte une fonction replace qui permet de remplacer une chaîne de caractères par une autre.\n",
    "```python \n",
    "string.replace(oldvalue, newvalue, count) \n",
    "``` \n",
    "<table style=\"margin-top:10px; margin-left:10px;text-align: left\">\n",
    "  <thead>\n",
    "    <tr>\n",
    "      <th style=\"text-align: left\">Parameter</th>\n",
    "      <th style=\"text-align: left\">Descritpion</th>\n",
    "    </tr>\n",
    "  </thead>\n",
    "  <tbody>\n",
    "    <tr>\n",
    "      <td style=\"text-align: left\">oldvalue(s)</td>\n",
    "      <td style=\"text-align: left\">Required. The string to search for</td>\n",
    "    </tr>\n",
    "    <tr>\n",
    "      <td style=\"text-align: left\">newvalue</td>\n",
    "      <td style=\"text-align: left\"> \tRequired. The string to replace the old value with</td>\n",
    "    </tr>\n",
    "    <tr>\n",
    "      <td style=\"text-align: left\">count</td>\n",
    "      <td style=\"text-align: left\">Optional. A number specifying how many occurrences of the old value you want to replace. Default is all occurrences</td>\n",
    "    </tr>\n",
    "  </tbody>\n",
    "</table>\n",
    "\n",
    "Réimplémentez la fonction replace où :\n",
    "* ins est le str où le texte sera changé\n",
    "* oldvalue chaîne de caractères à trouver et à remplacer\n",
    "* newvalue nouvelles chaîne de caractères à utiliser\n",
    "* count nombre d'apparition de oldvalue à remplacer. Si la valeur est égale à 0 alors remplacer toutes les occurrences\n",
    "\n",
    "La fonction devra retourner la nouvelle chaîne de caractères"
   ]
  },
  {
   "cell_type": "code",
   "execution_count": 45,
   "id": "0bf7a29e-3817-47e7-b326-a514b6d8fa86",
   "metadata": {},
   "outputs": [
    {
     "ename": "UnboundLocalError",
     "evalue": "cannot access local variable 'result' where it is not associated with a value",
     "output_type": "error",
     "traceback": [
      "\u001b[1;31m---------------------------------------------------------------------------\u001b[0m",
      "\u001b[1;31mUnboundLocalError\u001b[0m                         Traceback (most recent call last)",
      "Cell \u001b[1;32mIn [45], line 15\u001b[0m\n\u001b[0;32m     12\u001b[0m             result \u001b[39m=\u001b[39m left \u001b[39m+\u001b[39m farleft \u001b[39m+\u001b[39m farright\n\u001b[0;32m     13\u001b[0m     \u001b[39mreturn\u001b[39;00m result\n\u001b[1;32m---> 15\u001b[0m replace(\u001b[39m\"\u001b[39;49m\u001b[39mbanananaka\u001b[39;49m\u001b[39m\"\u001b[39;49m, \u001b[39m\"\u001b[39;49m\u001b[39mna\u001b[39;49m\u001b[39m\"\u001b[39;49m, \u001b[39m'\u001b[39;49m\u001b[39mxy\u001b[39;49m\u001b[39m'\u001b[39;49m,\u001b[39m3\u001b[39;49m)\n\u001b[0;32m     17\u001b[0m \u001b[39m#Quelques tests\u001b[39;00m\n\u001b[0;32m     18\u001b[0m \u001b[39m#test1_input = \"banana\"\u001b[39;00m\n\u001b[0;32m     19\u001b[0m \u001b[39m#test1_output = replace(test1_input, \"na\", \"ba\") #affichera bababa\u001b[39;00m\n\u001b[1;32m   (...)\u001b[0m\n\u001b[0;32m     25\u001b[0m \u001b[39m#print(test2_input) #affichera banana\u001b[39;00m\n\u001b[0;32m     26\u001b[0m \u001b[39m#print(test2_output) #affichera babana\u001b[39;00m\n",
      "Cell \u001b[1;32mIn [45], line 13\u001b[0m, in \u001b[0;36mreplace\u001b[1;34m(ins, oldvalue, newvalue, count)\u001b[0m\n\u001b[0;32m     11\u001b[0m         farleft \u001b[39m=\u001b[39m newvalue\n\u001b[0;32m     12\u001b[0m         result \u001b[39m=\u001b[39m left \u001b[39m+\u001b[39m farleft \u001b[39m+\u001b[39m farright\n\u001b[1;32m---> 13\u001b[0m \u001b[39mreturn\u001b[39;00m result\n",
      "\u001b[1;31mUnboundLocalError\u001b[0m: cannot access local variable 'result' where it is not associated with a value"
     ]
    }
   ],
   "source": [
    "def replace(ins, oldvalue, newvalue, count = 0): #modifiez les paramètres si nécessaire\n",
    "    #écrire votre code ici\n",
    "    if count == 0:\n",
    "        pos = ins.find(oldvalue)\n",
    "        while pos != -1:\n",
    "            pos = result.find(oldvalue)\n",
    "            left = ins[:pos]\n",
    "            right = ins[pos:]\n",
    "            farleft = right[:len(oldvalue)]\n",
    "            farright = right[len(oldvalue):]\n",
    "            farleft = newvalue\n",
    "            result = left + farleft + farright\n",
    "    return result\n",
    "    \n",
    "replace(\"banananaka\", \"na\", 'xy',3)\n",
    "\n",
    "#Quelques tests\n",
    "#test1_input = \"banana\"\n",
    "#test1_output = replace(test1_input, \"na\", \"ba\") #affichera bababa\n",
    "#print(test1_input) #affichera banana\n",
    "#print(test1_output) #affichera bababa\n",
    "\n",
    "#test2_input = \"banana\"\n",
    "#test2_output = replace(test2_input, \"na\", \"ba\", 1) #affichera bababa\n",
    "#print(test2_input) #affichera banana\n",
    "#print(test2_output) #affichera babana"
   ]
  },
  {
   "cell_type": "markdown",
   "id": "bb8b5af1-7476-44c3-b5aa-9a954524360c",
   "metadata": {},
   "source": [
    "<b>Exercice 4 :</b> Créez une fonction stats qui calcule et affiche le nombre de lettres minuscule, majuscule, chiffres, et caractères spéciaux (espaces, points, ...).  \n",
    "Les fonctions isalpha, isupper, islower, isdigt et isspace peuvent être utiles."
   ]
  },
  {
   "cell_type": "code",
   "execution_count": null,
   "id": "90adcb91-2203-4e76-9399-7398a1084c61",
   "metadata": {},
   "outputs": [],
   "source": [
    "def stats(texte):\n",
    "    #écrire votre code ici\n",
    "\n",
    "#Quelques tests\n",
    "stats(\"Bonjour 7\")\n",
    "#Majuscules : 1\n",
    "#Minuscules : 6\n",
    "#Chiffres : 1\n",
    "#Spéciaux : 1"
   ]
  },
  {
   "cell_type": "markdown",
   "id": "da241961-f452-433f-b88e-8dff70838d4d",
   "metadata": {},
   "source": [
    "<b>Mini projet :</b> En cryptographie, le chiffrement par décalage, aussi connu comme le chiffre de César ou le code de César (voir les différents noms), est une méthode de chiffrement très simple utilisée par Jules César dans ses correspondances secrètes (ce qui explique le nom « chiffre de César »). Le texte chiffré s'obtient en remplaçant chaque lettre du texte clair original par une lettre à distance fixe, toujours du même côté, dans l'ordre de l'alphabet. Pour les dernières lettres (dans le cas d'un décalage à droite), on reprend au début. Par exemple avec un décalage de 3 vers la droite, A est remplacé par D, B devient E, et ainsi jusqu'à W qui devient Z, puis X devient A etc... [<a href=\"https://fr.wikipedia.org/wiki/Chiffrement_par_d%C3%A9calage\">Wikipédia</a>].\n",
    "\n",
    "**Étape 1 :** Créez une fonction crypter qui permet de crypter un message clair et retourner le résultat. La fonction reçoit deux paramètres, à savoir, texte_clair qui est le texte en clair (non crypté) et clé qui la valeur utilisée pour décaler les lettres."
   ]
  },
  {
   "cell_type": "code",
   "execution_count": null,
   "id": "34a7e8f5-c047-4589-9c3e-a245d60099f6",
   "metadata": {},
   "outputs": [],
   "source": [
    "def crypter(texte_clair, cle):\n",
    "    #écrire votre code ici\n",
    "    \n",
    "#Quelques tests\n",
    "print(crypter(\"Bonjour\", 2)) #affichera Dqplqwt\n",
    "print(crypter(\"salut\", 10))   #affichera ckved\n",
    "print(crypter(\"PYTHON\", 5))  #affichera UDYMTS"
   ]
  },
  {
   "cell_type": "markdown",
   "id": "3bdfbc3a-4380-4477-821b-df7f5c2bdc29",
   "metadata": {},
   "source": [
    "**Étape 2 :** Créez une fonction décrypter qui réalise le traitement inverse, c'est-à-dire, décrypter un message crypté. La fonction reçoit deux paramètres, à savoir, texte_crypte qui est le texte en clair (non crypté) et clé qui la valeur utilisée pour décaler les lettres."
   ]
  },
  {
   "cell_type": "code",
   "execution_count": null,
   "id": "83e16af4-ec6f-4226-bf19-05cebb4f96d2",
   "metadata": {},
   "outputs": [],
   "source": [
    "def decrypter(texte_crypte, cle):\n",
    "    #écrire votre code ici\n",
    "    \n",
    "#Quelques tests\n",
    "print(decrypter(\"Dqplqwt\", 2))  #affichera Bonjour\n",
    "print(decrypter(\"ckved\", 10))   #affichera salut\n",
    "print(decrypter(\"UDYMTS\", 5))   #affichera PYTHON"
   ]
  },
  {
   "cell_type": "markdown",
   "id": "390e38eb-2b55-40e8-8ec0-a8b03f596fbe",
   "metadata": {},
   "source": [
    "**Étape 3 :** Créez une fonction main qui permette à l'utilisateur de crypter ou décrypter un message ainsi que de quitter le programme. Lorsque l'utilisateur choisit de crypter ou décrypter un message, la fonction lui permettra de saisir un texte pouvant être composé de plusieurs lignes. Si l'utilisateur saisit **QQQ** la lecture s'arrête (QQQ ne doit pas être compris dans le texte à crypter/décrypter). L'utilisateur saisit par la suite la clé de chiffrement. La fonction affichera le message crypté/décrypté. Le programme s'exécutera jusqu'à ce que l'utilisateur décide de le quitter."
   ]
  },
  {
   "cell_type": "code",
   "execution_count": null,
   "id": "9fc59ed8-dddf-4bed-936e-db56305bdde6",
   "metadata": {},
   "outputs": [],
   "source": [
    "def main():\n",
    "    #écrire votre code ici\n",
    "    \n",
    "main() #appeler la fonction "
   ]
  },
  {
   "cell_type": "markdown",
   "id": "97e34dfb-9780-46e8-8f43-398079671a4d",
   "metadata": {},
   "source": [
    "Les fonctions suivantes peuvent être utiles.\n",
    "La fonction ord retourne le valeur entière du code ASCII d'un caractère\n",
    "```python \n",
    "ord(character)\n",
    "``` \n",
    "<table style=\"margin-top:10px; margin-left:10px;text-align: left\">\n",
    "  <thead>\n",
    "    <tr>\n",
    "      <th style=\"text-align: left\">Parameter</th>\n",
    "      <th style=\"text-align: left\">Descritpion</th>\n",
    "    </tr>\n",
    "  </thead>\n",
    "  <tbody>\n",
    "    <tr>\n",
    "      <td style=\"text-align: left\">character(s)</td>\n",
    "      <td style=\"text-align: left\">String, any character</td>\n",
    "    </tr>\n",
    "  </tbody>\n",
    "</table>\n",
    "La fonction chr retourne le caractère associé à un entier en se basant sur la table ASCII.\n",
    "\n",
    "```python \n",
    "chr(number)\n",
    "``` \n",
    "<table style=\"margin-top:10px; margin-left:10px;text-align: left\">\n",
    "  <thead>\n",
    "    <tr>\n",
    "      <th style=\"text-align: left\">Parameter</th>\n",
    "      <th style=\"text-align: left\">Descritpion</th>\n",
    "    </tr>\n",
    "  </thead>\n",
    "  <tbody>\n",
    "    <tr>\n",
    "      <td style=\"text-align: left\">number(s)</td>\n",
    "      <td style=\"text-align: left\">An integer representing a valid Unicode code point</td>\n",
    "    </tr>\n",
    "  </tbody>\n",
    "</table>"
   ]
  },
  {
   "cell_type": "markdown",
   "id": "baa0fb94-ec9c-4932-912a-673ba55e0e08",
   "metadata": {},
   "source": [
    "**<center>Évaluation : Merci d'évaluer ce chapitre en utilisant <a href=\"https://docs.google.com/forms/d/e/1FAIpQLSfwmhwI87y8Ctac_tJLxJd7jHYt-8e3dk_l5tTmECXFek3nOQ/viewform?usp=sf_link\">ce lien</a>. Merci pour votre collaboration !</br></center>**"
   ]
  }
 ],
 "metadata": {
  "kernelspec": {
   "display_name": "Python 3.11.0 64-bit",
   "language": "python",
   "name": "python3"
  },
  "language_info": {
   "codemirror_mode": {
    "name": "ipython",
    "version": 3
   },
   "file_extension": ".py",
   "mimetype": "text/x-python",
   "name": "python",
   "nbconvert_exporter": "python",
   "pygments_lexer": "ipython3",
   "version": "3.11.0"
  },
  "vscode": {
   "interpreter": {
    "hash": "eb15da00ddf7abc474b86d37ac6c5c9c8600f29cd0032e6e2de527fbe08602fc"
   }
  }
 },
 "nbformat": 4,
 "nbformat_minor": 5
}

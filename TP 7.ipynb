{
 "cells": [
  {
   "cell_type": "markdown",
   "id": "b46c9688-11d7-479a-a7ac-d5ff7bd13de3",
   "metadata": {},
   "source": [
    "<center><img style=\"text-align:center; margin:0 auto\" src=\"https://drive.google.com/uc?export=view&id=15uzPyvfgv3obSupxZAFHY21YA82yFs0M\" title=\"Logo UMAB\" alt=\"Logo UMAB\" width=\"221\" height=\"236\">\n",
    "<center>\n",
    "<b>Université Abdelhamid Ibn Badis - Mostaganem\n",
    "<br>Faculté des Sciences Exactes et de l'Informatique\n",
    "<br>Département de Mathématiques et Informatique\n",
    "<br>Master IA4IOT\n",
    "<br>Programmation Avancée (Python)\n",
    "</b>\n",
    "</center>\n",
    "\n",
    "---\n"
   ]
  },
  {
   "cell_type": "markdown",
   "id": "891b0b3e-890e-4b9e-8faf-e6373705c359",
   "metadata": {},
   "source": [
    "# <center>TP 07 : Listes</center>\n",
    "<b>Objectif</b> : Ce TP traitement principalement des listes et comprehensions."
   ]
  },
  {
   "cell_type": "markdown",
   "id": "933c7170-6557-42fa-866f-43cacd48e755",
   "metadata": {},
   "source": [
    "---\n",
    "<center><b>Nom et prénoms : Derdour Amina\n",
    "<br>Groupe : M1-IA4IoT\n",
    "<br>(double cliquez sur la cellule)\n",
    "</center></br></b>\n",
    "\n",
    "\n",
    "---"
   ]
  },
  {
   "cell_type": "markdown",
   "id": "c1ec2a0a-3ca6-4a2a-9c92-69e443e14c8f",
   "metadata": {},
   "source": [
    "<b>Exercice 1 :</b> En utilisant la liste L ci-dessous, écrivez les bouts de codes qui permette de réponde aux questions suivantes"
   ]
  },
  {
   "cell_type": "code",
   "execution_count": 1,
   "id": "da26a7ff-7bf3-4a54-a869-5e77f9c7d8bf",
   "metadata": {},
   "outputs": [],
   "source": [
    "#Exécutez cette cellule\n",
    "L = [1, 2, 3, 4, 5, 6, 7]"
   ]
  },
  {
   "cell_type": "markdown",
   "id": "8061aa1d-e164-46bd-b240-6c6763abc6fc",
   "metadata": {},
   "source": [
    "<b>Question 1.1 :</b> Donnez le code qui affiche la taille de L"
   ]
  },
  {
   "cell_type": "code",
   "execution_count": 2,
   "id": "ead89e01-df7a-4bef-a681-70aff995eea4",
   "metadata": {},
   "outputs": [
    {
     "name": "stdout",
     "output_type": "stream",
     "text": [
      "7\n"
     ]
    }
   ],
   "source": [
    "#résultat attendu : 7\n",
    "#écrire votre code ici\n",
    "def listSize(list):\n",
    "    return len(list)\n",
    "print(listSize(L))"
   ]
  },
  {
   "cell_type": "markdown",
   "id": "c6ef03ab-607a-41b8-8d96-c4d4144bc423",
   "metadata": {},
   "source": [
    "<b>Question 1.2 :</b> Dernier élément de la liste"
   ]
  },
  {
   "cell_type": "code",
   "execution_count": 3,
   "id": "6d605345-8f81-440f-a66f-b6669a14ea7f",
   "metadata": {},
   "outputs": [
    {
     "name": "stdout",
     "output_type": "stream",
     "text": [
      "7\n"
     ]
    }
   ],
   "source": [
    "#résultat attendu : 7\n",
    "#écrire votre code ici\n",
    "def lastListElem(list):\n",
    "    return list[-1]\n",
    "print(lastListElem(L))"
   ]
  },
  {
   "cell_type": "markdown",
   "id": "5c1c2057-8ecc-4901-85f1-d769fd7d4b09",
   "metadata": {},
   "source": [
    "<b>Question 1.3 :</b> Premier élément de la liste"
   ]
  },
  {
   "cell_type": "code",
   "execution_count": 9,
   "id": "63660c86-e4c9-4452-8204-2590397488d9",
   "metadata": {},
   "outputs": [
    {
     "name": "stdout",
     "output_type": "stream",
     "text": [
      "1\n"
     ]
    }
   ],
   "source": [
    "#résultat attendu : 1\n",
    "#écrire votre code ici\n",
    "def firstListElem(list):\n",
    "    return list[0]\n",
    "print(firstListElem(L))"
   ]
  },
  {
   "cell_type": "markdown",
   "id": "21b7ad3d-1dd8-487d-b927-c57a7b5657a2",
   "metadata": {},
   "source": [
    "<b>Question 1.4 :</b> L'élément se trouvant au milieu de la liste en supposant qu'on ne connaît pas le nombre de valeurs dans la liste"
   ]
  },
  {
   "cell_type": "code",
   "execution_count": 12,
   "id": "a624f006-d046-464e-b29f-706bac415322",
   "metadata": {},
   "outputs": [
    {
     "name": "stdout",
     "output_type": "stream",
     "text": [
      "4\n"
     ]
    }
   ],
   "source": [
    "#résultat attendu : 4\n",
    "#écrire votre code ici\n",
    "half = len(L) // 2\n",
    "print(L[half])"
   ]
  },
  {
   "cell_type": "markdown",
   "id": "c557a29e-32df-424f-badc-4271ea90be6c",
   "metadata": {},
   "source": [
    "<b>Question 1.5 :</b> La moitié droite de la liste"
   ]
  },
  {
   "cell_type": "code",
   "execution_count": 18,
   "id": "b5aa05f6-94b1-4051-9402-a496c56afecd",
   "metadata": {},
   "outputs": [
    {
     "name": "stdout",
     "output_type": "stream",
     "text": [
      "[4, 5, 6, 7]\n"
     ]
    }
   ],
   "source": [
    "#résultat attendu : [4, 5, 6, 7]\n",
    "#écrire votre code ici\n",
    "i = half\n",
    "new = []\n",
    "while i < len(L):\n",
    "    new.append(L[i])\n",
    "    i += 1\n",
    "print(new)"
   ]
  },
  {
   "cell_type": "markdown",
   "id": "6f941772-6b81-44e8-89d5-97ada0e34045",
   "metadata": {},
   "source": [
    "<b>Question 1.6 :</b> La moitié gauche de la liste"
   ]
  },
  {
   "cell_type": "code",
   "execution_count": 19,
   "id": "5e390bd2-0d44-4088-b3b6-961e348bb701",
   "metadata": {},
   "outputs": [
    {
     "name": "stdout",
     "output_type": "stream",
     "text": [
      "[1, 2, 3]\n"
     ]
    }
   ],
   "source": [
    "#résultat attendu : [1, 3, 5, 7]\n",
    "#écrire votre code ici\n",
    "i = 0\n",
    "new = []\n",
    "while i < half:\n",
    "    new.append(L[i])\n",
    "    i += 1\n",
    "print(new)"
   ]
  },
  {
   "cell_type": "markdown",
   "id": "04130890-53d4-4f31-8179-39bc030739e0",
   "metadata": {},
   "source": [
    "<b>Question 1.7 :</b> Inverser la liste"
   ]
  },
  {
   "cell_type": "code",
   "execution_count": 21,
   "id": "65216e7d-72e9-45fe-a960-e297264f7423",
   "metadata": {},
   "outputs": [
    {
     "name": "stdout",
     "output_type": "stream",
     "text": [
      "[7, 6, 5, 4, 3, 2, 1]\n"
     ]
    }
   ],
   "source": [
    "#résultat attendu : [7, 6, 5, 4, 3, 2, 1]\n",
    "#écrire votre code ici\n",
    "new = L[::-1]\n",
    "print(new)"
   ]
  },
  {
   "cell_type": "markdown",
   "id": "8046d83d-c424-499b-88d1-40d0657be648",
   "metadata": {},
   "source": [
    "<b>Question 1.8 :</b> Doubler la taille de la liste"
   ]
  },
  {
   "cell_type": "code",
   "execution_count": 22,
   "id": "63145efd-0571-4200-bc3c-c184a303bd1e",
   "metadata": {},
   "outputs": [
    {
     "name": "stdout",
     "output_type": "stream",
     "text": [
      "[1, 2, 3, 4, 5, 6, 7, 1, 2, 3, 4, 5, 6, 7]\n"
     ]
    }
   ],
   "source": [
    "#résultat attendu : [1, 2, 3, 4, 5, 6, 7, 1, 2, 3, 4, 5, 6, 7]\n",
    "#écrire votre code ici\n",
    "new = L.copy()\n",
    "print(L + new)"
   ]
  },
  {
   "cell_type": "markdown",
   "id": "619d342f-4f3b-4753-9aa5-5e6395ee79b7",
   "metadata": {},
   "source": [
    "<b>Question 1.9 :</b> Afficher la liste dans un ordre inversé (de droite à gauche) en utilisant une boucle"
   ]
  },
  {
   "cell_type": "code",
   "execution_count": 27,
   "id": "a1cc28e6-f60c-4b5f-84fc-23e21d84653e",
   "metadata": {},
   "outputs": [
    {
     "name": "stdout",
     "output_type": "stream",
     "text": [
      "\"\"\"\n",
      "7\n",
      "6\n",
      "5\n",
      "4\n",
      "3\n",
      "2\n",
      "1\n",
      "\"\"\"\n"
     ]
    }
   ],
   "source": [
    "#résultat attendu :\n",
    "\"\"\"\n",
    "7\n",
    "6\n",
    "5\n",
    "4\n",
    "3\n",
    "2\n",
    "1\n",
    "\"\"\"\n",
    "#écrire votre code ici\n",
    "i = len(L) - 1\n",
    "new = []\n",
    "print('\"\"\"')\n",
    "while i != -1:\n",
    "    print(L[i])\n",
    "    i -= 1\n",
    "print('\"\"\"')"
   ]
  },
  {
   "cell_type": "markdown",
   "id": "0ae73e66-1765-4935-8197-f6eba877f5bf",
   "metadata": {},
   "source": [
    "<b>Question 1.10 :</b> Doubler les valeurs de la liste en utilisant une \"list comprehension\""
   ]
  },
  {
   "cell_type": "code",
   "execution_count": 28,
   "id": "74739ab6-f5de-456e-aad4-b44e62e7f947",
   "metadata": {},
   "outputs": [
    {
     "name": "stdout",
     "output_type": "stream",
     "text": [
      "[2, 4, 6, 8, 10, 12, 14]\n"
     ]
    }
   ],
   "source": [
    "#résultat attendu : [2, 4, 6, 8, 10, 12, 14]\n",
    "#écrire votre code ici\n",
    "L = [i * 2 for i in L]\n",
    "print(L)"
   ]
  },
  {
   "cell_type": "markdown",
   "id": "4ad1f11f-72fa-4f96-be0d-527bfafed438",
   "metadata": {},
   "source": [
    "<center><img style=\"text-align:center; margin:0 auto\" src=\"https://drive.google.com/uc?export=view&id=1b6FAYvwzoyhueHQXwSEUtqyZJcN77XR9\" title=\"Carte trésor\" alt=\"Carte trésor\" width=\"654\" height=\"460\">\n",
    "</center>\n",
    "<b>Exercice 2 :</b> Chasse au trésor : Vous venez de trouver (trouver ? Pirate !) un trésor, et vous voulez l'enterrer quelque part et marquer (x) l'endroit sur carte. Le programme permettra à l'utilisateur de marquer un x sur la carte en utilisant une valeur lue (une valeur comprenant ligne et colonne en même temps). Par exemple la valeur 32 entrée, veut dire dire ligne 3, colonne 2.\n",
    "\n",
    "**<center>Exemple d'exécution</center>**\n",
    "<p style=\"padding: 10px; border: 1px solid black;\">\n",
    "<b style=\"color:blue;\">Entrez la position du trésor : 32</b>\n",
    "<br>['⬜️', '⬜️', '⬜️']\n",
    "<br>['⬜️', '⬜️', '⬜️']\n",
    "<br>['⬜️', 'X', '⬜️']\n",
    "</p>"
   ]
  },
  {
   "cell_type": "code",
   "execution_count": 13,
   "id": "d4e1be0f-1ff4-4bf7-96e0-7d37c9ec2301",
   "metadata": {},
   "outputs": [
    {
     "name": "stdout",
     "output_type": "stream",
     "text": [
      "[['⬜️', '⬜️', '⬜️'], ['⬜️', '⬜️', '⬜️'], ['⬜️', '⬜️', '⬜️']]\n",
      "[['X', '⬜️', '⬜️'], ['X', '⬜️', '⬜️'], ['X', '⬜️', '⬜️']]\n"
     ]
    }
   ],
   "source": [
    "#écrire votre code ici\n",
    "pos = input(\"Entrez la position du trésor:\")\n",
    "while len(pos) != 2:\n",
    "    pos = int(input(\"Entrez la position du trésor:\"))\n",
    "    \n",
    "lst = []\n",
    "matrice = []\n",
    "ligne = []\n",
    "\n",
    "for i in range(len(pos)):\n",
    "    lst.append(int(pos[i]))\n",
    "for b in range(int(pos[0])):\n",
    "    ligne.append(\"⬜️\")\n",
    "    matrice.append(ligne)\n",
    "print(matrice)\n",
    "pos_l = int(pos[0]) - 1\n",
    "pos_c = int(pos[1]) - 1\n",
    "for y in range(len(matrice)):\n",
    "    print(matrice[y])\n",
    "matrice[pos_l] = \n",
    "print(matrice)"
   ]
  },
  {
   "cell_type": "markdown",
   "id": "40d376bb-f598-4064-8772-7359197f8553",
   "metadata": {},
   "source": [
    "<center><img style=\"text-align:center; margin:0 auto\" src=\"https://drive.google.com/uc?export=view&id=1tkXmk1FoFnHWzz-XV1q4e_-2vWYdYBF3\" title=\"Loisirs\" alt=\"Loisirs\" width=\"654\" height=\"460\">\n",
    "</center>\n",
    "<b>Exercice 3 :</b> Vous êtes intéressé(e) par une certaine personne P sur une application de rencontre, et vous voulez savoir quels loisirs vous et P avez en commun. En tant que génie en informatique, vous avez stocké vos loisirs dans une liste et les loisirs de P dans une autre liste.  \n",
    "\n",
    "Écrivez une ***fonction loirs_communs(l1, l2)*** qui renvoie une liste contenant les éléments qui sont à la fois dans l1 et l2, en ignorant la casse. Vous pouvez supposer que l1 et l2 sont des listes contenant des chaînes uniques (c'est-à-dire qu'aucun élément n'est pas répété au sein d'une même liste).  \n",
    "Les éléments communs peuvent être listés dans n'importe quel ordre. S'il n'y a pas d'éléments communs, cette fonction doit retourner la liste vide."
   ]
  },
  {
   "cell_type": "code",
   "execution_count": 78,
   "id": "c54673fe-bc90-4ac4-81e7-932d4cf29d30",
   "metadata": {},
   "outputs": [
    {
     "name": "stdout",
     "output_type": "stream",
     "text": [
      "['Randonnée', 'Jeux', 'Dessin', 'Poterie', 'Cyclisme', 'Dormir']\n",
      "['Football', 'Guitare', 'Voyage', 'VOYAGE', 'FOOTBALL']\n",
      "['Cinéma', 'BASKETBALL', 'Cyclisme', 'basketball', 'football']\n"
     ]
    }
   ],
   "source": [
    "#Solution avec boucles\n",
    "def loirs_communs(l1, l2):\n",
    "    #écrire votre code ici\n",
    "    new = []\n",
    "    new = l1 + l2\n",
    "    for i in new:\n",
    "        i = i.lower()\n",
    "        \n",
    "    return new\n",
    "    \n",
    "print(loirs_communs(['Randonnée', 'Jeux', 'Dessin'], ['Poterie', 'Cyclisme', 'Dormir'])) #devra afficher []\n",
    "print(loirs_communs(['Football', 'Guitare', 'Voyage'], ['VOYAGE', 'FOOTBALL'])) #devra afficher ['football', 'voyage']\n",
    "print(loirs_communs(['Cinéma', 'BASKETBALL', 'Cyclisme'], ['basketball', 'football'])) #devra afficher ['basketball']"
   ]
  },
  {
   "cell_type": "code",
   "execution_count": null,
   "id": "efa67316-7f6d-4780-80dd-f380211304c5",
   "metadata": {},
   "outputs": [],
   "source": [
    "#Solution avec list comprehensions\n",
    "def loirs_communs(l1, l2):\n",
    "    #écrire votre code ici\n",
    "    \n",
    "print(loirs_communs(['Randonnée', 'Jeux', 'Dessin'], ['Poterie', 'Cyclisme', 'Dormir'])) #devra afficher []\n",
    "print(loirs_communs(['Football', 'Guitare', 'Voyage'], ['VOYAGE', 'FOOTBALL'])) #devra afficher ['football', 'voyage']\n",
    "print(loirs_communs(['Cinéma', 'BASKETBALL', 'Cyclisme'], ['basketball', 'football'])) #devra afficher ['basketball']"
   ]
  },
  {
   "cell_type": "markdown",
   "id": "93bdda7b-9c82-4170-be48-fba152738a2b",
   "metadata": {},
   "source": [
    "<center><img style=\"text-align:center; margin:0 auto\" src=\"https://drive.google.com/uc?export=view&id=1ceAzaNIISvdLFJQB-fLXWeVTt8Uz-p25\" title=\"Escargot\" alt=\"Escargot\" width=\"654\" height=\"460\">\n",
    "</center>\n",
    "<b>Exercice 4 :</b> Vous venez de trouver un job chez Halazoune Télécom en tant qu'informaticien et on vous demande de créer une fonction compter_sup(liste, n) qui permet de calculer le nombre de jours où le nombre de réclamations est supérieur à n. Vous pouvez supposer que la liste *réclamations* contient uniquement des entiers non négatifs et que n est un entier."
   ]
  },
  {
   "cell_type": "code",
   "execution_count": null,
   "id": "1857427f-fa84-4318-83e9-433921c5e1da",
   "metadata": {},
   "outputs": [],
   "source": [
    "#Solution avec boucles\n",
    "def compter_sup(reclamations, n):\n",
    "    #écrire votre code ici\n",
    "    \n",
    "#On sait tous que le nombre de réclamations chez Halazoune Télécom doit être encore plus grand !!\n",
    "compter_sup([1535, 1255, 613, 1241], 1200) #Affichera 3\n",
    "compter_sup([1535, 1255, 613, 1241], 1500) #Affichera 1\n",
    "compter_sup([1535, 1255, 613, 1241], 1700) #Affichera 0"
   ]
  },
  {
   "cell_type": "code",
   "execution_count": null,
   "id": "8ff44e99-13d2-42f9-ad61-88e8b06dcbef",
   "metadata": {},
   "outputs": [],
   "source": [
    "#Solution avec list comprehensions\n",
    "def compter_sup(reclamations, n):\n",
    "    #écrire votre code ici\n",
    "    \n",
    "#On sait tous que le nombre de réclamations chez Halazoune Télécom doit être encore plus grand !!\n",
    "compter_sup([1535, 1255, 613, 1241], 1200) #Affichera 3\n",
    "compter_sup([1535, 1255, 613, 1241], 1500) #Affichera 1\n",
    "compter_sup([1535, 1255, 613, 1241], 1700) #Affichera 0"
   ]
  },
  {
   "cell_type": "markdown",
   "id": "050a65bd-502e-4848-8873-2411e5e32f51",
   "metadata": {},
   "source": [
    "<b>Exercice 5 :</b> Halazoune Télécom vous demande maintenant de créer une fonction moyenne_sup(reclamations, n) qui retourne la moyenne des réclamations reçues et qui dépassant le nombre n."
   ]
  },
  {
   "cell_type": "code",
   "execution_count": null,
   "id": "ee69fa4e-1915-4954-bff3-1ada45c59e42",
   "metadata": {},
   "outputs": [],
   "source": [
    "def compter_sup(reclamations, n):\n",
    "    #écrire votre code ici\n",
    "    \n",
    "#On sait tous que le nombre de réclamations chez Halazoune Télécom doit être encore plus grand !!\n",
    "compter_sup([1535, 1255, 613, 1241], 1200) #Affichera 1343.6666\n",
    "compter_sup([1535, 1255, 613, 1241], 1500) #Affichera 1535\n",
    "compter_sup([1535, 1255, 613, 1241], 1700) #Affichera 0"
   ]
  }
 ],
 "metadata": {
  "kernelspec": {
   "display_name": "Python 3.11.0 64-bit",
   "language": "python",
   "name": "python3"
  },
  "language_info": {
   "codemirror_mode": {
    "name": "ipython",
    "version": 3
   },
   "file_extension": ".py",
   "mimetype": "text/x-python",
   "name": "python",
   "nbconvert_exporter": "python",
   "pygments_lexer": "ipython3",
   "version": "3.11.0"
  },
  "vscode": {
   "interpreter": {
    "hash": "eb15da00ddf7abc474b86d37ac6c5c9c8600f29cd0032e6e2de527fbe08602fc"
   }
  }
 },
 "nbformat": 4,
 "nbformat_minor": 5
}

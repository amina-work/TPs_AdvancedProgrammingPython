{
 "cells": [
  {
   "cell_type": "markdown",
   "id": "49e0abea-24fd-41d0-bd23-9f5e246c0c6e",
   "metadata": {},
   "source": [
    "<center><img style=\"text-align:center; margin:0 auto\" src=\"https://drive.google.com/uc?export=view&id=15uzPyvfgv3obSupxZAFHY21YA82yFs0M\" title=\"Logo UMAB\" alt=\"Logo UMAB\" width=\"221\" height=\"236\">\n",
    "<center>\n",
    "<b>Université Abdelhamid Ibn Badis - Mostaganem\n",
    "<br>Faculté des Sciences Exactes et de l'Informatique\n",
    "<br>Département de Mathématiques et Informatique\n",
    "<br>Master IA4IOT\n",
    "<br>Programmation Avancée (Python)\n",
    "</b>\n",
    "</center>\n",
    "\n",
    "---\n"
   ]
  },
  {
   "cell_type": "markdown",
   "id": "8c64f2aa-5561-4de8-b043-3a9261a8a528",
   "metadata": {},
   "source": [
    "# <center>TP 04 : Boucles (Exercices supplémentaires)</center>\n",
    "<b>Objectif</b> : Dans ce TP, nous allons nous intéresser aux boucles for et while avec Python."
   ]
  },
  {
   "cell_type": "markdown",
   "id": "3df8141b-b3d7-4f7e-864c-5ce030a0adf1",
   "metadata": {},
   "source": [
    "---\n",
    "<center><b>Nom et prénoms : Derdour Amina\n",
    "<br>Groupe : M1-IA4IoT\n",
    "\n",
    "---"
   ]
  },
  {
   "cell_type": "markdown",
   "id": "9f44c312-8a3f-4b1e-bb6e-4c80b036fb5e",
   "metadata": {},
   "source": [
    "<b>Exercice 1 :</b> Créez un programme qui demande à l'utilisateur le nombre positif n et qui trouve et affiche tous les nombres premiers entre 1 et n (inclus).\n",
    "**<center>Exemple d'exécution</center>**\n",
    "<p style=\"padding: 10px; border: 1px solid black;\">\n",
    "<b style=\"color:blue;\">Donnez un nombre positif : 13</b>\n",
    "<br>Le nombres premiers entre 1 et 13 sont :\n",
    "<br>1\n",
    "<br>3\n",
    "<br>5\n",
    "<br>7\n",
    "<br>11\n",
    "<br>13\n",
    "</p>"
   ]
  },
  {
   "cell_type": "code",
   "execution_count": 1,
   "id": "56e6f351-709f-4266-a10e-d5a52f9dbc96",
   "metadata": {},
   "outputs": [
    {
     "name": "stdout",
     "output_type": "stream",
     "text": [
      "Le nombres premiers entre 1 et 13 sont:\n",
      "2\n",
      "3\n",
      "5\n",
      "7\n",
      "11\n",
      "13\n"
     ]
    }
   ],
   "source": [
    "#my code\n",
    "n = int(input(\"Donnez un nombre positif: \"))\n",
    "while n <= 0:\n",
    "    n = int(input(\"Incorrect. Donnez un nombre positif: \"))\n",
    "print(\"Le nombres premiers entre 1 et\", n, \"sont:\")\n",
    "for i in range(1, n+1):\n",
    "    if i > 1: #1 and everything below are not prime numbers\n",
    "        for x in range(2, i):\n",
    "            if(i % x) == 0:\n",
    "                break\n",
    "        else:\n",
    "            print(i)"
   ]
  },
  {
   "cell_type": "markdown",
   "id": "ee5d35be-438e-4fc3-a05e-15a3ca1096c7",
   "metadata": {},
   "source": [
    "<b>Exercice 2 :</b> Écrivez un programme qui affiche les premiers termes de la suite de Fibonacci sachant que fib(0) = 0, fib(1) = 1 et fib(n + 1) = fib(n) + fib(n - 1) pour n > 1.</center>\n",
    "**<center>Exemple d'exécution</center>**\n",
    "<p style=\"padding: 10px; border: 1px solid black;\">\n",
    "<b style=\"color:blue;\">Donnez le nombre de termes : 5</b>\n",
    "<br>La suit de Fibonacci est :\n",
    "<br>0\n",
    "<br>1\n",
    "<br>1\n",
    "<br>2\n",
    "<br>3\n",
    "</p>"
   ]
  },
  {
   "cell_type": "code",
   "execution_count": 6,
   "id": "1909ca5d-0e16-4450-b57f-ae1ec2b051bf",
   "metadata": {},
   "outputs": [
    {
     "name": "stdout",
     "output_type": "stream",
     "text": [
      "La suit de Fibonacci est:\n",
      "0\n",
      "1\n",
      "1\n",
      "2\n",
      "3\n"
     ]
    }
   ],
   "source": [
    "#My code\n",
    "n = int(input(\"Donnez le nombre de termes: \"))\n",
    "n1, n2, count = 0, 1, 0\n",
    "while n < 0:\n",
    "    n = int(input(\"Incorrect. Donnez le nombre de termes: \"))\n",
    "print(\"La suit de Fibonacci est:\")\n",
    "if n == 0:\n",
    "    print(n)\n",
    "else:\n",
    "    while count < n:\n",
    "        print(n1)\n",
    "        n3 = n1 + n2\n",
    "        n1 = n2\n",
    "        n2 = n3\n",
    "        count += 1"
   ]
  },
  {
   "cell_type": "markdown",
   "id": "074f7ff7-ae0a-4fdc-bc5b-b55dcc6ec334",
   "metadata": {},
   "source": [
    "<b>Exercice 3 :</b> Créez un programme qui génère 100 nombre aléatoires entre 1 et 100 (inclus) et qui affiche le nombre de chiffres supérieurs et inférieurs à 50.</center>\n",
    "**<center>Exemple d'exécution</center>**\n",
    "<p style=\"padding: 10px; border: 1px solid black;\">\n",
    "Nombre de valeurs supérieures à 50 : 61\n",
    "<br>Nombre de valeurs inférieures à 50 : 39\n",
    "</p>"
   ]
  },
  {
   "cell_type": "code",
   "execution_count": 22,
   "id": "08eebd4e-fc12-41f9-bf6d-dab357774280",
   "metadata": {},
   "outputs": [
    {
     "name": "stdout",
     "output_type": "stream",
     "text": [
      "Nombre de valeurs supérieures a 50: 52\n",
      "Nombre de valeurs inférieures a 50: 48\n"
     ]
    }
   ],
   "source": [
    "#my code\n",
    "import random\n",
    "lst = []\n",
    "inf, sup = 0, 0\n",
    "for i in range(0, 100):\n",
    "    n = random.randint(1, 100)\n",
    "    lst.append(n)\n",
    "for i in lst:\n",
    "    if i < 50:\n",
    "        inf += 1\n",
    "    elif i > 50: \n",
    "        sup += 1\n",
    "print(\"Nombre de valeurs supérieures a 50:\", sup)\n",
    "print(\"Nombre de valeurs inférieures a 50:\", inf)"
   ]
  },
  {
   "cell_type": "markdown",
   "id": "71724efc-26cb-46f9-b0ff-90ae363dafa5",
   "metadata": {},
   "source": [
    "<b>Exercice 4 :</b> Créez un programme qui aléatoirement des nombres entre 1 et 100 (inclus) et qui s'arrête lorsque la valeur 100 est générée.</center>\n",
    "**<center>Exemple d'exécution</center>**\n",
    "<p style=\"padding: 10px; border: 1px solid black;\">\n",
    "51\n",
    "<br>33\n",
    "<br>89\n",
    "<br>21\n",
    "<br>100\n",
    "</p>"
   ]
  },
  {
   "cell_type": "code",
   "execution_count": 24,
   "id": "cda56544-adb2-40a2-a2ba-300e89c8e368",
   "metadata": {},
   "outputs": [
    {
     "name": "stdout",
     "output_type": "stream",
     "text": [
      "54\n",
      "12\n",
      "95\n",
      "13\n",
      "74\n",
      "84\n",
      "14\n",
      "88\n",
      "38\n",
      "6\n",
      "54\n",
      "48\n",
      "100\n"
     ]
    }
   ],
   "source": [
    "#my code\n",
    "import random\n",
    "while True:\n",
    "    value = random.randint(1, 100)\n",
    "    print(value)\n",
    "    if value == 100:\n",
    "        break"
   ]
  },
  {
   "cell_type": "markdown",
   "id": "96731d65-78e3-4fc9-89d9-22af3220602a",
   "metadata": {},
   "source": [
    "<b>Exercice 5 :</b> Créez un programme qui demande à l'utilisateur de saisir la valeur de n, puis calcule et affiche le résultat de la formule suivante.</center>\n",
    "![image.png](data:image/png;base64,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)"
   ]
  },
  {
   "cell_type": "code",
   "execution_count": 34,
   "id": "10c98f3f-8213-41cf-a1a3-dbb3650ed9d7",
   "metadata": {},
   "outputs": [
    {
     "name": "stdout",
     "output_type": "stream",
     "text": [
      "1.96875\n"
     ]
    }
   ],
   "source": [
    "#écrire votre code ici\n",
    "import math\n",
    "n = int(input(\"Donnez un nombre positif: \"))\n",
    "count = 0\n",
    "while n <= 0:\n",
    "    n = int(input(\"Incorrect. Donnez un nombre positif: \"))\n",
    "for i in range(n + 1): \n",
    "    count += 1 / math.pow(2, i)\n",
    "print(count)"
   ]
  },
  {
   "cell_type": "markdown",
   "id": "f03457a5-b160-4605-916e-9fdd9417b106",
   "metadata": {},
   "source": [
    "<b>Exercice 6 :</b> Créez un programme qui demande à l'utilisateur de saisir le prix de produits achetés jusqu'à ce qu'il entre 0 pour arrêter. Le sous-total est affiché après chaque valeur donnée par l'utilisateur. Le programme affichera par la suite le total des prix, le nombre de produits achetés ainsi que le prix moyen.</center>\n",
    "**<center>Exemple d'exécution</center>**\n",
    "<p style=\"padding: 10px; border: 1px solid black;\">\n",
    "<b style=\"color:blue;\">Donnez le prix du produit (0 pour arrêter) : 260</b>\n",
    "<br>Sous-total : 260.00\n",
    "<br><b style=\"color:blue;\">Donnez le prix du produit (0 pour arrêter) : 510</b>\n",
    "<br>Sous-total : 770.00\n",
    "<br><b style=\"color:blue;\">Donnez le prix du produit (0 pour arrêter) : 100</b>\n",
    "<br>Sous-total : 870.00\n",
    "<br><b style=\"color:blue;\">Donnez le prix du produit (0 pour arrêter) : 0</b>\n",
    "<br>TOTAL : 870.00 DZD\n",
    "<br>Nombre produits : 3\n",
    "<br>Prix moyen : 290.00\n",
    "</p>"
   ]
  },
  {
   "cell_type": "code",
   "execution_count": 6,
   "id": "eedb7be4-e469-43a0-bbc9-1c5e9086c8a7",
   "metadata": {},
   "outputs": [
    {
     "name": "stdout",
     "output_type": "stream",
     "text": [
      "Sous-total: 260.00\n",
      "Sous-total: 770.00\n",
      "Sous-total: 870.00\n",
      "TOTAL: 870.00 DZD\n",
      "Nombre produits: 3\n",
      "Prix moyen 290.00\n"
     ]
    }
   ],
   "source": [
    "#écrire votre code ici\n",
    "n = float(input(\"Donnez le prix du produit (0 pour arreter): \"))\n",
    "count = 0\n",
    "nbr = 0 #how many while loop have ran\n",
    "while n > 0:\n",
    "    count += n\n",
    "    nbr += 1\n",
    "    n = float(input(\"Donnez le prix du produit (0 pour arreter): \"))\n",
    "    print(\"Sous-total:\", format(count, \".2f\"))\n",
    "print(\"TOTAL:\", format(count, \".2f\"), \"DZD\")\n",
    "print(\"Nombre produits:\", nbr)\n",
    "moy = count/nbr\n",
    "print(\"Prix moyen\", format(moy, \".2f\"))"
   ]
  },
  {
   "cell_type": "markdown",
   "id": "67b50ff6-1973-411d-86fc-02438020310c",
   "metadata": {},
   "source": [
    "<b>Exercice 7 :</b> Calculateur d'investissement : Le programme demande à l'utilisateur de saisir l'investissement initial (apport), le pourcentage du rendement moyen pour chaque année (gains) et le montant à atteindre.</center>\n",
    "**<center>Exemple d'exécution</center>**\n",
    "<p style=\"padding: 10px; border: 1px solid black;\">\n",
    "<b style=\"color:blue;\">Si j'investis (DZD) : 100000</b>\n",
    "<b style=\"color:blue;\">Je peux gagner chaque année (%) : 6</b>\n",
    "<b style=\"color:blue;\">Et que je atteindre (DZD) : 200000</b>\n",
    "<br>Vous pourrez atteindre 200000.00 DZD après 12 ans. Détails :\n",
    "<br>Année&nbsp&nbsp&nbsp&nbsp&nbspMontant&nbsp&nbsp&nbsp&nbsp&nbsp&nbsp&nbsp&nbsp\n",
    "<br>1&nbsp&nbsp&nbsp&nbsp&nbsp&nbsp&nbsp&nbsp&nbsp&nbsp&nbsp&nbsp&nbsp106000.00&nbsp&nbsp\n",
    "<br>2&nbsp&nbsp&nbsp&nbsp&nbsp&nbsp&nbsp&nbsp&nbsp&nbsp&nbsp&nbsp&nbsp112360.00&nbsp&nbsp\n",
    "<br>3&nbsp&nbsp&nbsp&nbsp&nbsp&nbsp&nbsp&nbsp&nbsp&nbsp&nbsp&nbsp&nbsp119101.60&nbsp&nbsp\n",
    "<br>4&nbsp&nbsp&nbsp&nbsp&nbsp&nbsp&nbsp&nbsp&nbsp&nbsp&nbsp&nbsp&nbsp126247.70&nbsp&nbsp\n",
    "<br>5&nbsp&nbsp&nbsp&nbsp&nbsp&nbsp&nbsp&nbsp&nbsp&nbsp&nbsp&nbsp&nbsp133822.56&nbsp&nbsp\n",
    "<br>6&nbsp&nbsp&nbsp&nbsp&nbsp&nbsp&nbsp&nbsp&nbsp&nbsp&nbsp&nbsp&nbsp141851.91&nbsp&nbsp\n",
    "<br>7&nbsp&nbsp&nbsp&nbsp&nbsp&nbsp&nbsp&nbsp&nbsp&nbsp&nbsp&nbsp&nbsp150363.03&nbsp&nbsp\n",
    "<br>8&nbsp&nbsp&nbsp&nbsp&nbsp&nbsp&nbsp&nbsp&nbsp&nbsp&nbsp&nbsp&nbsp159384.81&nbsp&nbsp\n",
    "<br>9&nbsp&nbsp&nbsp&nbsp&nbsp&nbsp&nbsp&nbsp&nbsp&nbsp&nbsp&nbsp&nbsp168947.90&nbsp&nbsp\n",
    "<br>10&nbsp&nbsp&nbsp&nbsp&nbsp&nbsp&nbsp&nbsp&nbsp&nbsp&nbsp&nbsp179084.77&nbsp&nbsp\n",
    "<br>11&nbsp&nbsp&nbsp&nbsp&nbsp&nbsp&nbsp&nbsp&nbsp&nbsp&nbsp&nbsp189829.86&nbsp&nbsp\n",
    "<br>12&nbsp&nbsp&nbsp&nbsp&nbsp&nbsp&nbsp&nbsp&nbsp&nbsp&nbsp&nbsp201219.65  \n",
    "</p>\n",
    "\n",
    "Write a program that asks user to input the initial investment amount, the average return percentage per year for the investments, and the goal to reach for the user. Program then displays how much the investment is after each year and how many years it takes to reach the goal.\n"
   ]
  },
  {
   "cell_type": "code",
   "execution_count": 1,
   "id": "51af2bd4-4c6a-4b0c-94e3-79b5804dff77",
   "metadata": {},
   "outputs": [
    {
     "name": "stdout",
     "output_type": "stream",
     "text": [
      "Année    Montant\n",
      "1\t106000.00\n",
      "2\t112360.00\n",
      "3\t119101.60\n",
      "4\t126247.70\n",
      "5\t133822.56\n",
      "6\t141851.91\n",
      "7\t150363.03\n",
      "8\t159384.81\n",
      "9\t168947.90\n",
      "10\t179084.77\n",
      "11\t189829.86\n",
      "12\t201219.65\n"
     ]
    }
   ],
   "source": [
    "#écrire votre code ici\n",
    "i = int(input(\"Si j'inverstis (DZD):\")) #doing the calculating in int bc float doesn't work\n",
    "g = int(input(\"Je peux gagner chaque année (%):\"))\n",
    "a = int(input(\"Et que je atteindre (DZD):\"))\n",
    "count = i #money count\n",
    "x = 0 #year count\n",
    "g = g / 100\n",
    "print(\"Année    Montant\")\n",
    "while count < a:\n",
    "    x += 1\n",
    "    count += count * g\n",
    "    print(x, format(count, \".2f\"), sep=\"\\t\")"
   ]
  },
  {
   "cell_type": "markdown",
   "id": "58d3f306-39b2-4f6d-ae96-82bdad554f14",
   "metadata": {},
   "source": [
    "<b>Exercice 8 :</b> Créer un programme qui calcule le nombre de victoires de deux joueurs. L'utilisateur donne la valeur 1 si le joueur 1 a gagné et 2 si c'est le second joueur qui a gagné. Si l'utilisateur entre tout autre valeur, le programme affiche un avertissement. Si l'utilisateur entre la valeur 0, le programme s'arrête affiche le nombre de victoires du joueur 1 et du joueur 2.</center>\n",
    "**<center>Exemple d'exécution</center>**\n",
    "<p style=\"padding: 10px; border: 1px solid black;\">\n",
    "<br><b style=\"color:blue;\">Qui a gagné la partie? (1 ou 2) : 1</b>\n",
    "<br><b style=\"color:blue;\">Qui a gagné la partie? (1 ou 2) : 1</b>\n",
    "<br><b style=\"color:blue;\">Qui a gagné la partie? (1 ou 2) : 2</b>\n",
    "<br><b style=\"color:blue;\">Qui a gagné la partie? (1 ou 2) : 3</b>\n",
    "<br>Erreur. Valeur incorrecte. Entrez 1 ou 2 (0 pour arrêter)\n",
    "<br><b style=\"color:blue;\">Qui a gagné la partie? (1 ou 2) : 1</b>\n",
    "<br><b style=\"color:blue;\">Qui a gagné la partie? (1 ou 2) : 0</b>\n",
    "<br>FIN\n",
    "<br>Joueur 1 : 3\n",
    "<br>Joueur 2 : 1\n",
    "</p>"
   ]
  },
  {
   "cell_type": "code",
   "execution_count": 36,
   "id": "9cf58c76-4935-4593-b58f-70340bb9fb74",
   "metadata": {},
   "outputs": [
    {
     "name": "stdout",
     "output_type": "stream",
     "text": [
      "Erreur. Valeur incorrecte. Entrez 1 ou 2 (0 pour arreter)\n",
      "FIN\n",
      "Joueur 1: 4\n",
      "Joueur 2: 2\n"
     ]
    }
   ],
   "source": [
    "#écrire votre code ici\n",
    "j1, j2 = 0, 0\n",
    "while True:\n",
    "    w = int(input(\"Qui a gagné la partie? (1 ou 2):\"))\n",
    "    if w == 0:\n",
    "        break\n",
    "    elif w == 1:\n",
    "        j1 += 1\n",
    "    elif w == 2:\n",
    "        j2 += 1\n",
    "    else:\n",
    "        print(\"Erreur. Valeur incorrecte. Entrez 1 ou 2 (0 pour arreter)\")\n",
    "        continue\n",
    "print(\"FIN\")\n",
    "print(\"Joueur 1:\", j1)\n",
    "print(\"Joueur 2:\", j2)"
   ]
  },
  {
   "cell_type": "markdown",
   "id": "6b14001d-64ec-463a-9864-f78654744c78",
   "metadata": {
    "tags": []
   },
   "source": [
    "**<center>Évaluation : Merci d'évaluer ce chapitre en utilisant <a href=\"https://forms.gle/a8bcHPr6jYf7VCTa9\">ce lien</a>. Merci pour votre collaboration !</br></center>**\n"
   ]
  }
 ],
 "metadata": {
  "kernelspec": {
   "display_name": "Python 3.9.12 ('base')",
   "language": "python",
   "name": "python3"
  },
  "language_info": {
   "codemirror_mode": {
    "name": "ipython",
    "version": 3
   },
   "file_extension": ".py",
   "mimetype": "text/x-python",
   "name": "python",
   "nbconvert_exporter": "python",
   "pygments_lexer": "ipython3",
   "version": "3.9.12"
  },
  "vscode": {
   "interpreter": {
    "hash": "30609cf90bf0a0c99a2f7c369f598b537ae17b7fb17d17516a43238b383b4719"
   }
  }
 },
 "nbformat": 4,
 "nbformat_minor": 5
}

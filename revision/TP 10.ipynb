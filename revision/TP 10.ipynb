{
 "cells": [
  {
   "cell_type": "markdown",
   "id": "b01046fa-0df9-48ad-beb5-16c328bd5b15",
   "metadata": {},
   "source": [
    "<center><img style=\"text-align:center; margin:0 auto\" src=\"https://drive.google.com/uc?export=view&id=15uzPyvfgv3obSupxZAFHY21YA82yFs0M\" title=\"Logo UMAB\" alt=\"Logo UMAB\" width=\"221\" height=\"236\">\n",
    "<center>\n",
    "<b>Université Abdelhamid Ibn Badis - Mostaganem\n",
    "<br>Faculté des Sciences Exactes et de l'Informatique\n",
    "<br>Département de Mathématiques et Informatique\n",
    "<br>Master IA4IOT\n",
    "<br>Programmation Avancée (Python)\n",
    "</b>\n",
    "</center>\n",
    "\n",
    "---\n"
   ]
  },
  {
   "cell_type": "markdown",
   "id": "f0b3ce5c-deb9-41ed-b217-74681212fbf6",
   "metadata": {},
   "source": [
    "# <center>TP 10 : Manipulation des données</center>\n",
    "<b>Objectif</b> : Maintenant que vous connaissez les bases du langage Python, vous allez tenter de résoudre des exercices où vous lisez des données de différentes sources (principalement des fichiers) que vous devrez analyser."
   ]
  },
  {
   "cell_type": "markdown",
   "id": "59c2d783-006d-4c31-be21-d9f3e2886c0e",
   "metadata": {},
   "source": [
    "---\n",
    "<center><b>Nom et prénoms : ####  \n",
    "<br>Nom et prénoms : ####  \n",
    "<br>Groupe : ####\n",
    "<br>(double cliquez sur la cellule)\n",
    "</center></br></b>\n",
    "\n",
    "\n",
    "---"
   ]
  },
  {
   "cell_type": "markdown",
   "id": "06826211-1c98-4777-b15f-8c7fdd8eb755",
   "metadata": {},
   "source": [
    "<center><img style=\"text-align:center; margin:0 auto\" src=\"https://drive.google.com/uc?export=view&id=194yoX1WqtsvrEIFps9_bE6DZbdLSwlt-\" title=\"Ramen\" alt=\"Ramen\" width=\"400\" height=\"400\">\n",
    "</center>\n",
    "\n",
    "***<a href=\"https://www.theramenrater.com/\">The Ramen Rater</a>*** est un site Web d'évaluation de produits pour les passionnés de ramen (ou \"ramenphile\"), avec plus de 2500 évaluations à ce jour. Le <a href=\"https://www.kaggle.com/datasets/residentmario/ramen-ratings\">dataset</a> (jeu de données) est un fichier CSV (comma separated values) contenant les valeurs séparées par des virgules. Chaque enregistrement (ligne) du dataset correspond à une seule évaluation d'un ramen. Les colonnes sont :\n",
    "\n",
    "* ***Review #*** : le numéro de l'évaluation (continu)\n",
    "* ***Brand*** : est la marque du ramen\n",
    "* ***Variety*** : est la variété\n",
    "* ***Country*** : est le pays où le ramen est vendu/évalué\n",
    "* ***Style*** : est le type de récipient utilisé (assiette, bol, ...)\n",
    "* ***Stars*** : les étoiles indiquent la qualité du ramen, telle que jugée par l'évaluateur, sur une échelle de 5 points\n",
    "* ***Top ten*** : l'année où le ramen en question a fait partie du top 10 et sa position sur 10 (par exemple 2016#5 veut dire ce ramen a été classé numéro 5 en 2016)"
   ]
  },
  {
   "cell_type": "markdown",
   "id": "1bc0dff2-74cb-43f2-af2a-aad2bac1578e",
   "metadata": {},
   "source": [
    "<b>Question 1 ★★★☆☆ : </b>En utilisant des dictionnaires ou listes, lisez le contenu du fichier ramen_rating.csv et stocker le dans une ou plusieurs variables (consultez les autres questions pour déterminer le meilleur moyen de lire les données)."
   ]
  },
  {
   "cell_type": "code",
   "execution_count": 6,
   "id": "a589c615-0026-456f-8838-c94f50799e00",
   "metadata": {},
   "outputs": [],
   "source": [
    "#écrire votre code ici\n"
   ]
  },
  {
   "cell_type": "markdown",
   "id": "436c79c8-3895-44ed-88b5-dd22fef95c94",
   "metadata": {},
   "source": [
    "<b>Question 2 ★☆☆☆☆ : </b>Affichez les cinq premières lignes en utilisant la ou les variables créées lors de l'étape précédente."
   ]
  },
  {
   "cell_type": "code",
   "execution_count": 3,
   "id": "bf483f97-4296-40a5-84e5-a494878bfe31",
   "metadata": {},
   "outputs": [],
   "source": [
    "#écrire votre code ici\n"
   ]
  },
  {
   "cell_type": "markdown",
   "id": "f5214932-a107-40ef-ba78-f247f5311169",
   "metadata": {},
   "source": [
    "<b>Question 3 ★☆☆☆☆ : </b>Affichez la moyenne du nombre d'étoiles."
   ]
  },
  {
   "cell_type": "code",
   "execution_count": 5,
   "id": "2f0e9826-1db2-4215-947d-e947ed3eea5c",
   "metadata": {},
   "outputs": [],
   "source": [
    "#résultat attendu 3.51\n",
    "#écrire votre code ici\n"
   ]
  },
  {
   "cell_type": "markdown",
   "id": "021c13a0-05d0-4ccc-ae33-09d5fadfe779",
   "metadata": {},
   "source": [
    "<b>Question 4 ★☆☆☆☆ : </b>Donnez le nombre d'enregistrements (lignes)."
   ]
  },
  {
   "cell_type": "code",
   "execution_count": null,
   "id": "af7f4c2c-0c89-45bc-a65a-a92901f93da4",
   "metadata": {
    "tags": []
   },
   "outputs": [],
   "source": [
    "#résultat attendu 2580\n",
    "#écrire votre code ici\n"
   ]
  },
  {
   "cell_type": "markdown",
   "id": "e73a0950-2b96-4310-bab9-cd5abef447ee",
   "metadata": {},
   "source": [
    "<b>Question 5 ★☆☆☆☆ : </b>Donnez le nombre (valeurs uniques) de marques (brand)."
   ]
  },
  {
   "cell_type": "code",
   "execution_count": null,
   "id": "d7445ccf-c7a1-4a2c-8e38-39cc9e8c2724",
   "metadata": {
    "tags": []
   },
   "outputs": [],
   "source": [
    "#résultat attendu 353\n",
    "#écrire votre code ici\n"
   ]
  },
  {
   "cell_type": "markdown",
   "id": "f1ccf66d-d343-44f9-b3cf-065dfda1c6fd",
   "metadata": {},
   "source": [
    "<b>Question 6 ★☆☆☆☆ : </b>Donnez le nombre (valeurs uniques) de variétés (variety)."
   ]
  },
  {
   "cell_type": "code",
   "execution_count": null,
   "id": "672c1ddd-5884-4732-a18b-9de3a9045073",
   "metadata": {
    "tags": []
   },
   "outputs": [],
   "source": [
    "#résultat attendu 2406\n",
    "#écrire votre code ici\n"
   ]
  },
  {
   "cell_type": "markdown",
   "id": "4e0470b4-938a-4def-9e03-62c461e35ffb",
   "metadata": {},
   "source": [
    "<b>Question 7 ★☆☆☆☆ : </b>Donnez le nombre de cellules vide dans styles."
   ]
  },
  {
   "cell_type": "code",
   "execution_count": null,
   "id": "a85b2a1c-2db5-4f07-85c0-6a3a39bc0ef2",
   "metadata": {
    "tags": []
   },
   "outputs": [],
   "source": [
    "#résultat attendu 2\n",
    "#écrire votre code ici\n"
   ]
  },
  {
   "cell_type": "markdown",
   "id": "599cf08b-7d14-4fee-9564-2701878c7c44",
   "metadata": {},
   "source": [
    "<b>Question 8 ★☆☆☆☆ : </b>Donnez le nombre (valeurs uniques) de styles en ignorant les cellules vides."
   ]
  },
  {
   "cell_type": "code",
   "execution_count": null,
   "id": "11a3707a-9228-4a3a-8dae-c9eb47dbcc10",
   "metadata": {
    "tags": []
   },
   "outputs": [],
   "source": [
    "#résultat attendu 7\n",
    "#écrire votre code ici\n"
   ]
  },
  {
   "cell_type": "markdown",
   "id": "88785706-8c01-4bb8-890c-2d6a0e4be4cb",
   "metadata": {},
   "source": [
    "<b>Question 9 ★☆☆☆☆ : </b>Donnez le nombre de pays."
   ]
  },
  {
   "cell_type": "code",
   "execution_count": null,
   "id": "84bc318f-5861-4632-a930-6c65c22a4753",
   "metadata": {
    "tags": []
   },
   "outputs": [],
   "source": [
    "#résultat attendu 38\n",
    "#écrire votre code ici\n"
   ]
  },
  {
   "cell_type": "markdown",
   "id": "49f52734-51bb-4d2d-8497-feb972049995",
   "metadata": {},
   "source": [
    "<b>Question 10 ★★☆☆☆ : </b>Donnez le pays avec la moyenne du nombre d'étoiles la plus élevée :"
   ]
  },
  {
   "cell_type": "code",
   "execution_count": 7,
   "id": "b3c353ce-0110-4500-9e2b-b8d397055cff",
   "metadata": {},
   "outputs": [],
   "source": [
    "#résultat attendu Brazil\n",
    "#écrire votre code ici\n"
   ]
  },
  {
   "cell_type": "markdown",
   "id": "065d6f4e-51fd-4e6e-a85c-ca57466e29d2",
   "metadata": {},
   "source": [
    "<b>Question 11 ★★☆☆☆ : </b>Créez une fonction ***abreviation*** qui reçoit le numéro d'une ligne en paramètre et qui retourne une version abrégée de la ligne. La valeur retournée doit contenir les deux premières lettres de *Variety* suivis par ***(...)*** puis suivis par un espace et enfin le nom du pays."
   ]
  },
  {
   "cell_type": "code",
   "execution_count": 7,
   "id": "45c9b6c0-c28b-4b42-a5c4-8e26a2e71431",
   "metadata": {},
   "outputs": [],
   "source": [
    "def abreviation(numero_ligne):\n",
    "    #écrire votre code ici\n",
    "\n",
    "#Test\n",
    "abreviation(1) #devrait afficher No(...) Taiwan\n",
    "abreviation(10) #devrait afficher Cr(...) Thailand"
   ]
  },
  {
   "cell_type": "markdown",
   "id": "7f07fb45-21a2-4e67-9e37-28fdba86a8c6",
   "metadata": {},
   "source": [
    "<b>Question 12 ★★★☆☆ : </b>Affichez le nombre moyen d'étoiles par pays par exemple :  \n",
    "Australia 3.14  \n",
    "Japan 3.98  \n",
    "...."
   ]
  },
  {
   "cell_type": "code",
   "execution_count": 4,
   "id": "fd31e7d5-1799-4f70-aafa-e3092b3cf7ed",
   "metadata": {},
   "outputs": [],
   "source": [
    "#écrire votre code ici\n"
   ]
  },
  {
   "cell_type": "markdown",
   "id": "e8c8ce4e-88cc-4f54-9f37-4de5cec02fe8",
   "metadata": {},
   "source": [
    "<b>Question 13 ★★★☆☆ : </b>Rajoutez une colonne supplémentaire qui stocke le nombre d'étoiles moyen pour chaque pays. "
   ]
  },
  {
   "cell_type": "code",
   "execution_count": null,
   "id": "4fa3fb6e-f7ee-4436-a880-969ac1122087",
   "metadata": {},
   "outputs": [],
   "source": [
    "#écrire votre code ici\n"
   ]
  },
  {
   "cell_type": "markdown",
   "id": "8665e8cf-40fb-4fbf-8c1d-40a7e57af35a",
   "metadata": {},
   "source": [
    "<b>Question 14 ★★★★☆ : </b>Donnez pour chaque année le pays ayant été classé premier. Par exemple :  \n",
    "2012 Indonesia  \n",
    "2013 Singapore  \n",
    "2014 Malaysia  \n",
    "2015 Malaysia  \n",
    "2016 Singapore  "
   ]
  },
  {
   "cell_type": "code",
   "execution_count": null,
   "id": "27eb7351-fc59-431e-b399-08b3bd48cfc8",
   "metadata": {},
   "outputs": [],
   "source": [
    "#écrire votre code ici\n"
   ]
  },
  {
   "cell_type": "markdown",
   "id": "118df89d-7e40-4df2-93cf-94019d2feb4c",
   "metadata": {},
   "source": [
    "<b>Question 15 ★★★★★ : </b> Affichez le nombre d'étoiles moyen par pays et par style en même temps. Par exemple : \n",
    "\n",
    "Country&nbsp;&nbsp;&nbsp;&nbsp;&nbsp;&nbsp;&nbsp;&nbsp;Style  \n",
    "Australia&nbsp;&nbsp;&nbsp;&nbsp;&nbsp;&nbsp;&nbsp;Cup&nbsp;&nbsp;&nbsp;&nbsp;&nbsp;&nbsp;3.120588  \n",
    "&nbsp;&nbsp;&nbsp;&nbsp;&nbsp;&nbsp;&nbsp;&nbsp;&nbsp;&nbsp;&nbsp;&nbsp;&nbsp;&nbsp;&nbsp;&nbsp;&nbsp;&nbsp;&nbsp;&nbsp;&nbsp;Pack&nbsp;&nbsp;&nbsp;&nbsp;&nbsp;3.200000  \n",
    "\n",
    "Brazil&nbsp;&nbsp;&nbsp;&nbsp;&nbsp;&nbsp;&nbsp;&nbsp;&nbsp;&nbsp;&nbsp;&nbsp;Cup&nbsp;&nbsp;&nbsp;&nbsp;&nbsp;&nbsp;4.500000  \n",
    "&nbsp;&nbsp;&nbsp;&nbsp;&nbsp;&nbsp;&nbsp;&nbsp;&nbsp;&nbsp;&nbsp;&nbsp;&nbsp;&nbsp;&nbsp;&nbsp;&nbsp;&nbsp;&nbsp;&nbsp;&nbsp;Pack&nbsp;&nbsp;&nbsp;&nbsp;&nbsp;4.250000  \n",
    "&nbsp;&nbsp;&nbsp;&nbsp;&nbsp;&nbsp;&nbsp;&nbsp;&nbsp;&nbsp;&nbsp;&nbsp;&nbsp;&nbsp;&nbsp;&nbsp;&nbsp;&nbsp;&nbsp;&nbsp;&nbsp;&nbsp;&nbsp;&nbsp;&nbsp;&nbsp;...&nbsp;&nbsp;&nbsp;  \n",
    "\n",
    "Vietnam&nbsp;&nbsp;&nbsp;&nbsp;&nbsp;&nbsp;&nbsp;&nbsp;Bowl&nbsp;&nbsp;&nbsp;&nbsp;&nbsp;3.362500  \n",
    "&nbsp;&nbsp;&nbsp;&nbsp;&nbsp;&nbsp;&nbsp;&nbsp;&nbsp;&nbsp;&nbsp;&nbsp;&nbsp;&nbsp;&nbsp;&nbsp;&nbsp;&nbsp;&nbsp;&nbsp;&nbsp;Cup&nbsp;&nbsp;&nbsp;&nbsp;&nbsp;&nbsp;&nbsp;2.656250  \n",
    "&nbsp;&nbsp;&nbsp;&nbsp;&nbsp;&nbsp;&nbsp;&nbsp;&nbsp;&nbsp;&nbsp;&nbsp;&nbsp;&nbsp;&nbsp;&nbsp;&nbsp;&nbsp;&nbsp;&nbsp;&nbsp;Pack&nbsp;&nbsp;&nbsp;&nbsp;&nbsp;&nbsp;3.183333  \n",
    "&nbsp;&nbsp;&nbsp;&nbsp;&nbsp;&nbsp;&nbsp;&nbsp;&nbsp;&nbsp;&nbsp;&nbsp;&nbsp;&nbsp;&nbsp;&nbsp;&nbsp;&nbsp;&nbsp;&nbsp;&nbsp;Tray&nbsp;&nbsp;&nbsp;&nbsp;&nbsp;&nbsp;&nbsp;3.750000  "
   ]
  },
  {
   "cell_type": "code",
   "execution_count": null,
   "id": "1e8f8e62-05f8-4b1b-86d0-09cf003c106d",
   "metadata": {},
   "outputs": [],
   "source": [
    "#écrire votre code ici\n"
   ]
  },
  {
   "cell_type": "markdown",
   "id": "8a4b1c35-0778-4449-ba48-b522fea43b8c",
   "metadata": {},
   "source": [
    "<center><img style=\"text-align:center; margin:0 auto\" src=\"https://drive.google.com/uc?export=view&id=1oevwGy5aTwCUfpRgufZk5Qc-Em3J3Mvj\" title=\"Itadakimasu\" alt=\"Itadakimasu\" width=\"300\" height=\"300\">\n",
    "</center>"
   ]
  },
  {
   "cell_type": "markdown",
   "id": "ec518395-6466-4a51-a30d-1d1b12ace22d",
   "metadata": {},
   "source": [
    "**<center>Évaluation : Merci d'évaluer ce chapitre en utilisant <a href=\"https://docs.google.com/forms/d/e/1FAIpQLScX3fFLPZ1Eo7URmIYkmYD5UOpY8s9vXT9fjKSyRzDuDC23Fg/viewform?usp=sf_link\">ce lien</a>. Merci pour votre collaboration !</br></center>**"
   ]
  }
 ],
 "metadata": {
  "kernelspec": {
   "display_name": "Python 3 (ipykernel)",
   "language": "python",
   "name": "python3"
  },
  "language_info": {
   "codemirror_mode": {
    "name": "ipython",
    "version": 3
   },
   "file_extension": ".py",
   "mimetype": "text/x-python",
   "name": "python",
   "nbconvert_exporter": "python",
   "pygments_lexer": "ipython3",
   "version": "3.9.12"
  }
 },
 "nbformat": 4,
 "nbformat_minor": 5
}

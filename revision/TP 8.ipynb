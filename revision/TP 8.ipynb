{
 "cells": [
  {
   "cell_type": "markdown",
   "id": "4fe38f89-c5a9-4b5e-b6ae-c4f576b4f742",
   "metadata": {},
   "source": [
    "<center><img style=\"text-align:center; margin:0 auto\" src=\"https://drive.google.com/uc?export=view&id=15uzPyvfgv3obSupxZAFHY21YA82yFs0M\" title=\"Logo UMAB\" alt=\"Logo UMAB\" width=\"221\" height=\"236\">\n",
    "<center>\n",
    "<b>Université Abdelhamid Ibn Badis - Mostaganem\n",
    "<br>Faculté des Sciences Exactes et de l'Informatique\n",
    "<br>Département de Mathématiques et Informatique\n",
    "<br>Master IA4IOT\n",
    "<br>Programmation Avancée (Python)\n",
    "</b>\n",
    "</center>\n",
    "\n",
    "---\n"
   ]
  },
  {
   "cell_type": "markdown",
   "id": "99182f33-c397-41da-a6fd-ec5605c57b5f",
   "metadata": {},
   "source": [
    "# <center>TP 08 : Dictionnaires</center>\n",
    "<b>Objectif</b> : Ce TP traitement principalement des dictionnaires et des \"dictionary comprehensions\"."
   ]
  },
  {
   "cell_type": "markdown",
   "id": "0ce794ba-7d0f-421d-8cc0-6a5377d9b6bf",
   "metadata": {},
   "source": [
    "---\n",
    "<center><b>Nom et prénoms : ####  \n",
    "<br>Nom et prénoms : ####  \n",
    "<br>Groupe : ####\n",
    "<br>(double cliquez sur la cellule)\n",
    "</center></br></b>\n",
    "\n",
    "\n",
    "---"
   ]
  },
  {
   "cell_type": "markdown",
   "id": "4e05d8fd-0d8c-4bbb-b8e8-e7e98c68742b",
   "metadata": {},
   "source": [
    "<b>Exercice 1 : </b>Soit le dictionnaire ***semaine*** créé ci-dessous. Répondez aux questions suivantes :  "
   ]
  },
  {
   "cell_type": "code",
   "execution_count": 1,
   "id": "0b2a4305-e183-46b3-a4ec-969f0297f807",
   "metadata": {},
   "outputs": [],
   "source": [
    "#Exécutez cette cellule\n",
    "jours = [\"Dim\", \"Lun\", \"Mar\", \"Mer\", \"Jeu\", \"Ven\", \"Sam\"]"
   ]
  },
  {
   "cell_type": "markdown",
   "id": "4e4224c0-66df-4567-be4f-1ef4f9368242",
   "metadata": {},
   "source": [
    "<b>Question 1.1 :</b> la variable jour, est-elle une liste ou un dictionnaire ?"
   ]
  },
  {
   "cell_type": "code",
   "execution_count": null,
   "id": "adfa79f2-ef57-4a69-9361-f9c89abbe5d4",
   "metadata": {},
   "outputs": [],
   "source": [
    "#Réponse : list"
   ]
  },
  {
   "cell_type": "code",
   "execution_count": 2,
   "id": "5e15c36a-8e31-46c5-9222-eb8f3822fc1d",
   "metadata": {},
   "outputs": [
    {
     "name": "stdout",
     "output_type": "stream",
     "text": [
      "{'Dim': 1, 'Lun': 2, 'Mar': 3, 'Mer': 4, 'Jeu': 5, 'Ven': 6, 'Sam': 7}\n"
     ]
    }
   ],
   "source": [
    "#Exécutez cette cellule\n",
    "semaine = { jours[i]:i+1 for i in range(7) }\n",
    "print(semaine)"
   ]
  },
  {
   "cell_type": "markdown",
   "id": "d8543d60-52a3-495a-860a-c15a6675b311",
   "metadata": {},
   "source": [
    "<b>Question 1.2 :</b> la variable semaine, est-elle une liste ou un dictionnaire ?"
   ]
  },
  {
   "cell_type": "code",
   "execution_count": null,
   "id": "0e20f79e-4bd5-496e-a934-3017c3c0dbe4",
   "metadata": {},
   "outputs": [],
   "source": [
    "#Réponse : dictionnaire"
   ]
  },
  {
   "cell_type": "markdown",
   "id": "9b26fb37-a738-4b57-a97b-d67a31ae24a6",
   "metadata": {},
   "source": [
    "<b>Question 1.3 :</b> en utilisant une boucle, affichez les jours à partir de la variable ***semaine*** ?"
   ]
  },
  {
   "cell_type": "code",
   "execution_count": 5,
   "id": "26553046-7c96-4b38-97b5-4d8276b3949a",
   "metadata": {},
   "outputs": [
    {
     "name": "stdout",
     "output_type": "stream",
     "text": [
      "1 Dim\n",
      "2 Lun\n",
      "3 Mar\n",
      "4 Mer\n",
      "5 Jeu\n",
      "6 Ven\n",
      "7 Sam\n"
     ]
    }
   ],
   "source": [
    "#résultat attendu\n",
    "\"\"\"\n",
    "1 Dim\n",
    "2 Lun\n",
    "3 Mar\n",
    "4 Mer\n",
    "5 Jeu\n",
    "6 Ven\n",
    "7 Sam\n",
    "\"\"\"\n",
    "#écrire votre code ici\n",
    "for k, v in semaine.items():\n",
    "    print(v, k)"
   ]
  },
  {
   "cell_type": "markdown",
   "id": "189d1f0d-c3bb-446c-9423-b7500495ef83",
   "metadata": {},
   "source": [
    "<b>Question 1.4 :</b> en utilisant une boucle, affichez les jours et leurs valeurs à partir de la variable ***semaine*** ?"
   ]
  },
  {
   "cell_type": "code",
   "execution_count": 8,
   "id": "c4df45cf-bdac-4bd1-9bef-3869a35ba8e1",
   "metadata": {},
   "outputs": [
    {
     "name": "stdout",
     "output_type": "stream",
     "text": [
      "1 Dim | 2 Lun | 3 Mar | 4 Mer | 5 Jeu | 6 Ven | 7 Sam | "
     ]
    }
   ],
   "source": [
    "#résultat attendu\n",
    "\"\"\"\n",
    "1 Dim | 2 Lun | 3 Mar | 4 Mer | 5 Jeu | 6 Ven | 7 Sam | \n",
    "\"\"\"\n",
    "#écrire votre code ici\n",
    "for k, v in semaine.items():\n",
    "    print(v, k, end=' | ')"
   ]
  },
  {
   "cell_type": "markdown",
   "id": "fe0a4596-8c84-48cf-ab2a-2140daaed05c",
   "metadata": {},
   "source": [
    "<b>Exercice 2 : </b>Soit le ***texte*** ci-dessous. Répondez aux questions :  "
   ]
  },
  {
   "cell_type": "code",
   "execution_count": 9,
   "id": "f9547115-17aa-41b8-8e26-8919cde54137",
   "metadata": {},
   "outputs": [],
   "source": [
    "#Exécutez cette cellule\n",
    "texte = \"Post hoc impie perpetratum quod in aliis quoque iam timebatur, tamquam licentia crudelitati indulta per suspicionum nebulas aestimati quidam noxii damnabantur. quorum pars necati, alii puniti bonorum multatione actique laribus suis extorres nullo sibi relicto praeter querelas et lacrimas, stipe conlaticia victitabant, et civili iustoque imperio ad voluntatem converso cruentam, claudebantur opulentae domus et clarae.\""
   ]
  },
  {
   "cell_type": "markdown",
   "id": "008b324a-5292-4f89-ac8f-0800e4f09f6c",
   "metadata": {},
   "source": [
    "<b>Question 2.1 :</b> que fait le code suivant ?\n",
    "```python\n",
    "s = 0\n",
    "for c in texte:\n",
    "  if c.lower() == 'a':\n",
    "    s += 1\n",
    "print(s)\n",
    "```"
   ]
  },
  {
   "cell_type": "code",
   "execution_count": null,
   "id": "7d6f2d29-1fe5-4c61-9759-9b6751dffc1d",
   "metadata": {},
   "outputs": [],
   "source": [
    "#Réponse :  count number of 'a' appearances in the texte"
   ]
  },
  {
   "cell_type": "markdown",
   "id": "f9af941b-c7f5-4219-a225-fb91364bb045",
   "metadata": {},
   "source": [
    "<b>Question 2.2 :</b> écrire le code qui permet de calculer le nombre d'apparition des caractères (en respectant la casse) dans le texte. Par exemple :\n",
    "```python\n",
    "{'a': 15, 'b': 9, 'A':3, ...}\n",
    "```"
   ]
  },
  {
   "cell_type": "code",
   "execution_count": 17,
   "id": "15046961-ca37-4f55-8bf0-b7b9b986e672",
   "metadata": {},
   "outputs": [
    {
     "name": "stdout",
     "output_type": "stream",
     "text": [
      "{'P': 1, 'o': 21, 's': 18, 't': 35, ' ': 54, 'h': 1, 'c': 16, 'i': 43, 'm': 18, 'p': 11, 'e': 33, 'r': 22, 'a': 38, 'u': 31, 'q': 9, 'd': 8, 'n': 20, 'l': 19, 'b': 8, ',': 5, 'x': 2, '.': 2, 'v': 4}\n"
     ]
    }
   ],
   "source": [
    "#écrire votre code ici\n",
    "dict = {}\n",
    "for i in texte:\n",
    "    dict[i] = dict.get(i, 0) + 1\n",
    "print(dict)"
   ]
  },
  {
   "cell_type": "markdown",
   "id": "96d20add-3620-402e-a4c6-cd68a9cc9ddb",
   "metadata": {},
   "source": [
    "<b>Question 2.3 :</b> écrire le code qui permet de calculer le nombre d'apparition des lettres de l'alphabet uniquement (en ignorant la casse). Par exemple :\n",
    "```python\n",
    "{'a': 18, 'b': 9, 'c':5, ...}\n",
    "```"
   ]
  },
  {
   "cell_type": "code",
   "execution_count": 21,
   "id": "aa9838e3-33e4-4a2c-8ce3-5e33dc958e7e",
   "metadata": {},
   "outputs": [
    {
     "name": "stdout",
     "output_type": "stream",
     "text": [
      "{'p': 12, 'o': 21, 's': 18, 't': 35, 'h': 1, 'c': 16, 'i': 43, 'm': 18, 'e': 33, 'r': 22, 'a': 38, 'u': 31, 'q': 9, 'd': 8, 'n': 20, 'l': 19, 'b': 8, 'x': 2, 'v': 4}\n"
     ]
    }
   ],
   "source": [
    "#écrire votre code ici\n",
    "texte = texte.lower()\n",
    "texte = texte.replace(\",\", \" \")\n",
    "texte = texte.replace(\".\", \" \")\n",
    "texte = texte.replace(\" \", \"\")\n",
    "dict = {}\n",
    "for i in texte:\n",
    "    dict[i] = dict.get(i, 0) + 1\n",
    "print(dict)"
   ]
  },
  {
   "cell_type": "markdown",
   "id": "7facd325-e6b5-46ff-9cf5-32567bfc23e6",
   "metadata": {},
   "source": [
    "<b>Question 2.4 :</b> reprendre le résultat de la question précédent afin d'afficher les lettres et leur nombre d'apparitions triés par ordre alphabétique."
   ]
  },
  {
   "cell_type": "code",
   "execution_count": 22,
   "id": "7e0d0546-d130-44dd-893d-25e9621232b8",
   "metadata": {},
   "outputs": [
    {
     "name": "stdout",
     "output_type": "stream",
     "text": [
      "[('a', 38), ('b', 8), ('c', 16), ('d', 8), ('e', 33), ('h', 1), ('i', 43), ('l', 19), ('m', 18), ('n', 20), ('o', 21), ('p', 12), ('q', 9), ('r', 22), ('s', 18), ('t', 35), ('u', 31), ('v', 4), ('x', 2)]\n"
     ]
    }
   ],
   "source": [
    "#écrire votre code ici\n",
    "texte = texte.lower()\n",
    "texte = texte.replace(\",\", \" \")\n",
    "texte = texte.replace(\".\", \" \")\n",
    "texte = texte.replace(\" \", \"\")\n",
    "dict = {}\n",
    "for i in texte:\n",
    "    dict[i] = dict.get(i, 0) + 1\n",
    "print(sorted(dict.items()))"
   ]
  },
  {
   "cell_type": "markdown",
   "id": "f6e2a9a4-65ab-4636-aed3-22684a6fff38",
   "metadata": {},
   "source": [
    "<center><img style=\"text-align:center; margin:0 auto\" src=\"https://drive.google.com/uc?export=view&id=1palfSll98C-NFMbd6xuxebI8W8UJtz4w\" title=\"Animaux\" alt=\"Animaux\" width=\"1024\" height=\"768\">\n",
    "</center>\n",
    "<b>Exercice 3 :</b> nous voulons mettre en place une étude afin de déterminer les animaux les plus aimés. Malheureusement, cette étude a été menée en utilisant des formulaire rempli manuellement par des personnes, et nous vous avons désigné(e) pour digitaliser les noms des animaux.  \n",
    "Étant donné que vous savez programmer, vous décidez de créer un programme qui vous permettra de saisir les nom d'animaux, jusqu'à ce que vous entrez X. Enfin, le programme affichera les noms (ignorer la casse) des animaux ainsi que le nombres de fois qu'ils apparaissent ainsi que le(s) nom(s) des animaux qui apparaissent le plus (max).\n",
    "\n",
    "**<center>Exemple d'exécution</center>**\n",
    "<p style=\"padding: 10px; border: 1px solid black;\">\n",
    "<b style=\"color:blue;\">Entrez le nom de l'animal favoris du formulaire 1 : fennec</b>\n",
    "<br><b style=\"color:blue;\">Entrez le nom de l'animal favoris du formulaire 2 : chien</b>\n",
    "<br><b style=\"color:blue;\">Entrez le nom de l'animal favoris du formulaire 3 : chat</b>\n",
    "<br><b style=\"color:blue;\">Entrez le nom de l'animal favoris du formulaire 4 : chien</b>\n",
    "<br><b style=\"color:blue;\">Entrez le nom de l'animal favoris du formulaire 5 : chat</b>\n",
    "<br><b style=\"color:blue;\">Entrez le nom de l'animal favoris du formulaire 6 : python</b>\n",
    "<br><b style=\"color:blue;\">Entrez le nom de l'animal favoris du formulaire 7 : âne </b>\n",
    "<br>Statistiques\n",
    "<br>fennec : 1\n",
    "<br>chien : 2\n",
    "<br>chat : 2\n",
    "<br>python : 1\n",
    "<br>âne : 1\n",
    "<br>Les animaux les plus populaires sont :\n",
    "<br>chien\n",
    "<br>chat\n",
    "</p>"
   ]
  },
  {
   "cell_type": "code",
   "execution_count": 27,
   "id": "3443e473",
   "metadata": {},
   "outputs": [
    {
     "name": "stdout",
     "output_type": "stream",
     "text": [
      "cat 3\n",
      "bird 1\n",
      "fish 2\n",
      "dog 3\n",
      "les animaux plus populaires sont:\n",
      "cat\n",
      "dog\n"
     ]
    }
   ],
   "source": [
    "def main():\n",
    "    i = 0\n",
    "    dict = {}\n",
    "    while True:\n",
    "        animal = input(\"Entrez le nom de l'animal favoris du formulaire \" + str(i + 1) + \" :\").lower()\n",
    "        i += 1\n",
    "        if animal == \"x\":\n",
    "            break\n",
    "        animal = animal.strip()\n",
    "        dict[animal] = dict.get(animal, 0) + 1\n",
    "    for k, v in dict.items():\n",
    "        print(k, v)\n",
    "    print(\"les animaux plus populaires sont:\")\n",
    "    pop = [k for k, v in dict.items() if v == max(dict.values())]\n",
    "    for i in pop:\n",
    "        print(i)\n",
    "main()"
   ]
  },
  {
   "cell_type": "markdown",
   "id": "a0435c14-6cfe-4d03-8fad-d0260743790c",
   "metadata": {},
   "source": [
    "<center><img style=\"text-align:center; margin:0 auto\" src=\"https://drive.google.com/uc?export=view&id=1-3C1qjSt_VTtWnb6JNHI_kKzfbESRwpH\" title=\"Robot\" alt=\"Robot\" width=\"500\" height=\"500\">\n",
    "</center>\n",
    "<b>Exercice 4 :</b> vous avez marre des cours, de la théorie, de la création de programmes inutiles en Python, vous décidez donc de faire de la robotique. Vous créez un robot qui peut marcher et sauter, mais contrairement aux humains, il ne sait pas mesurer les distances en hauteur avant de sauter au risque de se casser... Aie ! Il risque de se faire mal...   \n",
    "Le robot dispose des hauteurs de chaque position sous forme d'une matrice à deux dimension (carte). Le robot commence quelque par du côté gauche de et doit atteindre le côté droit, et donc il peut se déplacer vers l'est, nord-ouest ou bien sud-ouest. Afin, de minimiser le risque de se casser, il choisit la direction (position) qui minimise la différence en hauteur entre la position actuelle du robot et la position vers laquelle il veut aller.\n",
    "Créer un programme qui applique l'algorithme présenté et retourne une liste contenant les lignes considérées par le robot.\n",
    "\n",
    "Soit la matrice ci-dessous contenant les hauteurs des positions\n",
    "\n",
    "<b>\n",
    "<table>\n",
    "<tbody>\n",
    "  <tr>\n",
    "    <th>4</th>\n",
    "    <th>4</th>\n",
    "    <th>0</th>\n",
    "    <th>9</th>\n",
    "    <th>8</th>\n",
    "  </tr>\n",
    "  <tr>\n",
    "    <td>4</td>\n",
    "    <td>6</td>\n",
    "    <td>5</td>\n",
    "    <td>5</td>\n",
    "    <td>8</td>\n",
    "  </tr>\n",
    "  <tr>\n",
    "    <td>5</td>\n",
    "    <td>5</td>\n",
    "    <td>2</td>\n",
    "    <td>3</td>\n",
    "    <td>0</td>\n",
    "  </tr>\n",
    "  <tr>\n",
    "    <td>7</td>\n",
    "    <td>1</td>\n",
    "    <td>1</td>\n",
    "    <td>0</td>\n",
    "    <td>9</td>\n",
    "  </tr>\n",
    "</tbody>\n",
    "</table>\n",
    "</b>\n",
    "\n",
    "On suppose que la position de ***depart*** est la ligne 4 (on compte à partir de 1 !)\n",
    "\n",
    "<b>\n",
    "<table>\n",
    "<tbody>\n",
    "  <tr>\n",
    "    <th>4</th>\n",
    "    <th>4</th>\n",
    "    <th>0</th>\n",
    "    <th>9</th>\n",
    "    <th>8</th>\n",
    "  </tr>\n",
    "  <tr>\n",
    "    <td>4</td>\n",
    "    <td>6</td>\n",
    "    <td>5</td>\n",
    "    <td>5</td>\n",
    "    <td>8</td>\n",
    "  </tr>\n",
    "  <tr>\n",
    "    <td>5</td>\n",
    "    <td>5</td>\n",
    "    <td>2</td>\n",
    "    <td>3</td>\n",
    "    <td>0</td>\n",
    "  </tr>\n",
    "  <tr>\n",
    "    <td bgcolor=\"green\">7</td>\n",
    "    <td>1</td>\n",
    "    <td>1</td>\n",
    "    <td>0</td>\n",
    "    <td>9</td>\n",
    "  </tr>\n",
    "</tbody>\n",
    "</table>\n",
    "</b>\n",
    "\n",
    "A partir de cette position le robot peut sauter vers deux positions \n",
    "\n",
    "<b>\n",
    "<table>\n",
    "<tbody>\n",
    "  <tr>\n",
    "    <th>4</th>\n",
    "    <th>4</th>\n",
    "    <th>0</th>\n",
    "    <th>9</th>\n",
    "    <th>8</th>\n",
    "  </tr>\n",
    "  <tr>\n",
    "    <td>4</td>\n",
    "    <td>6</td>\n",
    "    <td>5</td>\n",
    "    <td>5</td>\n",
    "    <td>8</td>\n",
    "  </tr>\n",
    "  <tr>\n",
    "    <td>5</td>\n",
    "    <td bgcolor=\"yellow\">5</td>\n",
    "    <td>2</td>\n",
    "    <td>3</td>\n",
    "    <td>0</td>\n",
    "  </tr>\n",
    "  <tr>\n",
    "    <td bgcolor=\"green\">7</td>\n",
    "    <td bgcolor=\"yellow\">1</td>\n",
    "    <td>1</td>\n",
    "    <td>0</td>\n",
    "    <td>9</td>\n",
    "  </tr>\n",
    "</tbody>\n",
    "</table>\n",
    "</b>\n",
    "\n",
    "Le robot choisit la position où la différence en hauteur est moindre, c'est-à-dire 5\n",
    "\n",
    "<b>\n",
    "<table>\n",
    "<tbody>\n",
    "  <tr>\n",
    "    <th>4</th>\n",
    "    <th>4</th>\n",
    "    <th>0</th>\n",
    "    <th>9</th>\n",
    "    <th>8</th>\n",
    "  </tr>\n",
    "  <tr>\n",
    "    <td>4</td>\n",
    "    <td>6</td>\n",
    "    <td>5</td>\n",
    "    <td>5</td>\n",
    "    <td>8</td>\n",
    "  </tr>\n",
    "  <tr>\n",
    "    <td>5</td>\n",
    "    <td bgcolor=\"green\">5</td>\n",
    "    <td>2</td>\n",
    "    <td>3</td>\n",
    "    <td>0</td>\n",
    "  </tr>\n",
    "  <tr>\n",
    "    <td bgcolor=\"green\">7</td>\n",
    "    <td>1</td>\n",
    "    <td>1</td>\n",
    "    <td>0</td>\n",
    "    <td>9</td>\n",
    "  </tr>\n",
    "</tbody>\n",
    "</table>\n",
    "</b>\n",
    "\n",
    "Ensuite le robot peut visiter l'une des trois positions en jaune\n",
    "\n",
    "<b>\n",
    "<table>\n",
    "<tbody>\n",
    "  <tr>\n",
    "    <th>4</th>\n",
    "    <th>4</th>\n",
    "    <th>0</th>\n",
    "    <th>9</th>\n",
    "    <th>8</th>\n",
    "  </tr>\n",
    "  <tr>\n",
    "    <td>4</td>\n",
    "    <td>6</td>\n",
    "    <td bgcolor=\"yellow\">5</td>\n",
    "    <td>5</td>\n",
    "    <td>8</td>\n",
    "  </tr>\n",
    "  <tr>\n",
    "    <td>5</td>\n",
    "    <td bgcolor=\"green\">5</td>\n",
    "    <td bgcolor=\"yellow\">2</td>\n",
    "    <td>3</td>\n",
    "    <td>0</td>\n",
    "  </tr>\n",
    "  <tr>\n",
    "    <td bgcolor=\"green\">7</td>\n",
    "    <td>1</td>\n",
    "    <td bgcolor=\"yellow\">1</td>\n",
    "    <td>0</td>\n",
    "    <td>9</td>\n",
    "  </tr>\n",
    "</tbody>\n",
    "</table>\n",
    "</b>\n",
    "\n",
    "La position choisi est par conséquent 5, car celle avec la plus petite différence en hauteur (0).\n",
    "\n",
    "<b>\n",
    "<table>\n",
    "<tbody>\n",
    "  <tr>\n",
    "    <th>4</th>\n",
    "    <th>4</th>\n",
    "    <th>0</th>\n",
    "    <th>9</th>\n",
    "    <th>8</th>\n",
    "  </tr>\n",
    "  <tr>\n",
    "    <td>4</td>\n",
    "    <td>6</td>\n",
    "    <td bgcolor=\"green\">5</td>\n",
    "    <td>5</td>\n",
    "    <td>8</td>\n",
    "  </tr>\n",
    "  <tr>\n",
    "    <td>5</td>\n",
    "    <td bgcolor=\"green\">5</td>\n",
    "    <td>2</td>\n",
    "    <td>3</td>\n",
    "    <td>0</td>\n",
    "  </tr>\n",
    "  <tr>\n",
    "    <td bgcolor=\"green\">7</td>\n",
    "    <td>1</td>\n",
    "    <td>1</td>\n",
    "    <td>0</td>\n",
    "    <td>9</td>\n",
    "  </tr>\n",
    "</tbody>\n",
    "</table>\n",
    "</b>\n",
    "\n",
    "Le robot continue ainsi jusqu'à ce qui atteigne le côté droit. La fonction retourne alors [4, 3, 2, 2, 2].\n",
    "\n",
    "<b>\n",
    "<table>\n",
    "<tbody>\n",
    "  <tr>\n",
    "    <th>4</th>\n",
    "    <th>4</th>\n",
    "    <th>0</th>\n",
    "    <th>9</th>\n",
    "    <th>8</th>\n",
    "  </tr>\n",
    "  <tr>\n",
    "    <td>4</td>\n",
    "    <td>6</td>\n",
    "    <td bgcolor=\"green\">5</td>\n",
    "    <td bgcolor=\"green\">5</td>\n",
    "    <td bgcolor=\"green\">8</td>\n",
    "  </tr>\n",
    "  <tr>\n",
    "    <td>5</td>\n",
    "    <td bgcolor=\"green\">5</td>\n",
    "    <td>2</td>\n",
    "    <td>3</td>\n",
    "    <td>0</td>\n",
    "  </tr>\n",
    "  <tr>\n",
    "    <td bgcolor=\"green\">7</td>\n",
    "    <td>1</td>\n",
    "    <td>1</td>\n",
    "    <td>0</td>\n",
    "    <td>9</td>\n",
    "  </tr>\n",
    "</tbody>\n",
    "</table>\n",
    "</b>\n",
    "\n",
    "Ou bien la solution ci-dessous. La fonction retourne cette fois-ci [4, 3, 2, 2, 1].\n",
    "\n",
    "<b>\n",
    "<table>\n",
    "<tbody>\n",
    "  <tr>\n",
    "    <th>4</th>\n",
    "    <th>4</th>\n",
    "    <th>0</th>\n",
    "    <th>9</th>\n",
    "    <th bgcolor=\"green\">8</th>\n",
    "  </tr>\n",
    "  <tr>\n",
    "    <td>4</td>\n",
    "    <td>6</td>\n",
    "    <td bgcolor=\"green\">5</td>\n",
    "    <td bgcolor=\"green\">5</td>\n",
    "    <td>8</td>\n",
    "  </tr>\n",
    "  <tr>\n",
    "    <td>5</td>\n",
    "    <td bgcolor=\"green\">5</td>\n",
    "    <td>2</td>\n",
    "    <td>3</td>\n",
    "    <td>0</td>\n",
    "  </tr>\n",
    "  <tr>\n",
    "    <td bgcolor=\"green\">7</td>\n",
    "    <td>1</td>\n",
    "    <td>1</td>\n",
    "    <td>0</td>\n",
    "    <td>9</td>\n",
    "  </tr>\n",
    "</tbody>\n",
    "</table>\n",
    "</b>"
   ]
  },
  {
   "cell_type": "code",
   "execution_count": null,
   "id": "23dd4e62-4d3b-4cab-82dd-b8ae399940c5",
   "metadata": {},
   "outputs": [],
   "source": [
    "#matrice : matrice contanant les hauteurs des positions\n",
    "#depart : ligne de départ (la première ligne aura l'index 1)\n",
    "def trouver_chemin(matrice, depart):\n",
    "    #écrire votre code ici\n",
    "    \n",
    "    \n",
    "#Tests\n",
    "matrice = [\n",
    "[4, 4, 0, 9, 8],\n",
    "[4, 6, 5, 5, 8],\n",
    "[5, 5, 2, 3, 0],\n",
    "[7, 1, 1, 0, 9]\n",
    "]\n",
    "print(trouver_chemin(matrice, 4)) #affichera [4, 3, 2, 2, 2] ou [4, 3, 2, 2, 1]\n",
    "print(trouver_chemin(matrice, 2)) #affichera [2, 1, 2, 2, 2] ou [2, 1, 2, 2, 1]\n",
    "print(trouver_chemin(matrice, 1)) #affichera [1, 1, 2, 2, 2] ou [1, 1, 2, 2, 1]"
   ]
  },
  {
   "cell_type": "markdown",
   "id": "0c812777-c309-40ea-befc-d36508f19e1a",
   "metadata": {},
   "source": [
    "**<center>Évaluation : Merci d'évaluer ce chapitre en utilisant <a href=\"https://forms.gle/uJ3yeYuH6rExH88w8\">ce lien</a>. Merci pour votre collaboration !</br></center>**"
   ]
  }
 ],
 "metadata": {
  "kernelspec": {
   "display_name": "Python 3",
   "language": "python",
   "name": "python3"
  },
  "language_info": {
   "codemirror_mode": {
    "name": "ipython",
    "version": 3
   },
   "file_extension": ".py",
   "mimetype": "text/x-python",
   "name": "python",
   "nbconvert_exporter": "python",
   "pygments_lexer": "ipython3",
   "version": "3.11.0"
  },
  "vscode": {
   "interpreter": {
    "hash": "eb15da00ddf7abc474b86d37ac6c5c9c8600f29cd0032e6e2de527fbe08602fc"
   }
  }
 },
 "nbformat": 4,
 "nbformat_minor": 5
}

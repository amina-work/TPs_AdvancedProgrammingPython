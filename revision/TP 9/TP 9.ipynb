{
 "cells": [
  {
   "cell_type": "markdown",
   "id": "bcf04515-bfaa-4691-a939-acb068232193",
   "metadata": {},
   "source": [
    "<center><img style=\"text-align:center; margin:0 auto\" src=\"https://drive.google.com/uc?export=view&id=15uzPyvfgv3obSupxZAFHY21YA82yFs0M\" title=\"Logo UMAB\" alt=\"Logo UMAB\" width=\"221\" height=\"236\">\n",
    "<center>\n",
    "<b>Université Abdelhamid Ibn Badis - Mostaganem\n",
    "<br>Faculté des Sciences Exactes et de l'Informatique\n",
    "<br>Département de Mathématiques et Informatique\n",
    "<br>Master IA4IOT\n",
    "<br>Programmation Avancée (Python)\n",
    "</b>\n",
    "</center>\n",
    "\n",
    "---\n"
   ]
  },
  {
   "cell_type": "markdown",
   "id": "7f52acda-f3ae-4e10-82d8-a1846fc04d34",
   "metadata": {
    "tags": []
   },
   "source": [
    "# <center>TP 09 : Fichiers</center>\n",
    "<b>Objectif</b> : Dans ce TP nous allons apprendre à manipuler les données de et vers des fichiers."
   ]
  },
  {
   "cell_type": "markdown",
   "id": "6f223104-df5b-4641-8f59-0eaf9e6446f5",
   "metadata": {},
   "source": [
    "---\n",
    "<center><b>Nom et prénoms : ####  \n",
    "<br>Nom et prénoms : ####  \n",
    "<br>Groupe : ####\n",
    "<br>(double cliquez sur la cellule)\n",
    "</center></br></b>\n",
    "\n",
    "\n",
    "---"
   ]
  },
  {
   "cell_type": "markdown",
   "id": "39f14aee-9e3f-4385-82c6-b5eada3e1f6c",
   "metadata": {},
   "source": [
    "<b>Exercice 1 : </b>Ecrire une fonction qui permet de retourner le mot le plus long dans le fichier ***Texte.txt*** (ce fichier est disponible sur la plateforme)."
   ]
  },
  {
   "cell_type": "code",
   "execution_count": 5,
   "id": "c36a8ba1-559d-48ad-a120-b97c5c391d86",
   "metadata": {},
   "outputs": [
    {
     "name": "stdout",
     "output_type": "stream",
     "text": [
      "non-characteristic\n"
     ]
    }
   ],
   "source": [
    "def trouver_mot_plus_long(nom_fichier):\n",
    "    #écrire votre code ici\n",
    "    with open(nom_fichier) as f:\n",
    "        list = f.read()\n",
    "        list = list.split()\n",
    "        return max(list, key=len)\n",
    "print(trouver_mot_plus_long(\"Texte.txt\")) #affichera non-characteristic"
   ]
  },
  {
   "cell_type": "markdown",
   "id": "be63db6d-b28a-4d19-a8f3-67e7f6b2f131",
   "metadata": {},
   "source": [
    "<b>Exercice 2 : </b>Ecrire une fonction qui permet copier le contenu d'un ***fichier_entree*** vers un ***fichier_sortie*** tout en supprimant les caractères spéciaux à l'exception de l'espace."
   ]
  },
  {
   "cell_type": "code",
   "execution_count": 9,
   "id": "f4c7c361-be95-44aa-9422-d2d26ba0b200",
   "metadata": {},
   "outputs": [
    {
     "name": "stdout",
     "output_type": "stream",
     "text": [
      "None\n"
     ]
    }
   ],
   "source": [
    "def copier_fichier(fichier_entree, fichier_sortie):\n",
    "    #écrire votre code ici\n",
    "    f1 = open(fichier_entree, \"w+\")\n",
    "    f1.write(\"This file now hav@e content#inside of \\n it.\")\n",
    "    f1.close()\n",
    "    f = open(fichier_entree)\n",
    "    list = f.read().split()\n",
    "    list2 = []\n",
    "    for mot in list:\n",
    "        mot = mot.replace(\"!\", \"\")\n",
    "        mot = mot.replace(\"?\", \"\")\n",
    "        mot = mot.replace('\"', \"\")\n",
    "        mot = mot.replace(\"#\", \"\")\n",
    "        mot = mot.replace(\"@\", \"\")\n",
    "        list2.append(mot)\n",
    "    f2 = open(fichier_sortie, \"w+\")\n",
    "    f2.write(\" \".join(list2))\n",
    "    f2.close()\n",
    "    f.close()\n",
    "    \n",
    "#Testez votre code en créant un fichier contenant quelques mots avec des caractères spéciaux\n",
    "print(copier_fichier(\"file1\", \"file2\"))"
   ]
  },
  {
   "cell_type": "markdown",
   "id": "1060f744-5065-4899-bca4-d034ce53c78a",
   "metadata": {},
   "source": [
    "<b>Exercice 3 : </b>Durant le TP 6 (String), vous avez créé des fonctions qui permettent à l'utilisateur de crypter/décrypter un texte donné en entrée. Nous voulons créer un programme similaire mais qui prend en paramètre un fichier contenant un texte qui sera crypté/décrypté et sauvegardé dans un autre fichier.\n",
    "\n",
    "**Étape 1 :** Créez une fonction crypter_fichier qui permet de crypter en utilisant le cryptage de César le contenu d'un fichier_clair et stocke le texte fichier_crypte."
   ]
  },
  {
   "cell_type": "code",
   "execution_count": null,
   "id": "52105e7c-5768-4afb-be91-43e902b4466c",
   "metadata": {},
   "outputs": [],
   "source": [
    "#IMPORTANT : ASSUREZ VOUS DE BIEN SPECIFIER LE NOM ET CHEMIN DU FICHIER\n",
    "def crypter_fichier(fichier_clair, fichier_crypte, cle_cryptage):\n",
    "    #écrire votre code ici\n",
    "\n",
    "#Testez votre fonction en créant un fichier contenant un texte clair. Le texte cypté devra être stocké dans un second fichier\n",
    "#écrire le code des tests ici\n"
   ]
  },
  {
   "cell_type": "markdown",
   "id": "0ca1281d-7875-4ce4-ac11-67638223051d",
   "metadata": {},
   "source": [
    "**Étape 2 :** Créez une fonction dcrypter_fichier qui permet de crypter en utilisant le cryptage de César le contenu d'un fichier_crypte et stocke le texte fichier_clair."
   ]
  },
  {
   "cell_type": "code",
   "execution_count": null,
   "id": "0af96443-06de-4d2f-abbf-bab127dce9b7",
   "metadata": {},
   "outputs": [],
   "source": [
    "#IMPORTANT : ASSUREZ VOUS DE BIEN SPECIFIER LE NOM ET CHEMIN DU FICHIER\n",
    "def decrypter_fichier(fichier_crypte, fichier_clair, cle_cryptage):\n",
    "    #écrire votre code ici\n",
    "\n",
    "#Testez votre fonction en créant décryptant un fichier crypté.\n",
    "#écrire le code des tests ici\n"
   ]
  },
  {
   "cell_type": "markdown",
   "id": "7025d59c-ef8a-4785-bd2c-9488ce44560b",
   "metadata": {},
   "source": [
    "**Étape 3 :** Créez une fonction main qui permette à l'utilisateur de crypter ou décrypter un des fichier ainsi que de quitter le programme. L'utilisateur devra choisir le nom des fichiers (crypté et clair)."
   ]
  },
  {
   "cell_type": "code",
   "execution_count": null,
   "id": "0e1e7a99-2a34-40e1-b83f-c2f056e6f9cd",
   "metadata": {},
   "outputs": [],
   "source": [
    "def main():\n",
    "    #écrire votre code ici\n",
    "    \n",
    "main() #appeler la fonction "
   ]
  },
  {
   "cell_type": "markdown",
   "id": "988e1549-d651-4ddd-a4ee-da2b48e11bfa",
   "metadata": {},
   "source": [
    "<b>Exercice 4 : </b> Nous disposons d'un fichier liste_etudiants.txt (ce fichier est disponible sur la plateforme). Les informations (identifiant, nom, prénom, date de naissance et moyenne) de chaque étudiant sont stockées en une seule ligne séparées par des virgules. Par exemple :  \n",
    "1,Mohamed,Rehamnia,06/11/2002,15.36  \n",
    "2,Amina,Belalem,14/03/2001,12.51  \n",
    "Vous but est de créer un programme qui permette à l'utilisateur de manipuler les données des étudiants :\n",
    "* Charger la liste des étudiants à partir du fichier (le nom du fichier ne change pas)\n",
    "* Afficher la liste des étudiants (afficher un message différent si la liste est vide)\n",
    "* Ajouter un étudiant à la liste (vérifier que l'identifiant n'existe pas)\n",
    "* Supprimer un étudiant en utilisant son identifiant (afficher un message si l'identifiant n'existe pas)\n",
    "* Modifier les information d'un étudiant (à l'exception de son identifiant)\n",
    "* Afficher les informations d'un étudiant donné par son identifiant\n",
    "* Afficher la moyenne générale des étudiants\n",
    "* Enregistrer les données dans le fichier\n",
    "\n",
    "Créez les fonctions qui permettent de réaliser les opérations citées précédemment. Créez une fonction main qui comporte un menu général qui permette à l'utilisateur de choisir les différentes opérations. Rajouter une option supplémentaire pour quitter le programme. Cette dernière doit vérifier et informer l'utilisateur si les données dans la liste n'ont pas encore été enregistrées (ce que fait MS Word lorsque vous voulez fermer un document avant de l'enregistrer)."
   ]
  },
  {
   "cell_type": "code",
   "execution_count": 12,
   "id": "0bc942bd-0a35-4bb8-9ea6-83935ed5ddad",
   "metadata": {},
   "outputs": [],
   "source": [
    "#IMPORTANT : ASSUREZ VOUS DE BIEN SPECIFIER LE NOM ET CHEMIN DU FICHIER\n",
    "#Vous devez définir les fonctions vous même\n",
    "#N'oubliez pas de le tester\n",
    "#écrire votre code ici\n",
    "def seeList():\n",
    "    with open(\"list_etudiants.txt\") as f:\n",
    "        list = f.readlines()\n",
    "        return list\n",
    "def addList(i):\n",
    "    with open(\"liste_etudiants.txt\") as f:\n",
    "        l = f.readlines()\n",
    "        list = [i.split() for i in list]\n",
    "        print(list)\n",
    "def deleteList(i):\n",
    "    return 1\n",
    "def editList(i):\n",
    "    return 1\n",
    "def seeListId(i):\n",
    "    return 1\n",
    "def calcMoy():\n",
    "    return 1\n",
    "def main():\n",
    "    print(\"What do you want to do?\")\n",
    "    print(\"1 - See the list of students\")\n",
    "    print(\"2 - Add student to lits\")\n",
    "    print(\"3 - Delete student from list\")\n",
    "    print(\"4 - Edit student information\")\n",
    "    print(\"5 - See student information from ID\")\n",
    "    print(\"6 - See the general mean of students\")\n",
    "    while True:\n",
    "        choix = int(input(\"Choose an option:\"))\n",
    "        while choix <= 0:\n",
    "            choix = int(input(\"Option doesn't exist. Choose an option:\"))\n",
    "        while choix > 7:\n",
    "            choix = int(input(\"Option doesn't exist. Choose an option:\"))\n",
    "        if choix == 1:\n",
    "            print(seeList())\n",
    "        elif choix == 2:\n",
    "            i = int(input(\"Add new student ID:\"))\n",
    "            print(addList(i))\n",
    "        elif choix == 3:\n",
    "            i = int(input(\"Add student ID:\"))\n",
    "            print(deleteList(i))\n",
    "        elif choix == 4:\n",
    "            i = int(input(\"Add student ID:\"))\n",
    "            print(editList(i))\n",
    "        elif choix == 5:\n",
    "            i = int(input(\"Add student ID:\"))\n",
    "            print(seeListId(i))\n",
    "        elif choix == 6:\n",
    "            print(calcMoy())\n",
    "        else:\n",
    "            print(\"Quitter\")\n",
    "main()"
   ]
  },
  {
   "cell_type": "markdown",
   "id": "4f1de9b3-70f0-4d9d-9102-34b3feff560e",
   "metadata": {},
   "source": [
    "<center><img style=\"text-align:center; margin:0 auto\" src=\"https://drive.google.com/uc?export=view&id=1B9ZbrMLLImLHId3NOnYMlHFFW6XGuXoV\" title=\"Or\" alt=\"Or\" width=\"500\" height=\"500\">\n",
    "</center>\n",
    "\n",
    "<b>Exercice 5 : </b> Créer un programme qui permette de lire les données stockées dans le fichier gold.csv (ce fichier est disponible sur la plateforme). Ce fichier répertorie les prix de l'or par mois depuis 1950 jusqu'à 2020. Écrivez le code afin de répondre aux questions suivantes :\n",
    "* Afficher le mois et année où le prix de l'or est le plus bas\n",
    "* Afficher le mois et année où le prix de l'or est le plus élevé\n",
    "* Afficher le prix moyen de l'or par année (moyenne prix par année)\n",
    "* Afficher le prix moyen de l'or par année et par trimestre\n",
    "* Bonus : Créer un graphique en ligne qui représente l'évolution du prix de l'or par année"
   ]
  },
  {
   "cell_type": "code",
   "execution_count": null,
   "id": "f3b7a315-fc83-45bc-b89c-1699b463e35c",
   "metadata": {},
   "outputs": [],
   "source": [
    "#écrire votre code ici\n"
   ]
  },
  {
   "cell_type": "markdown",
   "id": "8bfc3652-7ede-44c6-912e-f47bac6b8002",
   "metadata": {},
   "source": [
    "**<center>Évaluation : Merci d'évaluer ce chapitre en utilisant <a href=\"https://docs.google.com/forms/d/e/1FAIpQLSc8DM6mJnECbaXRd2W2v2JfAtVTDlCYpZ2YmlRuoem3tB1IHg/viewform?usp=share_link\">ce lien</a>. Merci pour votre collaboration !</br></center>**"
   ]
  }
 ],
 "metadata": {
  "kernelspec": {
   "display_name": "Python 3",
   "language": "python",
   "name": "python3"
  },
  "language_info": {
   "codemirror_mode": {
    "name": "ipython",
    "version": 3
   },
   "file_extension": ".py",
   "mimetype": "text/x-python",
   "name": "python",
   "nbconvert_exporter": "python",
   "pygments_lexer": "ipython3",
   "version": "3.11.0"
  },
  "vscode": {
   "interpreter": {
    "hash": "eb15da00ddf7abc474b86d37ac6c5c9c8600f29cd0032e6e2de527fbe08602fc"
   }
  }
 },
 "nbformat": 4,
 "nbformat_minor": 5
}

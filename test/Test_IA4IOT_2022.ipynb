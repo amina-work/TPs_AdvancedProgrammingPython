{
 "cells": [
  {
   "cell_type": "markdown",
   "id": "e389dff8-c00e-4598-bae5-2ac8492dab30",
   "metadata": {},
   "source": [
    "<center><img style=\"text-align:center; margin:0 auto\" src=\"https://drive.google.com/uc?export=view&id=15uzPyvfgv3obSupxZAFHY21YA82yFs0M\" title=\"Logo UMAB\" alt=\"Logo UMAB\" width=\"221\" height=\"236\">\n",
    "<center>\n",
    "<b>Université Abdelhamid Ibn Badis - Mostaganem\n",
    "<br>Faculté des Sciences Exactes et de l'Informatique\n",
    "<br>Département de Mathématiques et Informatique\n",
    "<br>Master IA4IOT\n",
    "<br>Programmation Avancée (Python)\n",
    "</b>\n",
    "</center>\n",
    "\n",
    "---"
   ]
  },
  {
   "cell_type": "markdown",
   "id": "64186a2d-02fc-49ca-8167-750981413ea5",
   "metadata": {},
   "source": [
    "# <center>TEST</center>"
   ]
  },
  {
   "attachments": {},
   "cell_type": "markdown",
   "id": "f900a3e1-f7b4-4cbf-9e96-5231e6f3305b",
   "metadata": {},
   "source": [
    "---\n",
    "<center><b>Nom et prénoms : Derdour Amina\n",
    "<br>(double cliquez sur la cellule)\n",
    "</center></br></b>\n",
    "\n",
    "\n",
    "---"
   ]
  },
  {
   "cell_type": "markdown",
   "id": "f02d2e48-2080-44e1-9103-34491ee82688",
   "metadata": {},
   "source": [
    "<center><img style=\"text-align:center; margin:0 auto\" src=\"https://drive.google.com/uc?export=view&id=1eXRXuXNUs8EcKDjQORtBvcttEcB7zJVa\" title=\"Royal court\" alt=\"Royal court\" width=\"400\" height=\"400\">\n",
    "</center>\n",
    "\n",
    "<b>Exercice 1 :</b> Une <a href=\"https://thecardsoflife.com/court-cards\">Royal Court</a> (cour royale) est un roi(King), reine (Queen) et valet (Jack) d'une même couleur (Cœur (Heart) ♥, Trèfle (Clubs) ♣, Carreau (Diamonds) ♦ et Pique (Spades) ♠). Par exemple JD (Jack of Diamonds - Valet de Carreau), QD (Queen of Diamonds - Reine de Carreau) et KD (King of Diamonds - Roi de Carreau) est une *cour royale*. Créer une fonction qui reçoit en paramètre une liste de cartes (voir exemple) et qui retourne le nombre de *cour royale*."
   ]
  },
  {
   "cell_type": "code",
   "execution_count": 1,
   "id": "b6e1a640-948d-4fc7-9ae9-1cdde1084f72",
   "metadata": {},
   "outputs": [
    {
     "name": "stdout",
     "output_type": "stream",
     "text": [
      "2\n",
      "1\n",
      "0\n",
      "0\n"
     ]
    }
   ],
   "source": [
    "def nbr_cours_royales(cartes):\n",
    "    #écrire votre code ici\n",
    "    Dlist = []\n",
    "    dcount, hcount, ccount, scount = 0, 0, 0, 0\n",
    "    Hlist = []\n",
    "    Clist = []\n",
    "    for i in cartes:\n",
    "        for j in cartes:\n",
    "            for y in cartes:\n",
    "                if i[0] == \"K\" and j[0] == \"Q\" and y[0] == \"J\":\n",
    "                    if i[1] == \"D\" and j[1] == \"D\" and y[1] == \"D\":\n",
    "                        dcount += 1\n",
    "                    elif i[1] == \"H\" and j[1] == \"H\" and y[1] == \"H\":\n",
    "                        hcount += 1\n",
    "                    elif i[1] == \"H\" and j[1] == \"H\" and y[1] == \"H\":\n",
    "                        scount += 1\n",
    "                    elif i[1] == \"C\" and j[1] == \"C\" and y[1] == \"C\":\n",
    "                        ccount += 1\n",
    "    return dcount + hcount + ccount + scount\n",
    "            \n",
    "\n",
    "#Tests\n",
    "print(nbr_cours_royales([\"8H\", \"QD\", \"JD\", \"KS\", \"JS\", \"QD\", \"KD\", \"QS\"])) #affichera 2 car nous avons QD, JD, et KD puis JS, QS et KS\n",
    "print(nbr_cours_royales([\"7D\", \"6S\", \"JH\", \"KH\", \"JC\", \"QH\"])) #affichera 1 car nous avons JH, QH et KH\n",
    "print(nbr_cours_royales([\"7D\", \"6S\", \"5S\"])) #affichera 0 car nous avons aucune royal court\n",
    "print(nbr_cours_royales([])) #affichera 0 car la listes des cartes est vide"
   ]
  },
  {
   "cell_type": "markdown",
   "id": "db800623-9d26-41bd-8733-c4f6ed64d41b",
   "metadata": {},
   "source": [
    "<center><img style=\"text-align:center; margin:0 auto\" src=\"https://drive.google.com/uc?export=view&id=1Peuoxg6EZxiTHzyxOaFh_LqHaGuOYup6\" title=\"Planètes\" alt=\"Planètes\" width=\"828\" height=\"225\">\n",
    "</center>\n",
    "\n",
    "<b>Exercice 2 :</b> Vous disposez d'un dictionnaire de planètes associées avec une liste de distances. Cette liste contient la distance la plus courte, la plus longue et moyenne par rapport au soleil en millions de kilomètres (Par exemple la terre est 147 millions de km lorsqu'elle se rapproche le plus du soleil et à 152 MKm lorsqu'elle est éloignée et à une moyenne de 150 MKm). A l'aide de ce dictionnaire créez les fonctions suivantes :\n",
    "* Une fonction reçoit en paramètre le dictionnaire et affiche les planètes avec les distances min, max, moy.\n",
    "* Une fonction qui reçoit en paramètre le dictionnaire ainsi qu'un paramètre qui détermine la distance à utiliser (min, max ou moy) et qui utilise moy par défaut. La fonction retournera le nom de la planète avec la distance (min, max ou moy) la plus petite.\n",
    "\n",
    "***Astuce :*** Utilisez 0 pour min, 1 pour max et 2 pour moyenne."
   ]
  },
  {
   "cell_type": "code",
   "execution_count": 11,
   "id": "f426de39-d2b9-49d6-8453-fd708267dc53",
   "metadata": {},
   "outputs": [],
   "source": [
    "#Exécutez cette cellule\n",
    "planetes = {\"Uranus\":[2750,3000,2880],\"Mercure\":[46,70,57],\n",
    "            \"Terre\":[147,152,150], \"Venus\":[107,109,108],\n",
    "            \"Mars\":[205,249,228],  \"Saturne\":[1350,1510,1430],\n",
    "            \"Jupiter\":[741,817,779], \"Pluto\":[4440,7380,5910],\n",
    "            \"Neptune\":[4450,4550,4500]}"
   ]
  },
  {
   "cell_type": "code",
   "execution_count": 13,
   "id": "842f3f7b-3f2a-4dbc-9617-8b689dfd7d4d",
   "metadata": {},
   "outputs": [
    {
     "name": "stdout",
     "output_type": "stream",
     "text": [
      "Uranus Min = 2750 Max = 3000 Moy = 2880\n",
      "Mercure Min = 46 Max = 70 Moy = 57\n",
      "Terre Min = 147 Max = 152 Moy = 150\n",
      "Venus Min = 107 Max = 109 Moy = 108\n",
      "Mars Min = 205 Max = 249 Moy = 228\n",
      "Saturne Min = 1350 Max = 1510 Moy = 1430\n",
      "Jupiter Min = 741 Max = 817 Moy = 779\n",
      "Pluto Min = 4440 Max = 7380 Moy = 5910\n",
      "Neptune Min = 4450 Max = 4550 Moy = 4500\n"
     ]
    },
    {
     "data": {
      "text/plain": [
       "'\\nUranus Min = 2750 Max = 3000 Moy = 2880\\nTerre Min = 147 Max = 152 Moy = 150\\n...\\nPluto Min = 4440 max = 7380 Moy = 5910\\n'"
      ]
     },
     "execution_count": 13,
     "metadata": {},
     "output_type": "execute_result"
    }
   ],
   "source": [
    "def afficher_planetes(planetes):\n",
    "    #écrire votre code ici\n",
    "    for i, k in planetes.items():\n",
    "        print(i, \"Min =\", k[0], \"Max =\", k[1], \"Moy =\", k[2])\n",
    "#Tests\n",
    "afficher_planetes(planetes)\n",
    "#affichera\n",
    "\"\"\"\n",
    "Uranus Min = 2750 Max = 3000 Moy = 2880\n",
    "Terre Min = 147 Max = 152 Moy = 150\n",
    "...\n",
    "Pluto Min = 4440 max = 7380 Moy = 5910\n",
    "\"\"\""
   ]
  },
  {
   "cell_type": "code",
   "execution_count": 26,
   "id": "da56b5c0-c45b-4418-bd47-a945580bf1bb",
   "metadata": {},
   "outputs": [
    {
     "name": "stdout",
     "output_type": "stream",
     "text": [
      "Mercure\n",
      "Mercure\n",
      "Mercure\n",
      "Mercure\n"
     ]
    }
   ],
   "source": [
    "def distance_minimum(planetes, code_distance=0): #complétez la déclaration de la fonction\n",
    "    #écrire votre code ici\n",
    "    pl = []\n",
    "    list =[]\n",
    "    for i, k in planetes.items():\n",
    "        pl.append(i)\n",
    "        list.append(k[code_distance])\n",
    "    return pl[list.index(min(list))]\n",
    "#Tests - Tous ces tests afficheront Mercure car elle est la planète la plus proche du soleil\n",
    "print(distance_minimum(planetes, code_distance=0))\n",
    "print(distance_minimum(planetes, code_distance=1))\n",
    "print(distance_minimum(planetes, code_distance=2))\n",
    "print(distance_minimum(planetes))"
   ]
  },
  {
   "cell_type": "markdown",
   "id": "17e27ff3-19d9-4d93-8a1f-eaa413ba3f0b",
   "metadata": {},
   "source": [
    "<center><img style=\"text-align:center; margin:0 auto\" src=\"https://drive.google.com/uc?export=view&id=1Jb1jNxQMdfq9UmxNSUoYOedkoSAcVJ_E\" title=\"Titanic\" alt=\"Titanic\" width=\"600\" height=\"300\">\n",
    "</center>\n",
    "\n",
    "<b>Exercice 3 :</b> Nous voulons analyser les données des passagers du <a href=\"https://www.geo.fr/histoire/14-avril-1912-le-naufrage-du-titanic-raconte-par-les-journaux-de-lepoque-208697\">Titanic</a> en 1912. Le fichier Titanic.csv contient 892 lignes entête comprise. Les colonnes (attributs) sont :\n",
    "* ***Passengerid*** identifiant du passager\n",
    "* ***Survived*** prend la valeur 0 si le passager est décédé ou 1 s'il a survécu\n",
    "* ***Pclass*** la classe du ticket pris. Peut prendre trois valeurs 1 (première classe), 2 (deuxième classe) ou 3 (troisième classe)\n",
    "* ***Sex*** le sexe du passager. Prend les valeurs *male* ou *female*\n",
    "* ***Age*** est l'âge du passager. Attention l'âge de certains passagers n'est pas spécifié"
   ]
  },
  {
   "cell_type": "markdown",
   "id": "8e6a8e92-d40f-4954-95b2-f4499f704d06",
   "metadata": {},
   "source": [
    "**Question 1 :** Vous devez d'abord lire les données du fichier CSV"
   ]
  },
  {
   "cell_type": "code",
   "execution_count": 43,
   "id": "43bf2982-8e88-4274-b578-380a589cc72c",
   "metadata": {},
   "outputs": [],
   "source": [
    "#écrire votre code ici\n",
    "with open(\"Titanic.csv\") as f:\n",
    "    f = f.readlines()\n",
    "    data = []\n",
    "    for i in range(1, len(f)):\n",
    "        data.append(f[i].split(\",\"))"
   ]
  },
  {
   "cell_type": "markdown",
   "id": "52192014-ece9-4b8d-87f5-7a32649fa583",
   "metadata": {},
   "source": [
    "**Important :** si vous ne réussissez pas à lire les données, utilisez le code ci-dessous **(téléchargez le fichier data.pickle)** qui vous donnera accès à la variable data qui contient les données stockées sous forme d'une matrice à deux dimensions où Passengerid, survived, pclass et age sont de type numérique alors que sex est un string.  Si la valeur de l'âge n'est pas trouvée, on utilisera 0. Consultez les exemples pour comprendre le contenu de la variable."
   ]
  },
  {
   "cell_type": "code",
   "execution_count": 42,
   "id": "2bb7e376-4908-4cb1-baac-e780881a6406",
   "metadata": {},
   "outputs": [
    {
     "name": "stdout",
     "output_type": "stream",
     "text": [
      "[1, 0, 3, 'male', 22]\n",
      "[5, 0, 3, 'male', 35]\n",
      "[6, 0, 3, 'male', 0]\n",
      "---------------------\n",
      "Passengerid 1\n",
      "Survived 0\n",
      "Pclass 3\n",
      "Sex male\n",
      "Age 22\n"
     ]
    }
   ],
   "source": [
    "import pickle\n",
    "with open(\"data.pickle\", \"rb\") as infile:\n",
    " data = pickle.load(infile)\n",
    "\n",
    "print(data[0])\n",
    "print(data[4])\n",
    "print(data[5])\n",
    "print(\"---------------------\")\n",
    "print(\"Passengerid\", data[0][0])\n",
    "print(\"Survived\", data[0][1])\n",
    "print(\"Pclass\", data[0][2])\n",
    "print(\"Sex\", data[0][3])\n",
    "print(\"Age\", data[0][4])"
   ]
  },
  {
   "cell_type": "markdown",
   "id": "496954e2-ca81-4dcb-8546-ed7af3fc1e09",
   "metadata": {},
   "source": [
    "***Votre travail, après lecture des données du fichier Titanic.csv, est de répondre aux questions suivantes :***"
   ]
  },
  {
   "cell_type": "markdown",
   "id": "3250a0b6-a572-48dd-b081-2a8a134b3675",
   "metadata": {},
   "source": [
    "**Question 2 :** Donnez le nombre total de passagers qui ont embarqué sur le bateau"
   ]
  },
  {
   "cell_type": "code",
   "execution_count": 44,
   "id": "97283049-dc8c-4dc0-89a9-2dca64a2e13f",
   "metadata": {},
   "outputs": [
    {
     "name": "stdout",
     "output_type": "stream",
     "text": [
      "891\n"
     ]
    }
   ],
   "source": [
    "#Résultat attendu : 891\n",
    "#écrire votre code ici\n",
    "print(len(data))"
   ]
  },
  {
   "cell_type": "markdown",
   "id": "2270e5ac-c43d-4d03-bddc-681bc524bd1c",
   "metadata": {},
   "source": [
    "**Question 3 :** Donnez le nombre total de passagers qui péri lors du naufrage du bateau"
   ]
  },
  {
   "cell_type": "code",
   "execution_count": 46,
   "id": "49e70bc3-515e-439f-8bf3-d935a4f5f28a",
   "metadata": {},
   "outputs": [
    {
     "name": "stdout",
     "output_type": "stream",
     "text": [
      "549\n"
     ]
    }
   ],
   "source": [
    "#Résultat attendu : 549\n",
    "#écrire votre code ici\n",
    "count = 0\n",
    "for person in data:\n",
    "    if person[1] == '0':\n",
    "        count += 1\n",
    "print(count)"
   ]
  },
  {
   "cell_type": "markdown",
   "id": "3ad81488-585f-41df-8147-b4da75f68b55",
   "metadata": {},
   "source": [
    "**Question 4 :** Donnez le nombre total de passagers qui ont survécu le naufrage du bateau"
   ]
  },
  {
   "cell_type": "code",
   "execution_count": 47,
   "id": "6bd5c470-6886-42d7-a92e-a94b41ec287b",
   "metadata": {},
   "outputs": [
    {
     "name": "stdout",
     "output_type": "stream",
     "text": [
      "342\n"
     ]
    }
   ],
   "source": [
    "#Résultat attendu : 342\n",
    "#écrire votre code ici\n",
    "count1 = 0\n",
    "for person in data:\n",
    "    if person[1] == '1':\n",
    "        count1 += 1\n",
    "print(count1)"
   ]
  },
  {
   "cell_type": "markdown",
   "id": "cba3f38f-0e3a-42f4-a7dd-df57daf6954a",
   "metadata": {},
   "source": [
    "**Question 5 :** Donnez le nombre de passagers de sexe masculin et féminin "
   ]
  },
  {
   "cell_type": "code",
   "execution_count": 49,
   "id": "739e14f9-443d-4f34-8a66-d81d61ce61ee",
   "metadata": {},
   "outputs": [
    {
     "name": "stdout",
     "output_type": "stream",
     "text": [
      "Male : 577\n",
      "Female : 314\n"
     ]
    }
   ],
   "source": [
    "#Résultat attendu : \n",
    "\"\"\"\n",
    "Male : 577\n",
    "Female : 314\n",
    "\"\"\"\n",
    "#écrire votre code ici\n",
    "male, female = 0, 0\n",
    "for i in data:\n",
    "    if i[3].casefold() == 'male'.casefold():\n",
    "        male += 1\n",
    "    elif i[3].casefold() == 'female'.casefold():\n",
    "        female += 1\n",
    "print(\"Male :\", male)\n",
    "print(\"Female :\", female)\n"
   ]
  },
  {
   "cell_type": "markdown",
   "id": "d88f5065-1d3b-42f8-bfb9-db7f16d5beea",
   "metadata": {},
   "source": [
    "**Question 6 :** Donnez le nombre de passagers par classe"
   ]
  },
  {
   "cell_type": "code",
   "execution_count": 51,
   "id": "57165d48-2f0f-4be7-b956-b69c7914f322",
   "metadata": {},
   "outputs": [
    {
     "name": "stdout",
     "output_type": "stream",
     "text": [
      "Classe 1: 216\n",
      "Classe 2: 184\n",
      "Classe 3: 491\n"
     ]
    }
   ],
   "source": [
    "#Résultat attendu : \n",
    "\"\"\"\n",
    "Classe 1 : 216\n",
    "Classe 2 : 184\n",
    "Classe 3 : 491\n",
    "\"\"\"\n",
    "#écrire votre code ici\n",
    "psc1, psc2, psc3 = 0, 0, 0\n",
    "for i in data:\n",
    "    if i[2] == \"1\":\n",
    "        psc1 += 1\n",
    "    elif i[2] == \"2\":\n",
    "        psc2 += 1\n",
    "    elif i[2] == \"3\":\n",
    "        psc3 += 1\n",
    "print(\"Classe 1:\", psc1)\n",
    "print(\"Classe 2:\", psc2)\n",
    "print(\"Classe 3:\", psc3)"
   ]
  },
  {
   "cell_type": "markdown",
   "id": "2941c9de-d05e-4645-8a65-8e8f76de9c2d",
   "metadata": {},
   "source": [
    "**Question 7 :** Donnez l'âge moyen des passagers (attention certaines cellules sont vides - il faut les ignorer)"
   ]
  },
  {
   "cell_type": "code",
   "execution_count": 58,
   "id": "bb2513b5-6af6-4c20-a445-a1227e2ff289",
   "metadata": {},
   "outputs": [
    {
     "name": "stdout",
     "output_type": "stream",
     "text": [
      "30\n"
     ]
    }
   ],
   "source": [
    "#Résultat attendu : 30\n",
    "#écrire votre code ici\n",
    "sm, nb = 0, 0\n",
    "for i in data:\n",
    "    if i[4] != \"\" and i[4] != '\\n':\n",
    "        sm += float(i[4])\n",
    "        nb += 1\n",
    "print(int(sm // nb))"
   ]
  }
 ],
 "metadata": {
  "kernelspec": {
   "display_name": "Python 3",
   "language": "python",
   "name": "python3"
  },
  "language_info": {
   "codemirror_mode": {
    "name": "ipython",
    "version": 3
   },
   "file_extension": ".py",
   "mimetype": "text/x-python",
   "name": "python",
   "nbconvert_exporter": "python",
   "pygments_lexer": "ipython3",
   "version": "3.11.0"
  },
  "vscode": {
   "interpreter": {
    "hash": "eb15da00ddf7abc474b86d37ac6c5c9c8600f29cd0032e6e2de527fbe08602fc"
   }
  }
 },
 "nbformat": 4,
 "nbformat_minor": 5
}

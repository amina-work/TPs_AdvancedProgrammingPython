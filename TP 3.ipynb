{
 "cells": [
  {
   "cell_type": "markdown",
   "id": "30344382-8773-4f24-9029-14b98402c601",
   "metadata": {},
   "source": [
    "<center><img style=\"text-align:center; margin:0 auto\" src=\"https://drive.google.com/uc?export=view&id=15uzPyvfgv3obSupxZAFHY21YA82yFs0M\" title=\"Logo UMAB\" alt=\"Logo UMAB\" width=\"221\" height=\"236\">\n",
    "<center>\n",
    "<b>Université Abdelhamid Ibn Badis - Mostaganem\n",
    "<br>Faculté des Sciences Exactes et de l'Informatique\n",
    "<br>Département de Mathématiques et Informatique\n",
    "<br>Master IA4IOT\n",
    "<br>Programmation Avancée (Python)\n",
    "</b>\n",
    "</center>\n",
    "\n",
    "---\n"
   ]
  },
  {
   "cell_type": "markdown",
   "id": "ce6b365d-c375-40bf-8bc4-080040f3ddcf",
   "metadata": {
    "tags": []
   },
   "source": [
    "# <center>TP 03 : Conditions</center>\n",
    "<b>Objectif</b> : Le but de ce troisième TP est de vous aider à vous familiariser avec les conditions sous Python if-elif-else."
   ]
  },
  {
   "cell_type": "markdown",
   "id": "9e49550f-961c-40e2-8f82-beeb3f3e0cd5",
   "metadata": {},
   "source": [
    "---\n",
    "<center><b>Nom et prénoms : Derdour Amina   \n",
    "<br>Groupe : M1-IA4IoT\n",
    "\n",
    "\n",
    "---"
   ]
  },
  {
   "cell_type": "markdown",
   "id": "b5f12ad1-2cc8-4852-a294-8beae72411fb",
   "metadata": {},
   "source": [
    "<b>Exercice 1 :</b> Quel est le message qui ne sera jamais affiché quelque soit la valeur de x (code non accessible) ?\n",
    "```python \n",
    "if x < 2:\n",
    "    print('Inférieur à 2')\n",
    "elif x >= 2:\n",
    "    print('Supérieur ou égal à 0')\n",
    "else:\n",
    "    print('Autre')\n",
    "``` "
   ]
  },
  {
   "cell_type": "code",
   "execution_count": null,
   "id": "d50d2a12",
   "metadata": {},
   "outputs": [],
   "source": [
    "Autre: because x could either be smaller then 2, or equals, or bigger; there's no third value that it could take. "
   ]
  },
  {
   "cell_type": "markdown",
   "id": "5a683b1b-9b21-4e60-be64-bd04ff1b1ea5",
   "metadata": {},
   "source": [
    "<b>Exercice 2 :</b> Quel est le message qui ne sera jamais affiché quelque soit la valeur de x (code non accessible) ?\n",
    "```python \n",
    "if x < 2:\n",
    "    print('Inférieur à 2')\n",
    "elif x < 20:\n",
    "    print('Inférieur à 20')\n",
    "elif x < 10:\n",
    "    print('Inférieur à 10')\n",
    "else:\n",
    "    print('Autre')\n",
    "``` "
   ]
  },
  {
   "cell_type": "code",
   "execution_count": null,
   "id": "71eb0dc2-2dee-43e1-9b3a-2f52988e659a",
   "metadata": {},
   "outputs": [],
   "source": [
    "#Donner votre réponse ici (aucune exécution de code n'est demandée)\n",
    "Inférieur à 10: because of the set up of the code, if x is smaller than 10 then it would also be considered smaller than 20, \n",
    "and since that condition is set up first it will be realised first."
   ]
  },
  {
   "cell_type": "markdown",
   "id": "9343de3f-b245-463a-b2a9-b42c75d275eb",
   "metadata": {},
   "source": [
    "<b>Exercice 3 :</b> Écrire un programme qui permet de déterminer si un nombre donné par l'utilisateur est pair ou impair.\n",
    "**<center>Exemple d'exécution</center>**\n",
    "<p style=\"padding: 10px; border: 1px solid black;\">\n",
    "Entrez un entier : 8\n",
    "<br>8 est un nombre pair\n",
    "</p>"
   ]
  },
  {
   "cell_type": "code",
   "execution_count": null,
   "id": "fa266fd7-88b0-46ad-a4f6-32dd0c6de9fc",
   "metadata": {},
   "outputs": [],
   "source": [
    "#my code\n",
    "x = float(input('Entrez un entier:'));\n",
    "if x % 2 == 0:\n",
    "    print(x, \"est un nombre pair\")\n",
    "else :\n",
    "    print(x, \"est un nombre impair\")"
   ]
  },
  {
   "cell_type": "markdown",
   "id": "a6759d3b-1e23-460b-855f-bd008f1d04e5",
   "metadata": {},
   "source": [
    "<b>Exercice 4 :</b> Écrire un programme qui demande à l'utilisateur de donner le nombre d'heures travaillées par un employé contractuel ainsi que le taux horaire (salaire horaire). L'employé perçoit une augmentation de 25% pour les heures supplémentaires au delà de 40 heures par semaine. Le programme doit produire un affichage similaire à l'exemple d'exécution suivant :  \n",
    "**<center>Exemple d'exécution 1</center>**\n",
    "<p style=\"padding: 10px; border: 1px solid black;\">\n",
    "Nombre d'heures travaillées : 35\n",
    "<br>Taux horaire (DZD) : 500\n",
    "<br>\n",
    "<br>Nombre d'heures travaillées (normales)     : 35 heures\n",
    "<br>Nombre d'heures supplémentaires            : 0  heures\n",
    "<br>Salaire heures de travail (normales)       : 17500.00 DZD\n",
    "<br>Salaire heures de travail supplémentaire   : 0.00 DZD\n",
    "<br>Salaire total                              : 17500.00 DZD\n",
    "<br>\n",
    "</p>\n",
    "\n",
    "**<center>Exemple d'exécution 2</center>**\n",
    "<p style=\"padding: 10px; border: 1px solid black;\">\n",
    "Nombre d'heures travaillées : 45\n",
    "<br>Taux horaire (DZD) : 500\n",
    "<br>\n",
    "<br>Nombre d'heures travaillées (normales)     : 40 heures\n",
    "<br>Nombre d'heures supplémentaires            : 5  heures\n",
    "<br>Salaire heures de travail (normales)       : 20000.00 DZD\n",
    "<br>Salaire heures de travail supplémentaire   :  3750.00 DZD\n",
    "<br>Salaire total                              : 23750.00 DZD\n",
    "<br>\n",
    "</p>"
   ]
  },
  {
   "cell_type": "code",
   "execution_count": null,
   "id": "1e5d7f46-a30a-4186-a936-23c5782f119c",
   "metadata": {},
   "outputs": [],
   "source": [
    "#My code\n",
    "a = int(input(\"Nombre d'heures travaillées: \"))\n",
    "b = float(input(\"Taux horaire(DZD): \"))\n",
    "\n",
    "x = 40\n",
    "\n",
    "if a <= x:\n",
    "    print(\"Nombre d'heures travaillées (normales):\", a, \"heures\")\n",
    "    print(\"Nombre d'heures supplémentaires: 0 heures\")\n",
    "    print(\"Salaire heures de travail (normales):\", format(a * b, \".2f\"), \"DZD\")\n",
    "    print(\"Salaire heures de travail supplémentaire: 0.00 DZD\")\n",
    "    print(\"Salaire total:\", format(a * b, \".2f\"), \"DZD\")\n",
    "else: \n",
    "    nrml = b * x\n",
    "    print(\"Nombre d'heures travaillées (normales):\", x, \"heures\")\n",
    "    c = a- x\n",
    "    print(\"Nombre d'heures supplémentaires:\", c, \"heures\")\n",
    "    print(\"Salaire heures de travail (normales):\", format(x * b, \".2f\"), \"DZD\")\n",
    "    b = b * c\n",
    "    sup = (b * 0.25) + b\n",
    "    print(\"Salaire heures de travail supplémentaire:\", format(sup, \".2f\"), \"DZD\" )\n",
    "    tot = sup + nrml\n",
    "    print(\"Salaire total:\", format(tot, \".2f\"), \"DZD\")"
   ]
  },
  {
   "cell_type": "markdown",
   "id": "aef433ae",
   "metadata": {},
   "source": []
  },
  {
   "cell_type": "markdown",
   "id": "c21108cd-4416-4bf2-9585-14567c379036",
   "metadata": {},
   "source": [
    "<img src=\"https://drive.google.com/uc?export=view&id=17Pda8_AO3DMgFg7C0RH6IOL56Hf0Cv_z\" title=\"Montagnes russes\" alt=\"Montagnes russes\" width=\"626\" height=\"300\">\n",
    "<b>Exercice 5 :</b> Écrire un programme qui permet à MostaLa... euh FSEI-Land (et oui, nous allons transformer la faculté en terrain de jeux) de déterminer si on peut vendre un ticket pour jouer aux montagnes russes en fonction de la taille de la personne ainsi que le prix du ticket comme expliqué dans la figure ci-dessous :\n",
    "<img src=\"https://drive.google.com/uc?export=view&id=1zq8jZpE04d-agYlXmKfNj2Uy5HUL3e_u\" title=\"Flow chart\" alt=\"Flow chart\" width=\"626\" height=\"353\">\n",
    "\n",
    "**<center>Exemple d'exécution</center>**\n",
    "<p style=\"padding: 10px; border: 1px solid black;\">\n",
    "Taille : 170\n",
    "<br>Age : 21\n",
    "<br>\n",
    "<br>Votre pouvez jouer aux montagnes russe. Le prix du ticket est 200DZD\n",
    "</p>"
   ]
  },
  {
   "cell_type": "code",
   "execution_count": null,
   "id": "1077a6e5-45de-46a8-9d7f-b78b83c0eeff",
   "metadata": {},
   "outputs": [],
   "source": [
    "#My code\n",
    "t = float(input(\"Taille:\"))\n",
    "a = int(input(\"Age:\"))\n",
    "\n",
    "if t > 120:\n",
    "    if a > 18:\n",
    "        print(\"Vous pouvez jouer aux montagnes russe. Le prix du ticket est 200DZD\")\n",
    "    else :\n",
    "        print(\"Vous pouvez jouer aux montagnes russe. Le prix du ticket est 100DZD\")\n",
    "else: \n",
    "    print(\"Vous ne pouvez pas jouer aux montagnes russe.\")\n"
   ]
  },
  {
   "cell_type": "markdown",
   "id": "cec6885d-ebd3-433d-af79-219e7f78885b",
   "metadata": {},
   "source": [
    "<b>Exercice 4 :</b> Une année est dite bissextile si elle comporte 366 jours au lieu de 365 pour une année ordinaire (non bissextile). Réalisez un programme qui vérifie si une année donnée est bissextile ou non. Ceci peut être réaliser en suivant les règles suivantes :\n",
    "1. Si l'année est divisible par 4, passer à l'étape 2 sinon passer à l'étape 5\n",
    "2. Si l'année est divisible par 100, aller à l'étape 3 sinon aller à l'étape 4\n",
    "3. Si l'année est divisible par 400, aller à l'étape 4 sinon aller à l'étape 5\n",
    "4. L'année est bissextile (comporte 366 jours)\n",
    "5. L'année n'est pas bissextile (comporte 365 jours)  \n",
    "\n",
    "Par exemple, les années 1996, 2000, 2020 sont bissextiles alors que 2001 ou 2022 ne le sont pas.\n",
    "**<center>Exemple d'exécution</center>**\n",
    "<p style=\"padding: 10px; border: 1px solid black;\">\n",
    "Année : 2022\n",
    "<br>\n",
    "<br>2022 n'est pas une année bissextile.\n",
    "</p>"
   ]
  },
  {
   "cell_type": "code",
   "execution_count": null,
   "id": "b4bbc0a1-cc89-4d86-b304-fef8e16491af",
   "metadata": {},
   "outputs": [],
   "source": [
    "#my code\n",
    "a = int(input(\"Année:\"))\n",
    "\n",
    "if a % 4 == 0:\n",
    "    if a % 100 == 0:\n",
    "        if a % 400 == 0:\n",
    "            print(a, \"est une année bissextile\")\n",
    "        else: \n",
    "            print(a, \"n'est pas une année bissextile\")\n",
    "    else:\n",
    "        print(a, \"est une année bissextile\")\n",
    "else:\n",
    "    print(a, \"n'est pas une année bissextile\")"
   ]
  },
  {
   "cell_type": "markdown",
   "id": "cf6e9c26-c2bd-4969-a963-d52c8a4a09fc",
   "metadata": {},
   "source": [
    "<b>Exercice 5 :</b> Nous voulons mettre en place une petite application qui permette à l'utilisateur de saisir son poids (kg) et sa taille (m), puis qui calcule et affiche son IMC (Indice de Masse Corporelle) avec un chiffre décimal. L'IMC est calculée comme suit :  \n",
    "$IMC = \\frac{poids (kg)}{taille^{2}(m)}$\n",
    "Le programme doit par la suite interpréter la valeur de l'IMC obtenu en suivant les règles suivantes :\n",
    "* Moins de 18,5 : Insuffisance pondérale (maigreur)\n",
    "* 18,5 à 25 : Corpulence normale\n",
    "* 25 à 30 : Surpoids\n",
    "* 30 à 35 : Obésité modérée\n",
    "* 35 à 40 : Obésité sévère\n",
    "* Plus de 40 : Obésité morbide ou massive\n",
    "\n",
    "*Source : https://www.topsante.com/outils/imc (consulté le 13/09/2022)*  \n",
    "\n",
    "**<center>Exemple d'exécution</center>**\n",
    "<p style=\"padding: 10px; border: 1px solid black;\">\n",
    "Poids : 85\n",
    "<br>Taille : 1.8\n",
    "<br>\n",
    "<br>Votre IMC est de 26.2 --> Surpoids\n",
    "</p>"
   ]
  },
  {
   "cell_type": "code",
   "execution_count": null,
   "id": "54ae4a8c-3ec7-4c75-a764-5b9687238a21",
   "metadata": {},
   "outputs": [],
   "source": [
    "#My code\n",
    "p = float(input(\"Poids: \"))\n",
    "t = float(input(\"Taille: \"))\n",
    "\n",
    "imc = p / (t ** 2)\n",
    "print(\"Votre IMC est de\", format(imc, \".1f\"), end=\" --> \")\n",
    "if imc < 18.5:\n",
    "    print(\"Insuffisance pondérale (maigreur)\")\n",
    "elif 18.5 <= imc < 25:\n",
    "    print(\"Corpulence normale\")\n",
    "elif 25 <= imc < 30:\n",
    "    print(\"Surpoids\")\n",
    "elif 30 <= imc < 35:\n",
    "    print(\"Obésité modérée\")\n",
    "elif 35 <= imc < 40:\n",
    "    print(\"Obésité sévère\")\n",
    "elif imc >= 40:\n",
    "    print(\"Obésité morbide ou massive\")"
   ]
  },
  {
   "cell_type": "markdown",
   "id": "9c901f04-6bd0-460a-8c84-97cc8cc94ddc",
   "metadata": {},
   "source": [
    "<b>Exercice 6 :</b> Vous avez terminé votre année universitaire, et vous décider de vous trouver un boulot à temps partiel; vous êtes chanceux(se), vous venez de vous trouver à un travail chez MostaPizza et vu que vous êtes un informaticien on vous demande de réaliser une application qui permettent de calculer le prix d'une pizza. En vous basant sur les prix mentionnés ci-dessous, créez un programme qui calcule et affiche le prix d'une pizza :\n",
    "* Petite pizza  : 200 DZD\n",
    "* Pizza moyenne : 300 DZD\n",
    "* Grande pizza  : 450 DZD\n",
    "* Pepperoni pour pour un petite pizza             : 30 DZD\n",
    "* Pepperoni pour pour un petite moyenne ou grande : 50 DZD\n",
    "* Extra fromage : 20 DZD\n",
    "\n",
    "<img src=\"https://drive.google.com/uc?export=view&id=1NgYCV6rqoiqBQPBerFuaoJNSObFtLi01\" title=\"Pizza\" alt=\"Pizza\" width=\"400\" height=\"400\">\n",
    "\n",
    "**<center>Exemple d'exécution</center>**\n",
    "<p style=\"padding: 10px; border: 1px solid black;\">\n",
    "Bienvenue à MostaPizza\n",
    "<br>Taille de la pizza (P/M/L) : M\n",
    "<br>Pepperoni ? (O/N) : O\n",
    "<br>Extra fromage ? (O/?) : O\n",
    "<br>Le montant à payer est : 370 DZD\n",
    "</p>\n",
    "\n"
   ]
  },
  {
   "cell_type": "code",
   "execution_count": null,
   "id": "eb63fa1d-5b93-47b1-86ab-85288f7f9c22",
   "metadata": {},
   "outputs": [],
   "source": [
    "#My code\n",
    "#to avoid case sensitivity\n",
    "tp = \"p\"\n",
    "tm = \"m\"\n",
    "tl = \"l\"\n",
    "\n",
    "oui = \"o\"\n",
    "non = \"n\"\n",
    "\n",
    "print(\"Bienvenue à MostaPizze\")\n",
    "#Show invalid if value entered is not in options\n",
    "while True:\n",
    "    t = input('Taille de la pizza (P/M/L): ')\n",
    "    p = input(\"Pepperoni ? (O/N): \")\n",
    "    f = input(\"Extra fromage ? (O/N): \")\n",
    "    if t.casefold() == tp.casefold() or t.casefold() == tm.casefold() or t.casefold() == tl.casefold():\n",
    "        if p.casefold() == oui.casefold() or p.casefold() == non.casefold():\n",
    "            if f.casefold() == oui.casefold() or f.casefold() == non.casefold():\n",
    "                break\n",
    "    else:\n",
    "        print(\"Sorry, invalid inputs. Try again \\n \\n\")\n",
    "        continue\n",
    "\n",
    "if t.casefold() == tp.casefold():\n",
    "    price = 200\n",
    "    if p.casefold() == oui.casefold():\n",
    "        price += 30\n",
    "elif t.casefold() == tm.casefold():\n",
    "    price = 300\n",
    "    if p.casefold() == oui.casefold():\n",
    "        price += 50\n",
    "elif t.casefold() == tl.casefold():\n",
    "    price = 450\n",
    "    if p.casefold() == oui.casefold():\n",
    "        price += 50\n",
    "        \n",
    "if f.casefold() == oui.casefold():\n",
    "    price += 20\n",
    "\n",
    "print(\"Le montant à payer est:\", price, \"DZD\")"
   ]
  },
  {
   "cell_type": "markdown",
   "id": "f480c672-9823-4a77-a5e0-9716ef585ebf",
   "metadata": {},
   "source": [
    "<b>Exercice 7 :</b> Refaite l'exercice sur le calcul de l'IMC qui vérifie que le poids est compris entre 10 et 120kg, alors que la taille varie entre 140 et 200cm. Si les valeurs en entrée ne sont pas correctes, affichez un message d'erreur sinon calculez et affichez l'IMC."
   ]
  },
  {
   "cell_type": "code",
   "execution_count": null,
   "id": "eb63fa1d-5b93-47b1-86ab-85288f7f9c22",
   "metadata": {},
   "outputs": [],
   "source": [
    "#My code\n",
    "while True:\n",
    "    p = float(input(\"Poids: \"))\n",
    "    t = float(input(\"Taille: \"))\n",
    "    if 10 <= p <= 120 and 1.4 <= t <= 2:\n",
    "        break\n",
    "    else:\n",
    "        print(\"Sorry, invalid input. Try again\")\n",
    "        continue\n",
    "\n",
    "imc = p / (t ** 2)\n",
    "print(\"Votre IMC est de\", format(imc, \".1f\"), end=\" --> \")\n",
    "if imc < 18.5:\n",
    "    print(\"Insuffisance pondérale (maigreur)\")\n",
    "elif 18.5 <= imc < 25:\n",
    "    print(\"Corpulence normale\")\n",
    "elif 25 <= imc < 30:\n",
    "    print(\"Surpoids\")\n",
    "elif 30 <= imc < 35:\n",
    "    print(\"Obésité modérée\")\n",
    "elif 35 <= imc < 40:\n",
    "    print(\"Obésité sévère\")\n",
    "elif imc >= 40:\n",
    "    print(\"Obésité morbide ou massive\")"
   ]
  },
  {
   "cell_type": "markdown",
   "id": "26f24a6e-a001-43c7-a266-0763549894b7",
   "metadata": {},
   "source": [
    "<b>Exercice 8 :</b> Écrire un programme qui demande à l'utilisateur de donner le nombre d'heures travaillées durant une semaine par un employé ainsi que son salaire horaire. Si l'employé plus de 40 heures, son salaire horaire est augmenté de 50% (pour les heures au delà de 40 heures).\n",
    "**<center>Exemple d'exécution 1</center>**\n",
    "<p style=\"padding: 10px; border: 1px solid black;\">\n",
    "Calcul Salaire\n",
    "<br>Nombre heures travaillées cette semaine : 35\n",
    "<br>Salaire horaire : 500\n",
    "<br>Votre salaire pour cette semaine est de 17500.00 DZD\n",
    "</p>\n",
    "\n",
    "**<center>Exemple d'exécution 2</center>**\n",
    "<p style=\"padding: 10px; border: 1px solid black;\">\n",
    "Calcul Salaire\n",
    "<br>Nombre heures travaillées cette semaine : 50\n",
    "<br>Salaire horaire : 500\n",
    "<br>Votre salaire pour cette semaine est de 27500.00 DZD\n",
    "</p>"
   ]
  },
  {
   "cell_type": "code",
   "execution_count": null,
   "id": "2c2ae3d8-525c-4ee1-826a-4f3a810f3d83",
   "metadata": {},
   "outputs": [],
   "source": [
    "#My code\n",
    "print('Calcul Salaire')\n",
    "while True:\n",
    "    try:\n",
    "        h = int(input(\"Nombre heures travaillées cette semaine: \"))\n",
    "        s = int(input(\"Salaire horaire\"))\n",
    "    except ValueError:\n",
    "        print(\"Sorry, Invalid input. Try again \\n \\n\")\n",
    "        continue\n",
    "    else:\n",
    "        break\n",
    "x = 40\n",
    "if h <= x:\n",
    "    pay = s * h\n",
    "else:\n",
    "    plus = h - x\n",
    "    pay = (x * s) + (plus * ((s * 0.50) + s))\n",
    "\n",
    "print('Votre salaire pour cette semaine est de', format(pay, \".2f\"), \"DZD\")"
   ]
  },
  {
   "cell_type": "markdown",
   "id": "bc50cd46-550a-4af7-89ee-b71d9ce52c82",
   "metadata": {},
   "source": [
    "<b>Exercice 9 :</b> Écrire un programme qui demande à l'utilisateur de saisir de nombres entiers et qui affiche le minimum et maximum."
   ]
  },
  {
   "cell_type": "code",
   "execution_count": null,
   "id": "229c54d2-459e-4449-b9ba-95e0bc154667",
   "metadata": {},
   "outputs": [],
   "source": [
    "#Mu code\n",
    "print('Calculate the Max & Min')\n",
    "while True:\n",
    "    try:\n",
    "        a = int(input(\"Enter first number: \"))\n",
    "        b = int(input(\"Enter second number: \"))\n",
    "    except ValueError:\n",
    "        print(\"Sorry, Invalid inputs. Try again \\n \\n\")\n",
    "        continue\n",
    "    else:\n",
    "        break\n",
    "if a > b:\n",
    "    print(a, 'is the maximum, and', b, \"is the minimum\")\n",
    "elif a < b:\n",
    "    print(b, 'is the maximum, and', a, \"is the minimum\")\n",
    "else:\n",
    "    print(\"The values\", a, \"and\", b, \"are equals\")"
   ]
  },
  {
   "cell_type": "markdown",
   "id": "dc72ff2c-282a-450d-bcdd-53c0bffd4f8e",
   "metadata": {},
   "source": [
    "<b>Mini projet :</b> Do I love him/her?\n",
    "\n",
    "<img src=\"https://drive.google.com/uc?export=view&id=1Kb6DYnW_mPnNk34LzGTVzYQt5_9nqNzh\" title=\"Love\" alt=\"Love\" width=\"444\" height=\"442\">\n",
    "\n",
    "Nous allons créer un programme qui teste le compatibilité entre deux personnes (Love Score). Afin de de calculer ce score il faut prendre les noms complets de deux personnes et calculer le nombre de fois où les lettre du mot TRUE apparaissent. Ensuite calculer le nombre de fois où les lettres du mot LOVE apparaissent. Combiner ces deux nombres afin d'obtenir un nombre à deux chiffres.\n",
    "\n",
    "Pour un \"love score\" inférieur à 10 ou supérieur à 90, affichez le message : \n",
    "\n",
    "`Votre score est de [love_score], vous êtes incompatibles comme huile sur eau`\n",
    "\n",
    "Pour un \"love score\" entre 40 et 50, affichez le message :  \n",
    "\n",
    "`Votre score est de [love_score], vous êtes faits l'un pour l'autre`  \n",
    "\n",
    "Sinon, affichez le message :  \n",
    "\n",
    "`Votre score est de [love_score]`  \n",
    "\n",
    "**<center>Exemple d'exécution</center>**\n",
    "<p style=\"padding: 10px; border: 1px solid black;\">\n",
    "CALCULATEUR D'AMOUR\n",
    "<br>Donner le premier nom : Amine\n",
    "<br>Donner le second nom : Nour Imene\n",
    "<br>Votre score est de 9, vous êtes incompatibles comme huile sur eau\n",
    "</p>\n",
    "\n",
    "Fonctions utiles :\n",
    "La foction `lower` permet de changer les lettres d'une chaîne de caractères en minuscules\n",
    "```python\n",
    "s = \"AbCd\"\n",
    "s = s.lower()\n",
    "print(s) #affichera abcd\n",
    "```\n",
    "La foction `count` compte le nombre d'apparition d'une caractères (ou chaîne) dans une chaîne de caractères\n",
    "```python\n",
    "s = \"hello\"\n",
    "n = s.count(\"l\")\n",
    "print(n) #affichera 2\n",
    "```"
   ]
  },
  {
   "cell_type": "code",
   "execution_count": null,
   "id": "6f19153d-e281-4ac6-9021-debaca559833",
   "metadata": {},
   "outputs": [],
   "source": [
    "#écrire votre code ici\n"
   ]
  },
  {
   "cell_type": "markdown",
   "id": "86f5c928-45e9-4207-a991-ef60d1c36c57",
   "metadata": {},
   "source": [
    "**WELL DONE!**  \n",
    "<img src=\"https://drive.google.com/uc?export=view&id=1XV3KmS-O2MLUDItlTp6Pi-jrCOvUYheM\" title=\"Keep going\" alt=\"Keep going\" width=\"444\" height=\"442\">"
   ]
  },
  {
   "cell_type": "markdown",
   "id": "7633473f-ce45-4976-946b-a3638321b03c",
   "metadata": {},
   "source": [
    "**<center>Évaluation : Merci d'évaluer ce chapitre en utilisant <a href=\"https://forms.gle/8XLpcQyPCoLb4u6C7\">ce lien</a>. Merci pour votre collaboration !</br></center>**"
   ]
  }
 ],
 "metadata": {
  "kernelspec": {
   "display_name": "Python 3 (ipykernel)",
   "language": "python",
   "name": "python3"
  },
  "language_info": {
   "codemirror_mode": {
    "name": "ipython",
    "version": 3
   },
   "file_extension": ".py",
   "mimetype": "text/x-python",
   "name": "python",
   "nbconvert_exporter": "python",
   "pygments_lexer": "ipython3",
   "version": "3.9.12"
  }
 },
 "nbformat": 4,
 "nbformat_minor": 5
}

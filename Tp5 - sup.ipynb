{
 "cells": [
  {
   "cell_type": "code",
   "execution_count": null,
   "metadata": {},
   "outputs": [
    {
     "ename": "",
     "evalue": "",
     "output_type": "error",
     "traceback": [
      "\u001b[1;31mLes cellules en cours d’exécution avec Python 3.11.0 64-bit nécessitent ipykernel package.\n",
      "\u001b[1;31mExécutez la commande suivante pour installer 'ipykernel' dans l’environnement Python. \n",
      "\u001b[1;31mCommande : 'c:/Users/YOGA/AppData/Local/Programs/Python/Python311/python.exe -m pip install ipykernel -U --user --force-reinstall'"
     ]
    }
   ],
   "source": [
    "name = input(\"Give me a name:\")\n",
    "a = \"Greetings, My name is \"\n",
    "b = \"The Software (or System) Development Life Cycle (SDLC) is a systematic approach that breaks the software process into phases--planning, analysis, design, implementation and maintenance.\"\n",
    "c = \"The design process focus on how the system or software product will be developed. The design phases may provide infrastructure and organizational changes for the new system, a data schema (relational schema), metadata (to define tables), a function hierarchy diagram, psuedocode for each module, or a protoype of the new system. \"\n",
    "print(a + name + '\\n' + b + '\\n' + c)\n",
    "print(\"Well, that is enough about SDLC! I am so happy you have come back!! I've got some new tricks I want to show you.\")\n",
    "\n",
    "def menu():\n",
    "    print(\"1 - Given a phrase, I can count the number of vowels in a phrase.\")\n",
    "    print(\"2 - Given a phrase, I can determine if a phrase is a palindrome.\")\n",
    "    print(\"3 - Given two sides of a right triangle, I can figure out the hypotenuse.\")\n",
    "    print(\"4 - Given three sides of a triangle, I can determine if it is a right triangle.\")\n",
    "    print(\"5 - Given three numbers, I can determine if the numbers could be the side of a triangle.\")\n",
    "    while True:\n",
    "        choose = int(input(\"Choose one of these tricks for me to perform:\"))\n",
    "        while 1 > choose > 6:\n",
    "            choose = int(input(\"Incorrect. Please choose one of the given values:\"))\n",
    "        if choose == 1:\n",
    "            phrase = input(\"Give me a phrase\")\n",
    "            print(countVowels(phrase))\n",
    "        elif choose == 6:\n",
    "            break\n",
    "\n",
    "def countVowels(phrase):\n",
    "    phrase = phrase.lower() \n",
    "    vowels_nbre = 0\n",
    "    for char in phrase:\n",
    "        if char in \"aeuio\":\n",
    "            vowels_nbre += 1\n",
    "    return phrase + ': \\n' + \"There are \" + str(vowels_nbre) + \" vowels in this phrase\"\n",
    "menu()"
   ]
  }
 ],
 "metadata": {
  "kernelspec": {
   "display_name": "Python 3.11.0 64-bit",
   "language": "python",
   "name": "python3"
  },
  "language_info": {
   "codemirror_mode": {
    "name": "ipython",
    "version": 3
   },
   "file_extension": ".py",
   "mimetype": "text/x-python",
   "name": "python",
   "nbconvert_exporter": "python",
   "pygments_lexer": "ipython3",
   "version": "3.11.0"
  },
  "orig_nbformat": 4,
  "vscode": {
   "interpreter": {
    "hash": "eb15da00ddf7abc474b86d37ac6c5c9c8600f29cd0032e6e2de527fbe08602fc"
   }
  }
 },
 "nbformat": 4,
 "nbformat_minor": 2
}
